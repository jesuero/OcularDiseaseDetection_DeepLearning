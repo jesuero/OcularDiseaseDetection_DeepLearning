{
 "cells": [
  {
   "cell_type": "markdown",
   "id": "-RrqyzE7-yR9",
   "metadata": {
    "id": "-RrqyzE7-yR9"
   },
   "source": [
    "## VGG16 Model. All categories\n",
    "\n",
    "For this notebook pretrained Vgg16 model will be used to predict the 8 categories of images."
   ]
  },
  {
   "cell_type": "markdown",
   "id": "-ehnQsIv-4N9",
   "metadata": {
    "id": "-ehnQsIv-4N9"
   },
   "source": [
    "### 00. Load libraries"
   ]
  },
  {
   "cell_type": "code",
   "execution_count": null,
   "id": "671b7100",
   "metadata": {
    "id": "671b7100"
   },
   "outputs": [],
   "source": [
    "import tensorflow as tf\n",
    "from tensorflow.keras.preprocessing.image import ImageDataGenerator\n",
    "from tensorflow.keras.models import Sequential, Model, load_model\n",
    "from tensorflow.keras.optimizers import Adam\n",
    "from tensorflow.keras.layers import Rescaling, Activation, Dropout, Flatten, Dense, GlobalMaxPooling2D, Conv2D, MaxPooling2D\n",
    "from tensorflow.keras.callbacks import EarlyStopping\n",
    "from tensorflow.keras.applications import VGG16\n",
    "\n",
    "import os\n",
    "import numpy as np\n",
    "\n",
    "import matplotlib.pyplot as plt\n",
    "import seaborn as sns\n",
    "\n",
    "\n",
    "from sklearn.metrics import confusion_matrix\n",
    "from sklearn.metrics import classification_report"
   ]
  },
  {
   "cell_type": "markdown",
   "id": "OUA_nFFg-7DF",
   "metadata": {
    "id": "OUA_nFFg-7DF"
   },
   "source": [
    "### 01. Load images\n",
    "The images are separated into train, test and validation using the function of keras call image_dataset_from_directory"
   ]
  },
  {
   "cell_type": "code",
   "execution_count": null,
   "id": "230bf783",
   "metadata": {
    "id": "230bf783"
   },
   "outputs": [],
   "source": [
    "train_dir = './labeled-images/train'\n",
    "test_dir = './labeled-images/test'\n",
    "\n",
    "BATCH_SIZE = 32\n",
    "IMG_HEIGHT = 264\n",
    "IMG_WIDTH = 264\n",
    "EPOCHS = 100\n",
    "#EPOCHS = 5\n",
    "\n",
    "input_shape = (IMG_WIDTH, IMG_HEIGHT, 3)"
   ]
  },
  {
   "cell_type": "code",
   "execution_count": null,
   "id": "62f81500",
   "metadata": {
    "colab": {
     "base_uri": "https://localhost:8080/"
    },
    "id": "62f81500",
    "outputId": "00d4ab49-fd0a-49b4-cc39-87db946aa46d"
   },
   "outputs": [
    {
     "name": "stdout",
     "output_type": "stream",
     "text": [
      "Found 5752 files belonging to 8 classes.\n",
      "Using 4602 files for training.\n",
      "Found 5752 files belonging to 8 classes.\n",
      "Using 1150 files for validation.\n",
      "Found 640 files belonging to 8 classes.\n"
     ]
    }
   ],
   "source": [
    "# Creating generators (prepare data to feed the model)\n",
    "training_generator = tf.keras.utils.image_dataset_from_directory(\n",
    "    train_dir,\n",
    "    labels='inferred',\n",
    "    label_mode='categorical',\n",
    "    batch_size=BATCH_SIZE,\n",
    "    image_size=(IMG_WIDTH, IMG_HEIGHT),\n",
    "    shuffle=True,\n",
    "    seed=432,\n",
    "    validation_split=0.2,\n",
    "    subset='training',\n",
    ")\n",
    "\n",
    "validation_generator = tf.keras.utils.image_dataset_from_directory(\n",
    "    train_dir,\n",
    "    labels='inferred',\n",
    "    label_mode='categorical',\n",
    "    batch_size=BATCH_SIZE,\n",
    "    image_size=(IMG_WIDTH, IMG_HEIGHT),\n",
    "    shuffle=True,\n",
    "    seed=432,\n",
    "    validation_split=0.2,\n",
    "    subset='validation',\n",
    ")\n",
    "\n",
    "test_generator = tf.keras.utils.image_dataset_from_directory(\n",
    "    test_dir,\n",
    "    labels='inferred',\n",
    "    label_mode='categorical',\n",
    "    shuffle=False,\n",
    "    batch_size=BATCH_SIZE,\n",
    "    image_size=(IMG_WIDTH, IMG_HEIGHT),\n",
    "    seed=432,\n",
    ")"
   ]
  },
  {
   "cell_type": "markdown",
   "id": "t97uZYhI--6F",
   "metadata": {
    "id": "t97uZYhI--6F"
   },
   "source": [
    "### 02. Model architecture\n",
    "\n",
    "Loading of pretrained VGG16 model with imagenet and creation of the architecture."
   ]
  },
  {
   "cell_type": "code",
   "execution_count": null,
   "id": "VJKcQB-RdFuD",
   "metadata": {
    "colab": {
     "base_uri": "https://localhost:8080/"
    },
    "id": "VJKcQB-RdFuD",
    "outputId": "ffb2e12f-8909-486c-86f9-478528e7e461"
   },
   "outputs": [
    {
     "name": "stdout",
     "output_type": "stream",
     "text": [
      "Downloading data from https://storage.googleapis.com/tensorflow/keras-applications/vgg16/vgg16_weights_tf_dim_ordering_tf_kernels_notop.h5\n",
      "58892288/58889256 [==============================] - 0s 0us/step\n",
      "58900480/58889256 [==============================] - 0s 0us/step\n"
     ]
    }
   ],
   "source": [
    "pretrained = VGG16(weights='imagenet', include_top=False)"
   ]
  },
  {
   "cell_type": "code",
   "execution_count": null,
   "id": "47bcc426",
   "metadata": {
    "colab": {
     "base_uri": "https://localhost:8080/"
    },
    "id": "47bcc426",
    "outputId": "9acd09d0-8676-42b0-d17e-cf8b4bb12047"
   },
   "outputs": [
    {
     "name": "stdout",
     "output_type": "stream",
     "text": [
      "Model: \"sequential\"\n",
      "_________________________________________________________________\n",
      " Layer (type)                Output Shape              Param #   \n",
      "=================================================================\n",
      " rescaling (Rescaling)       (None, 264, 264, 3)       0         \n",
      "                                                                 \n",
      " vgg16 (Functional)          (None, None, None, 512)   14714688  \n",
      "                                                                 \n",
      " flatten (Flatten)           (None, 32768)             0         \n",
      "                                                                 \n",
      " dense (Dense)               (None, 256)               8388864   \n",
      "                                                                 \n",
      " dense_1 (Dense)             (None, 256)               65792     \n",
      "                                                                 \n",
      " dense_2 (Dense)             (None, 8)                 2056      \n",
      "                                                                 \n",
      " activation (Activation)     (None, 8)                 0         \n",
      "                                                                 \n",
      "=================================================================\n",
      "Total params: 23,171,400\n",
      "Trainable params: 23,171,400\n",
      "Non-trainable params: 0\n",
      "_________________________________________________________________\n"
     ]
    }
   ],
   "source": [
    "model = Sequential()\n",
    "\n",
    "model.add(Rescaling(1./255, input_shape=input_shape))\n",
    "\n",
    "model.add(pretrained)\n",
    "\n",
    "model.add(Flatten())\n",
    "model.add(Dense(256, activation='relu'))\n",
    "\n",
    "model.add(Dense(256, activation='relu'))\n",
    "#model.add(Dropout(0.5))\n",
    "\n",
    "model.add(Dense(8))\n",
    "model.add(Activation('softmax'))\n",
    "\n",
    "model.summary()"
   ]
  },
  {
   "cell_type": "markdown",
   "id": "9sIAkSEv_HXN",
   "metadata": {
    "id": "9sIAkSEv_HXN"
   },
   "source": [
    "### 03. Weight adjustment\n",
    "As observed in the EDA, the classes were not balanced. In order for the model not to over-train, higher weights are given to those classes with fewer samples."
   ]
  },
  {
   "cell_type": "code",
   "execution_count": null,
   "id": "G6Mja-BsWbsv",
   "metadata": {
    "colab": {
     "base_uri": "https://localhost:8080/"
    },
    "id": "G6Mja-BsWbsv",
    "outputId": "2d7572d1-c774-4fad-eaa8-82f5c94d94eb"
   },
   "outputs": [
    {
     "name": "stdout",
     "output_type": "stream",
     "text": [
      "['A', 'C', 'D', 'G', 'H', 'M', 'N', 'O']\n",
      "[239, 264, 1447, 256, 115, 209, 2585, 637]\n",
      "[4.906118628814432, 4.6679760067935225, 1.9949937343260002, 4.740253157796532, 7.07248188403477, 5.2459508194416005, 1.493318452306808, 3.004995840263344]\n"
     ]
    }
   ],
   "source": [
    "cat_list = os.listdir('./labeled-images/train/')\n",
    "cat_list.sort()\n",
    "\n",
    "lenghts = [len(os.listdir('./labeled-images/train/'+cat)) for cat in cat_list]\n",
    "total_train_images = np.sum(lenghts)\n",
    "\n",
    "weights = list(np.sqrt(np.round(1/(np.array(lenghts) / total_train_images),2)))\n",
    "\n",
    "print(cat_list)\n",
    "print(lenghts)\n",
    "print(weights)"
   ]
  },
  {
   "cell_type": "markdown",
   "id": "dFO5D6Zp_Lh0",
   "metadata": {
    "id": "dFO5D6Zp_Lh0"
   },
   "source": [
    "### 04. Model train\n",
    "We add earlystopping in order to keep the best model. If the model gets worse with increasing iterations, we will keep the best one.\n",
    "\n",
    "For the learning_rate, a small value (0.001) is set so that the different combinations of parameters can be correctly explored until the optimum is reached.\n",
    "\n",
    "The number of epochs was set at 100 in order to appreciate the evolution of the model during training."
   ]
  },
  {
   "cell_type": "code",
   "execution_count": null,
   "id": "vpA4D25zXTsy",
   "metadata": {
    "id": "vpA4D25zXTsy"
   },
   "outputs": [],
   "source": [
    "patience = 20\n",
    "\n",
    "#early_stopping = EarlyStopping(monitor='val_loss', patience=patience, restore_best_weights=True)\n",
    "early_stopping = EarlyStopping(monitor='loss', patience=patience, restore_best_weights=True)"
   ]
  },
  {
   "cell_type": "code",
   "execution_count": null,
   "id": "_PbjSoGXc_jI",
   "metadata": {
    "id": "_PbjSoGXc_jI"
   },
   "outputs": [],
   "source": [
    "# freeze vgg16\n",
    "pretrained.trainable = False\n",
    "\n",
    "model.compile(loss='categorical_crossentropy', loss_weights=weights,\n",
    "            optimizer=Adam(learning_rate=0.001),\n",
    "            metrics=['accuracy'])"
   ]
  },
  {
   "cell_type": "code",
   "execution_count": null,
   "id": "91a155d0",
   "metadata": {
    "colab": {
     "base_uri": "https://localhost:8080/"
    },
    "id": "91a155d0",
    "outputId": "7fb1f460-04a5-4aaa-b3ad-0d0d66069e54"
   },
   "outputs": [
    {
     "name": "stdout",
     "output_type": "stream",
     "text": [
      "Epoch 1/100\n",
      "4/4 [==============================] - 337s 73s/step - loss: 21.7885 - accuracy: 0.2422 - val_loss: 23.5541 - val_accuracy: 0.4375\n",
      "Epoch 2/100\n",
      "4/4 [==============================] - 113s 30s/step - loss: 28.4890 - accuracy: 0.2500 - val_loss: 32.1077 - val_accuracy: 0.1250\n",
      "Epoch 3/100\n",
      "4/4 [==============================] - 111s 30s/step - loss: 16.0422 - accuracy: 0.3672 - val_loss: 16.9142 - val_accuracy: 0.1875\n",
      "Epoch 4/100\n",
      "4/4 [==============================] - 111s 30s/step - loss: 14.5666 - accuracy: 0.3203 - val_loss: 11.3766 - val_accuracy: 0.4688\n",
      "Epoch 5/100\n",
      "4/4 [==============================] - 112s 30s/step - loss: 10.4868 - accuracy: 0.3750 - val_loss: 8.8185 - val_accuracy: 0.2188\n",
      "Epoch 6/100\n",
      "4/4 [==============================] - 111s 30s/step - loss: 8.1220 - accuracy: 0.3672 - val_loss: 9.5241 - val_accuracy: 0.3438\n",
      "Epoch 7/100\n",
      "4/4 [==============================] - 111s 30s/step - loss: 7.7525 - accuracy: 0.4531 - val_loss: 8.4906 - val_accuracy: 0.4062\n",
      "Epoch 8/100\n",
      "4/4 [==============================] - 111s 30s/step - loss: 7.2863 - accuracy: 0.4609 - val_loss: 5.4835 - val_accuracy: 0.5312\n",
      "Epoch 9/100\n",
      "4/4 [==============================] - 111s 30s/step - loss: 6.9866 - accuracy: 0.5312 - val_loss: 9.3523 - val_accuracy: 0.4375\n",
      "Epoch 10/100\n",
      "4/4 [==============================] - 111s 30s/step - loss: 7.9497 - accuracy: 0.4062 - val_loss: 6.9303 - val_accuracy: 0.3750\n",
      "Epoch 11/100\n",
      "4/4 [==============================] - 111s 30s/step - loss: 7.0563 - accuracy: 0.4219 - val_loss: 8.3502 - val_accuracy: 0.5000\n",
      "Epoch 12/100\n",
      "4/4 [==============================] - 111s 30s/step - loss: 7.6407 - accuracy: 0.4766 - val_loss: 7.0998 - val_accuracy: 0.3750\n",
      "Epoch 13/100\n",
      "4/4 [==============================] - 112s 30s/step - loss: 8.3009 - accuracy: 0.3281 - val_loss: 7.2761 - val_accuracy: 0.5938\n",
      "Epoch 14/100\n",
      "4/4 [==============================] - 111s 30s/step - loss: 7.5209 - accuracy: 0.4375 - val_loss: 7.0807 - val_accuracy: 0.5000\n",
      "Epoch 15/100\n",
      "4/4 [==============================] - 112s 30s/step - loss: 7.3073 - accuracy: 0.4453 - val_loss: 7.9729 - val_accuracy: 0.4062\n",
      "Epoch 16/100\n",
      "4/4 [==============================] - 112s 30s/step - loss: 7.9462 - accuracy: 0.4297 - val_loss: 6.1097 - val_accuracy: 0.5000\n",
      "Epoch 17/100\n",
      "4/4 [==============================] - 111s 30s/step - loss: 6.9180 - accuracy: 0.5547 - val_loss: 5.9362 - val_accuracy: 0.6250\n",
      "Epoch 18/100\n",
      "4/4 [==============================] - 111s 30s/step - loss: 7.0290 - accuracy: 0.4766 - val_loss: 6.4048 - val_accuracy: 0.4375\n",
      "Epoch 19/100\n",
      "4/4 [==============================] - 112s 30s/step - loss: 6.4670 - accuracy: 0.5391 - val_loss: 6.1241 - val_accuracy: 0.5625\n",
      "Epoch 20/100\n",
      "4/4 [==============================] - 112s 30s/step - loss: 6.9880 - accuracy: 0.4609 - val_loss: 7.2482 - val_accuracy: 0.4375\n",
      "Epoch 21/100\n",
      "4/4 [==============================] - 111s 30s/step - loss: 7.7716 - accuracy: 0.3203 - val_loss: 6.0827 - val_accuracy: 0.5625\n",
      "Epoch 22/100\n",
      "4/4 [==============================] - 111s 30s/step - loss: 6.8998 - accuracy: 0.4688 - val_loss: 5.7737 - val_accuracy: 0.6562\n",
      "Epoch 23/100\n",
      "4/4 [==============================] - 111s 30s/step - loss: 6.2690 - accuracy: 0.4531 - val_loss: 6.8242 - val_accuracy: 0.3750\n",
      "Epoch 24/100\n",
      "4/4 [==============================] - 112s 30s/step - loss: 7.7091 - accuracy: 0.3906 - val_loss: 4.5068 - val_accuracy: 0.6875\n",
      "Epoch 25/100\n",
      "4/4 [==============================] - 112s 30s/step - loss: 6.5189 - accuracy: 0.4609 - val_loss: 5.1478 - val_accuracy: 0.5625\n",
      "Epoch 26/100\n",
      "4/4 [==============================] - 111s 30s/step - loss: 6.9581 - accuracy: 0.5156 - val_loss: 5.8293 - val_accuracy: 0.5625\n",
      "Epoch 27/100\n",
      "4/4 [==============================] - 111s 30s/step - loss: 7.0837 - accuracy: 0.4531 - val_loss: 5.9739 - val_accuracy: 0.5625\n",
      "Epoch 28/100\n",
      "4/4 [==============================] - 111s 30s/step - loss: 6.6329 - accuracy: 0.4062 - val_loss: 6.4671 - val_accuracy: 0.5312\n",
      "Epoch 29/100\n",
      "4/4 [==============================] - 112s 30s/step - loss: 6.7876 - accuracy: 0.4609 - val_loss: 7.2520 - val_accuracy: 0.4375\n",
      "Epoch 30/100\n",
      "4/4 [==============================] - 112s 30s/step - loss: 6.6025 - accuracy: 0.4453 - val_loss: 6.6083 - val_accuracy: 0.3438\n",
      "Epoch 31/100\n",
      "4/4 [==============================] - 111s 30s/step - loss: 6.8253 - accuracy: 0.4219 - val_loss: 5.0920 - val_accuracy: 0.5625\n",
      "Epoch 32/100\n",
      "4/4 [==============================] - 113s 30s/step - loss: 7.1285 - accuracy: 0.4688 - val_loss: 5.5714 - val_accuracy: 0.5625\n",
      "Epoch 33/100\n",
      "4/4 [==============================] - 115s 31s/step - loss: 6.6252 - accuracy: 0.5234 - val_loss: 5.4168 - val_accuracy: 0.6562\n",
      "Epoch 34/100\n",
      "4/4 [==============================] - 112s 30s/step - loss: 6.1287 - accuracy: 0.5312 - val_loss: 6.1709 - val_accuracy: 0.5000\n",
      "Epoch 35/100\n",
      "4/4 [==============================] - 112s 30s/step - loss: 7.2299 - accuracy: 0.4609 - val_loss: 6.5814 - val_accuracy: 0.3750\n",
      "Epoch 36/100\n",
      "4/4 [==============================] - 107s 28s/step - loss: 6.9011 - accuracy: 0.4836 - val_loss: 6.3834 - val_accuracy: 0.6250\n",
      "Epoch 37/100\n",
      "WARNING:tensorflow:Your input ran out of data; interrupting training. Make sure that your dataset or generator can generate at least `steps_per_epoch * epochs` batches (in this case, 400 batches). You may need to use the repeat() function when building your dataset.\n",
      "4/4 [==============================] - 23s 6s/step - loss: 6.9011 - accuracy: 0.4836 - val_loss: 6.6606 - val_accuracy: 0.5000\n"
     ]
    }
   ],
   "source": [
    "# Training\n",
    "history = model.fit(\n",
    "    training_generator,\n",
    "    steps_per_epoch=len(training_generator) // BATCH_SIZE,\n",
    "    epochs=EPOCHS,\n",
    "    validation_data=validation_generator,\n",
    "    validation_steps=len(validation_generator) // BATCH_SIZE,\n",
    "    verbose=1,\n",
    "    callbacks = [early_stopping])"
   ]
  },
  {
   "cell_type": "code",
   "execution_count": null,
   "id": "scCd6YtS2Agv",
   "metadata": {
    "id": "scCd6YtS2Agv"
   },
   "outputs": [],
   "source": [
    "model.save('vgg16-100epoch-freeze.h5')"
   ]
  },
  {
   "cell_type": "markdown",
   "id": "mNBnIXZd_QkE",
   "metadata": {
    "id": "mNBnIXZd_QkE"
   },
   "source": [
    "### 05. Analysis of results"
   ]
  },
  {
   "cell_type": "code",
   "execution_count": null,
   "id": "b7eaf27a",
   "metadata": {
    "colab": {
     "base_uri": "https://localhost:8080/",
     "height": 295
    },
    "id": "b7eaf27a",
    "outputId": "77bd8c43-b38a-466c-9c2b-ce3e3d8050e0"
   },
   "outputs": [
    {
     "data": {
      "image/png": "[encoded data removed]",
      "text/plain": [
       "<Figure size 432x288 with 1 Axes>"
      ]
     },
     "metadata": {
      "needs_background": "light"
     },
     "output_type": "display_data"
    }
   ],
   "source": [
    "# summarize history for accuracy\n",
    "plt.plot(history.history['accuracy'])\n",
    "plt.plot(history.history['val_accuracy'])\n",
    "plt.title('model accuracy')\n",
    "plt.ylabel('accuracy')\n",
    "plt.xlabel('epoch')\n",
    "plt.legend(['train', 'test'], loc='upper left')\n",
    "plt.show()"
   ]
  },
  {
   "cell_type": "markdown",
   "id": "eqZicshDTZpr",
   "metadata": {
    "id": "eqZicshDTZpr"
   },
   "source": [
    "Throughout the training it is observed that the trend of the accuracy is increasing, so it seems that it is learning, although the values it takes are very low and therefore it is not a valid model."
   ]
  },
  {
   "cell_type": "code",
   "execution_count": null,
   "id": "86ae19f8",
   "metadata": {
    "colab": {
     "base_uri": "https://localhost:8080/",
     "height": 295
    },
    "id": "86ae19f8",
    "outputId": "dae15c26-d747-4be3-a2b9-f869bd7c35aa"
   },
   "outputs": [
    {
     "data": {
      "image/png": "[encoded data removed]",
      "text/plain": [
       "<Figure size 432x288 with 1 Axes>"
      ]
     },
     "metadata": {
      "needs_background": "light"
     },
     "output_type": "display_data"
    }
   ],
   "source": [
    "# summarize history for loss\n",
    "plt.plot(history.history['loss'][1:])\n",
    "plt.plot(history.history['val_loss'][1:])\n",
    "plt.title('model loss')\n",
    "plt.ylabel('loss')\n",
    "plt.xlabel('epoch')\n",
    "plt.legend(['train', 'test'], loc='upper left')\n",
    "plt.show()"
   ]
  },
  {
   "cell_type": "markdown",
   "id": "84jYZeec_aud",
   "metadata": {
    "id": "84jYZeec_aud"
   },
   "source": [
    "The evolution of the loss is very good since it decreases throughout the training and the value it takes is low. In spite of this, as mentioned above, the accuracy is low."
   ]
  },
  {
   "cell_type": "code",
   "execution_count": null,
   "id": "y46oLQtN2GIK",
   "metadata": {
    "id": "y46oLQtN2GIK"
   },
   "outputs": [],
   "source": [
    "model = load_model('vgg16-100epoch-freeze.h5')"
   ]
  },
  {
   "cell_type": "code",
   "execution_count": null,
   "id": "7be4aa82",
   "metadata": {
    "id": "7be4aa82"
   },
   "outputs": [],
   "source": [
    "## Predict on test data\n",
    "y_pred = model.predict(test_generator)"
   ]
  },
  {
   "cell_type": "code",
   "execution_count": null,
   "id": "Ny90-1_ykptA",
   "metadata": {
    "id": "Ny90-1_ykptA"
   },
   "outputs": [],
   "source": [
    "test_labels = []\n",
    "for image_batch, labels_batch in test_generator:\n",
    "  for vector in labels_batch:\n",
    "    test_labels.append(vector.numpy().astype(int))\n",
    "\n",
    "y_real = np.array(test_labels)"
   ]
  },
  {
   "cell_type": "code",
   "execution_count": null,
   "id": "dza4HvSe7hya",
   "metadata": {
    "id": "dza4HvSe7hya"
   },
   "outputs": [],
   "source": [
    "y_pred_class = y_pred.argmax(axis=1)"
   ]
  },
  {
   "cell_type": "code",
   "execution_count": null,
   "id": "w4xGfy2p9FhV",
   "metadata": {
    "id": "w4xGfy2p9FhV"
   },
   "outputs": [],
   "source": [
    "y_real_class = y_real.argmax(axis=1)"
   ]
  },
  {
   "cell_type": "code",
   "execution_count": null,
   "id": "2h7VR_MYoA-I",
   "metadata": {
    "colab": {
     "base_uri": "https://localhost:8080/",
     "height": 313
    },
    "id": "2h7VR_MYoA-I",
    "outputId": "e86f21ba-2adb-47e6-c3fe-01029c84c030"
   },
   "outputs": [
    {
     "data": {
      "text/plain": [
       "Text(33.0, 0.5, 'Truth')"
      ]
     },
     "execution_count": 19,
     "metadata": {},
     "output_type": "execute_result"
    },
    {
     "data": {
      "image/png": "[encoded data removed]",
      "text/plain": [
       "<Figure size 432x288 with 2 Axes>"
      ]
     },
     "metadata": {
      "needs_background": "light"
     },
     "output_type": "display_data"
    }
   ],
   "source": [
    "labels = ['A', 'C', 'D', 'G', 'H', 'M', 'N', 'O']\n",
    "\n",
    "cf_matrix = confusion_matrix(y_real_class, y_pred_class)\n",
    "sns.heatmap(cf_matrix, annot=True, xticklabels=labels, yticklabels=labels, fmt='d')\n",
    "plt.title('Matriz de confusión conjunto de test')\n",
    "plt.xlabel('Predicted')\n",
    "plt.ylabel('Truth')"
   ]
  },
  {
   "cell_type": "markdown",
   "id": "AzUt4vjo_t7R",
   "metadata": {
    "id": "AzUt4vjo_t7R"
   },
   "source": [
    "In this case, Cataract and Myopia are detected with quite good precission. \n",
    "\n",
    "In spite of this, many images are classified in the normal class that do not correspond to this class and therefore this model could not be considered valid."
   ]
  },
  {
   "cell_type": "code",
   "execution_count": null,
   "id": "8KPBOwn1Y81T",
   "metadata": {
    "colab": {
     "base_uri": "https://localhost:8080/"
    },
    "id": "8KPBOwn1Y81T",
    "outputId": "a4a8ee48-40aa-4a6c-f0c8-21650a2998ab"
   },
   "outputs": [
    {
     "name": "stdout",
     "output_type": "stream",
     "text": [
      "              precision    recall  f1-score   support\n",
      "\n",
      "           A       0.00      0.00      0.00        27\n",
      "           C       0.71      0.76      0.73        29\n",
      "           D       0.00      0.00      0.00       161\n",
      "           G       0.00      0.00      0.00        28\n",
      "           H       0.00      0.00      0.00        13\n",
      "           M       0.88      0.65      0.75        23\n",
      "           N       0.47      0.98      0.64       288\n",
      "           O       0.00      0.00      0.00        71\n",
      "\n",
      "    accuracy                           0.50       640\n",
      "   macro avg       0.26      0.30      0.27       640\n",
      "weighted avg       0.28      0.50      0.35       640\n",
      "\n"
     ]
    },
    {
     "name": "stderr",
     "output_type": "stream",
     "text": [
      "/usr/local/lib/python3.7/dist-packages/sklearn/metrics/_classification.py:1318: UndefinedMetricWarning: Precision and F-score are ill-defined and being set to 0.0 in labels with no predicted samples. Use `zero_division` parameter to control this behavior.\n",
      "  _warn_prf(average, modifier, msg_start, len(result))\n",
      "/usr/local/lib/python3.7/dist-packages/sklearn/metrics/_classification.py:1318: UndefinedMetricWarning: Precision and F-score are ill-defined and being set to 0.0 in labels with no predicted samples. Use `zero_division` parameter to control this behavior.\n",
      "  _warn_prf(average, modifier, msg_start, len(result))\n",
      "/usr/local/lib/python3.7/dist-packages/sklearn/metrics/_classification.py:1318: UndefinedMetricWarning: Precision and F-score are ill-defined and being set to 0.0 in labels with no predicted samples. Use `zero_division` parameter to control this behavior.\n",
      "  _warn_prf(average, modifier, msg_start, len(result))\n"
     ]
    }
   ],
   "source": [
    "print(classification_report(y_real_class, y_pred_class, target_names=labels))"
   ]
  }
 ],
 "metadata": {
  "colab": {
   "collapsed_sections": [],
   "name": "05_VGG16.ipynb",
   "provenance": []
  },
  "kernelspec": {
   "display_name": "Python 3",
   "language": "python",
   "name": "python3"
  },
  "language_info": {
   "codemirror_mode": {
    "name": "ipython",
    "version": 3
   },
   "file_extension": ".py",
   "mimetype": "text/x-python",
   "name": "python",
   "nbconvert_exporter": "python",
   "pygments_lexer": "ipython3",
   "version": "3.8.8"
  }
 },
 "nbformat": 4,
 "nbformat_minor": 5
}

{
 "cells": [
  {
   "cell_type": "markdown",
   "id": "AvaqdIxbCdMu",
   "metadata": {
    "id": "AvaqdIxbCdMu"
   },
   "source": [
    "## VGG Model for binary classification between Cataract (C) and Normal (N) classes\n",
    "\n",
    "For this notebook pretained VGG16 model will be used to predict between Cataract and Normal categories.\n",
    "\n",
    "The images have been flipped vertically so that both the right and left eyes have look similar."
   ]
  },
  {
   "cell_type": "markdown",
   "id": "3ttt10dPCrDk",
   "metadata": {
    "id": "3ttt10dPCrDk"
   },
   "source": [
    "### 00. Load libraries"
   ]
  },
  {
   "cell_type": "code",
   "execution_count": null,
   "id": "671b7100",
   "metadata": {
    "id": "671b7100"
   },
   "outputs": [],
   "source": [
    "import tensorflow as tf\n",
    "from tensorflow.keras.preprocessing.image import ImageDataGenerator\n",
    "from tensorflow.keras.models import Sequential, Model, load_model\n",
    "from tensorflow.keras.optimizers import Adam\n",
    "from tensorflow.keras.layers import Rescaling, Activation, Dropout, Flatten, Dense, GlobalMaxPooling2D, Conv2D, MaxPooling2D\n",
    "from tensorflow.keras.callbacks import EarlyStopping\n",
    "from tensorflow.keras.applications import VGG16\n",
    "\n",
    "import os\n",
    "import numpy as np\n",
    "\n",
    "import matplotlib.pyplot as plt\n",
    "import seaborn as sns\n",
    "\n",
    "from sklearn.metrics import confusion_matrix\n",
    "from sklearn.metrics import classification_report"
   ]
  },
  {
   "cell_type": "markdown",
   "id": "VBA7nu8zC2K-",
   "metadata": {
    "id": "VBA7nu8zC2K-"
   },
   "source": [
    "### 01. Load images\n",
    "The images are separated into train, test and validation using the function of keras call image_dataset_from_directory"
   ]
  },
  {
   "cell_type": "code",
   "execution_count": null,
   "id": "230bf783",
   "metadata": {
    "id": "230bf783"
   },
   "outputs": [],
   "source": [
    "train_dir = './N_C_labeled-images-flipped/train'\n",
    "test_dir = './N_C_labeled-images-flipped/test'\n",
    "\n",
    "BATCH_SIZE = 32\n",
    "IMG_HEIGHT = 264\n",
    "IMG_WIDTH = 264\n",
    "EPOCHS = 100\n",
    "\n",
    "input_shape = (IMG_WIDTH, IMG_HEIGHT, 3)"
   ]
  },
  {
   "cell_type": "code",
   "execution_count": null,
   "id": "62f81500",
   "metadata": {
    "colab": {
     "base_uri": "https://localhost:8080/"
    },
    "id": "62f81500",
    "outputId": "36e474f6-6b95-4015-977a-40e59c517ed1"
   },
   "outputs": [
    {
     "name": "stdout",
     "output_type": "stream",
     "text": [
      "Found 1762 files belonging to 2 classes.\n",
      "Using 1410 files for training.\n",
      "Found 1762 files belonging to 2 classes.\n",
      "Using 352 files for validation.\n",
      "Found 129 files belonging to 2 classes.\n"
     ]
    }
   ],
   "source": [
    "# Creating generators (prepare data to feed the model)\n",
    "training_generator = tf.keras.utils.image_dataset_from_directory(\n",
    "    train_dir,\n",
    "    labels='inferred',\n",
    "    label_mode='binary',\n",
    "    batch_size=BATCH_SIZE,\n",
    "    image_size=(IMG_WIDTH, IMG_HEIGHT),\n",
    "    shuffle=True,\n",
    "    seed=432,\n",
    "    validation_split=0.2,\n",
    "    subset='training',\n",
    ")\n",
    "\n",
    "validation_generator = tf.keras.utils.image_dataset_from_directory(\n",
    "    train_dir,\n",
    "    labels='inferred',\n",
    "    label_mode='binary',\n",
    "    batch_size=BATCH_SIZE,\n",
    "    image_size=(IMG_WIDTH, IMG_HEIGHT),\n",
    "    shuffle=True,\n",
    "    seed=432,\n",
    "    validation_split=0.2,\n",
    "    subset='validation',\n",
    ")\n",
    "\n",
    "test_generator = tf.keras.utils.image_dataset_from_directory(\n",
    "    test_dir,\n",
    "    labels='inferred',\n",
    "    label_mode='binary',\n",
    "    shuffle=False,\n",
    "    batch_size=BATCH_SIZE,\n",
    "    image_size=(IMG_WIDTH, IMG_HEIGHT),\n",
    "    seed=432,\n",
    ")"
   ]
  },
  {
   "cell_type": "markdown",
   "id": "VooYHEN7C7Jk",
   "metadata": {
    "id": "VooYHEN7C7Jk"
   },
   "source": [
    "### 02. Model architecture\n",
    "\n",
    "Loading of pretrained VGG16 model with imagenet and creating the architecture."
   ]
  },
  {
   "cell_type": "code",
   "execution_count": null,
   "id": "VJKcQB-RdFuD",
   "metadata": {
    "id": "VJKcQB-RdFuD"
   },
   "outputs": [],
   "source": [
    "pretrained = VGG16(weights='imagenet', include_top=False)"
   ]
  },
  {
   "cell_type": "code",
   "execution_count": null,
   "id": "47bcc426",
   "metadata": {
    "colab": {
     "base_uri": "https://localhost:8080/"
    },
    "id": "47bcc426",
    "outputId": "23a70dcb-3d7a-427d-86de-8210f22f4214"
   },
   "outputs": [
    {
     "name": "stdout",
     "output_type": "stream",
     "text": [
      "Model: \"sequential_1\"\n",
      "_________________________________________________________________\n",
      " Layer (type)                Output Shape              Param #   \n",
      "=================================================================\n",
      " rescaling_1 (Rescaling)     (None, 264, 264, 3)       0         \n",
      "                                                                 \n",
      " vgg16 (Functional)          (None, None, None, 512)   14714688  \n",
      "                                                                 \n",
      " flatten_1 (Flatten)         (None, 32768)             0         \n",
      "                                                                 \n",
      " dense_3 (Dense)             (None, 256)               8388864   \n",
      "                                                                 \n",
      " dense_4 (Dense)             (None, 256)               65792     \n",
      "                                                                 \n",
      " dense_5 (Dense)             (None, 1)                 257       \n",
      "                                                                 \n",
      " activation_1 (Activation)   (None, 1)                 0         \n",
      "                                                                 \n",
      "=================================================================\n",
      "Total params: 23,169,601\n",
      "Trainable params: 23,169,601\n",
      "Non-trainable params: 0\n",
      "_________________________________________________________________\n"
     ]
    }
   ],
   "source": [
    "model = Sequential()\n",
    "\n",
    "model.add(Rescaling(1./255, input_shape=input_shape))\n",
    "\n",
    "model.add(pretrained)\n",
    "\n",
    "model.add(Flatten())\n",
    "model.add(Dense(256, activation='relu'))\n",
    "#model.add(Dropout(0.5))\n",
    "\n",
    "model.add(Dense(256, activation='relu'))\n",
    "#model.add(Dropout(0.2))\n",
    "\n",
    "model.add(Dense(1))\n",
    "model.add(Activation('sigmoid'))\n",
    "\n",
    "model.summary()"
   ]
  },
  {
   "cell_type": "markdown",
   "id": "UIuUAf9LDHS0",
   "metadata": {
    "id": "UIuUAf9LDHS0"
   },
   "source": [
    "### 03. Weight adjustment\n",
    "As observed in the EDA, the classes were not balanced. In order for the model not to over-train, higher weights are given to those classes with fewer samples."
   ]
  },
  {
   "cell_type": "code",
   "execution_count": null,
   "id": "G6Mja-BsWbsv",
   "metadata": {
    "colab": {
     "base_uri": "https://localhost:8080/"
    },
    "id": "G6Mja-BsWbsv",
    "outputId": "19ca198f-6f16-4619-b2f8-7f00ffc5a720"
   },
   "outputs": [
    {
     "name": "stdout",
     "output_type": "stream",
     "text": [
      "['C', 'N']\n",
      "[262, 1500]\n",
      "[2.5942243542145698, 1.0816653826391966]\n"
     ]
    }
   ],
   "source": [
    "cat_list = os.listdir('./N_C_labeled-images-flipped/train/')\n",
    "cat_list.sort()\n",
    "\n",
    "lenghts = [len(os.listdir('./N_C_labeled-images-flipped/train/'+cat)) for cat in cat_list]\n",
    "total_train_images = np.sum(lenghts)\n",
    "\n",
    "weights = list(np.sqrt(np.round(1/(np.array(lenghts) / total_train_images),2)))\n",
    "\n",
    "print(cat_list)\n",
    "print(lenghts)\n",
    "print(weights)"
   ]
  },
  {
   "cell_type": "markdown",
   "id": "vh4cjiHSDMfU",
   "metadata": {
    "id": "vh4cjiHSDMfU"
   },
   "source": [
    "### 04. Model train\n",
    "We add earlystopping in order to keep the best model. If the model gets worse with increasing iterations, we will keep the best one.\n",
    "\n",
    "For the learning_rate, a small value (0.001) is set so that the different combinations of parameters can be correctly explored until the optimum is reached.\n",
    "\n",
    "Weights from the VGG16 model are freezed so they will not update over the training and binary crossentropy loss with Adam optimizer is used for the loss function.\n",
    "\n",
    "The number of epochs was set at 100 in order to appreciate the evolution of the model during training."
   ]
  },
  {
   "cell_type": "code",
   "execution_count": null,
   "id": "8i5ryfjb58n1",
   "metadata": {
    "id": "8i5ryfjb58n1"
   },
   "outputs": [],
   "source": [
    "patience = 10\n",
    "\n",
    "early_stopping = EarlyStopping(monitor='val_loss', patience=patience, restore_best_weights=True)"
   ]
  },
  {
   "cell_type": "code",
   "execution_count": null,
   "id": "_PbjSoGXc_jI",
   "metadata": {
    "id": "_PbjSoGXc_jI"
   },
   "outputs": [],
   "source": [
    "# freeze vgg16\n",
    "pretrained.trainable = False\n",
    "\n",
    "model.compile(loss='binary_crossentropy', loss_weights=weights,\n",
    "            optimizer=Adam(learning_rate=0.001),\n",
    "            metrics=['accuracy'])"
   ]
  },
  {
   "cell_type": "code",
   "execution_count": null,
   "id": "91a155d0",
   "metadata": {
    "colab": {
     "base_uri": "https://localhost:8080/"
    },
    "id": "91a155d0",
    "outputId": "687a4f24-09ac-4004-c5b4-61f79297b163"
   },
   "outputs": [
    {
     "name": "stdout",
     "output_type": "stream",
     "text": [
      "Epoch 1/100\n",
      "2/2 [==============================] - 100s 72s/step - loss: 4.3920 - accuracy: 0.8750 - val_loss: 6.6926 - val_accuracy: 0.7969\n",
      "Epoch 2/100\n",
      "2/2 [==============================] - 94s 71s/step - loss: 2.2574 - accuracy: 0.8750 - val_loss: 10.4383 - val_accuracy: 0.2031\n",
      "Epoch 3/100\n",
      "2/2 [==============================] - 93s 70s/step - loss: 4.7897 - accuracy: 0.5625 - val_loss: 2.6459 - val_accuracy: 0.7656\n",
      "Epoch 4/100\n",
      "2/2 [==============================] - 94s 70s/step - loss: 1.2157 - accuracy: 0.9062 - val_loss: 4.0508 - val_accuracy: 0.7969\n",
      "Epoch 5/100\n",
      "2/2 [==============================] - 93s 70s/step - loss: 3.7042 - accuracy: 0.7969 - val_loss: 2.1602 - val_accuracy: 0.8125\n",
      "Epoch 6/100\n",
      "2/2 [==============================] - 92s 69s/step - loss: 0.1903 - accuracy: 0.9688 - val_loss: 0.2164 - val_accuracy: 0.9844\n",
      "Epoch 7/100\n",
      "2/2 [==============================] - 91s 68s/step - loss: 0.3110 - accuracy: 0.9688 - val_loss: 0.9330 - val_accuracy: 0.8438\n",
      "Epoch 8/100\n",
      "2/2 [==============================] - 91s 69s/step - loss: 1.0605 - accuracy: 0.7969 - val_loss: 0.4441 - val_accuracy: 0.9531\n",
      "Epoch 9/100\n",
      "2/2 [==============================] - 91s 68s/step - loss: 0.4872 - accuracy: 0.9375 - val_loss: 0.6788 - val_accuracy: 0.8906\n",
      "Epoch 10/100\n",
      "2/2 [==============================] - 91s 69s/step - loss: 0.9349 - accuracy: 0.8438 - val_loss: 0.2334 - val_accuracy: 0.9219\n",
      "Epoch 11/100\n",
      "2/2 [==============================] - 91s 69s/step - loss: 0.4904 - accuracy: 0.9531 - val_loss: 0.2029 - val_accuracy: 0.9844\n",
      "Epoch 12/100\n",
      "2/2 [==============================] - 91s 69s/step - loss: 0.2649 - accuracy: 0.9531 - val_loss: 0.5194 - val_accuracy: 0.8750\n",
      "Epoch 13/100\n",
      "2/2 [==============================] - 93s 69s/step - loss: 0.7838 - accuracy: 0.9062 - val_loss: 0.3375 - val_accuracy: 0.9688\n",
      "Epoch 14/100\n",
      "2/2 [==============================] - 91s 68s/step - loss: 0.2333 - accuracy: 0.9844 - val_loss: 0.1358 - val_accuracy: 0.9688\n",
      "Epoch 15/100\n",
      "2/2 [==============================] - 91s 69s/step - loss: 0.0402 - accuracy: 1.0000 - val_loss: 0.1102 - val_accuracy: 0.9844\n",
      "Epoch 16/100\n",
      "2/2 [==============================] - 91s 69s/step - loss: 0.0904 - accuracy: 0.9844 - val_loss: 0.1217 - val_accuracy: 0.9844\n",
      "Epoch 17/100\n",
      "2/2 [==============================] - 91s 69s/step - loss: 0.3397 - accuracy: 0.9688 - val_loss: 0.1309 - val_accuracy: 0.9844\n",
      "Epoch 18/100\n",
      "2/2 [==============================] - 91s 68s/step - loss: 0.2280 - accuracy: 0.9844 - val_loss: 0.0345 - val_accuracy: 1.0000\n",
      "Epoch 19/100\n",
      "2/2 [==============================] - 90s 68s/step - loss: 0.2464 - accuracy: 0.9688 - val_loss: 0.0350 - val_accuracy: 1.0000\n",
      "Epoch 20/100\n",
      "2/2 [==============================] - 90s 68s/step - loss: 0.0478 - accuracy: 1.0000 - val_loss: 0.5641 - val_accuracy: 0.9531\n",
      "Epoch 21/100\n",
      "2/2 [==============================] - 91s 68s/step - loss: 0.1210 - accuracy: 0.9688 - val_loss: 0.0777 - val_accuracy: 1.0000\n",
      "Epoch 22/100\n",
      "2/2 [==============================] - 91s 68s/step - loss: 0.0352 - accuracy: 1.0000 - val_loss: 0.0607 - val_accuracy: 1.0000\n",
      "Epoch 23/100\n",
      "1/2 [==============>...............] - ETA: 1s - loss: 3.1201e-07 - accuracy: 1.0000WARNING:tensorflow:Your input ran out of data; interrupting training. Make sure that your dataset or generator can generate at least `steps_per_epoch * epochs` batches (in this case, 200 batches). You may need to use the repeat() function when building your dataset.\n",
      "2/2 [==============================] - 47s 46s/step - loss: 3.1201e-07 - accuracy: 1.0000 - val_loss: 0.0959 - val_accuracy: 1.0000\n"
     ]
    }
   ],
   "source": [
    "# Training\n",
    "history = model.fit(\n",
    "    training_generator,\n",
    "    steps_per_epoch=2,\n",
    "    epochs=EPOCHS,\n",
    "    validation_data=validation_generator,\n",
    "    validation_steps=2,\n",
    "    verbose=1,\n",
    "    callbacks = [early_stopping])"
   ]
  },
  {
   "cell_type": "code",
   "execution_count": null,
   "id": "scCd6YtS2Agv",
   "metadata": {
    "id": "scCd6YtS2Agv"
   },
   "outputs": [],
   "source": [
    "model.save('vgg16_binary_cataract_normal.h5')"
   ]
  },
  {
   "cell_type": "markdown",
   "id": "_rlklBn_DS79",
   "metadata": {
    "id": "_rlklBn_DS79"
   },
   "source": [
    "### 05. Analysis of results"
   ]
  },
  {
   "cell_type": "code",
   "execution_count": null,
   "id": "b7eaf27a",
   "metadata": {
    "colab": {
     "base_uri": "https://localhost:8080/",
     "height": 295
    },
    "id": "b7eaf27a",
    "outputId": "cd858420-36b0-4924-987a-7e7b0cd78a7f"
   },
   "outputs": [
    {
     "data": {
      "image/png": "[encoded data removed]",
      "text/plain": [
       "<Figure size 432x288 with 1 Axes>"
      ]
     },
     "metadata": {
      "needs_background": "light"
     },
     "output_type": "display_data"
    }
   ],
   "source": [
    "# summarize history for accuracy\n",
    "plt.plot(history.history['accuracy'])\n",
    "plt.plot(history.history['val_accuracy'])\n",
    "plt.title('model accuracy')\n",
    "plt.ylabel('accuracy')\n",
    "plt.xlabel('epoch')\n",
    "plt.legend(['train', 'test'], loc='upper left')\n",
    "plt.show()"
   ]
  },
  {
   "cell_type": "markdown",
   "id": "PNNMpiCHaG9P",
   "metadata": {
    "id": "PNNMpiCHaG9P"
   },
   "source": [
    "The accuracy evolves positively throughout the training period resulting in values close to 1 providing a model with very good results."
   ]
  },
  {
   "cell_type": "code",
   "execution_count": null,
   "id": "86ae19f8",
   "metadata": {
    "colab": {
     "base_uri": "https://localhost:8080/",
     "height": 295
    },
    "id": "86ae19f8",
    "outputId": "76195f66-956e-4ae4-af8d-3abd9cc61e4a"
   },
   "outputs": [
    {
     "data": {
      "image/png": "[encoded data removed]",
      "text/plain": [
       "<Figure size 432x288 with 1 Axes>"
      ]
     },
     "metadata": {
      "needs_background": "light"
     },
     "output_type": "display_data"
    }
   ],
   "source": [
    "# summarize history for loss\n",
    "plt.plot(history.history['loss'][1:])\n",
    "plt.plot(history.history['val_loss'][1:])\n",
    "plt.title('model loss')\n",
    "plt.ylabel('loss')\n",
    "plt.xlabel('epoch')\n",
    "plt.legend(['train', 'test'], loc='upper left')\n",
    "plt.show()"
   ]
  },
  {
   "cell_type": "markdown",
   "id": "9U9ojOqUcMEO",
   "metadata": {
    "id": "9U9ojOqUcMEO"
   },
   "source": [
    "In the case of loss, it is observed that as the epochs increase, their value decreases gradually until it flats, which is good for the model precision."
   ]
  },
  {
   "cell_type": "code",
   "execution_count": null,
   "id": "y46oLQtN2GIK",
   "metadata": {
    "id": "y46oLQtN2GIK"
   },
   "outputs": [],
   "source": [
    "model = load_model('vgg16_binary_cataract_normal.h5')"
   ]
  },
  {
   "cell_type": "code",
   "execution_count": null,
   "id": "7be4aa82",
   "metadata": {
    "id": "7be4aa82"
   },
   "outputs": [],
   "source": [
    "## Predict on test data\n",
    "y_pred = model.predict(test_generator)"
   ]
  },
  {
   "cell_type": "code",
   "execution_count": null,
   "id": "Ny90-1_ykptA",
   "metadata": {
    "id": "Ny90-1_ykptA"
   },
   "outputs": [],
   "source": [
    "test_labels = []\n",
    "for image_batch, labels_batch in test_generator:\n",
    "  for vector in labels_batch:\n",
    "    test_labels.append(vector.numpy().astype(int))\n",
    "\n",
    "y_real = np.array(test_labels)"
   ]
  },
  {
   "cell_type": "code",
   "execution_count": null,
   "id": "IN5iDfd6Ivo3",
   "metadata": {
    "id": "IN5iDfd6Ivo3"
   },
   "outputs": [],
   "source": [
    "y_pred[y_pred >= 0.5] = 1\n",
    "y_pred[y_pred < 0.5] = 0"
   ]
  },
  {
   "cell_type": "code",
   "execution_count": null,
   "id": "2h7VR_MYoA-I",
   "metadata": {
    "colab": {
     "base_uri": "https://localhost:8080/",
     "height": 313
    },
    "id": "2h7VR_MYoA-I",
    "outputId": "eeb6a30b-9a48-442e-81db-d1c0ec8280b4"
   },
   "outputs": [
    {
     "data": {
      "text/plain": [
       "Text(33.0, 0.5, 'Truth')"
      ]
     },
     "execution_count": 31,
     "metadata": {},
     "output_type": "execute_result"
    },
    {
     "data": {
      "image/png": "[encoded data removed]",
      "text/plain": [
       "<Figure size 432x288 with 2 Axes>"
      ]
     },
     "metadata": {
      "needs_background": "light"
     },
     "output_type": "display_data"
    }
   ],
   "source": [
    "cf_matrix = confusion_matrix(y_real, y_pred)\n",
    "ax = sns.heatmap(cf_matrix, annot=True, fmt='d')\n",
    "plt.title('Matriz de confusión conjunto de test')\n",
    "ax.xaxis.set_ticklabels(['Cataract','Normal'])\n",
    "ax.yaxis.set_ticklabels(['Cataract','Normal'])\n",
    "plt.xlabel('Predicted')\n",
    "plt.ylabel('Truth')"
   ]
  },
  {
   "cell_type": "markdown",
   "id": "bhh4sdiDcNbe",
   "metadata": {
    "id": "bhh4sdiDcNbe"
   },
   "source": [
    "The confusion matrix for the test set is almost perfect, only missclassifies one Cataract sample, resulting in almost 100% accuracy for both classes. This model passes the test filter and could be considered for production."
   ]
  },
  {
   "cell_type": "code",
   "execution_count": null,
   "id": "8KPBOwn1Y81T",
   "metadata": {
    "colab": {
     "base_uri": "https://localhost:8080/"
    },
    "id": "8KPBOwn1Y81T",
    "outputId": "a6fa3498-117e-4acd-aee5-6606519d37ca"
   },
   "outputs": [
    {
     "name": "stdout",
     "output_type": "stream",
     "text": [
      "              precision    recall  f1-score   support\n",
      "\n",
      "    Cataract       1.00      0.97      0.98        29\n",
      "      Normal       0.99      1.00      1.00       100\n",
      "\n",
      "    accuracy                           0.99       129\n",
      "   macro avg       1.00      0.98      0.99       129\n",
      "weighted avg       0.99      0.99      0.99       129\n",
      "\n"
     ]
    }
   ],
   "source": [
    "print(classification_report(y_real, y_pred, target_names=['Cataract','Normal']))"
   ]
  }
 ],
 "metadata": {
  "colab": {
   "collapsed_sections": [],
   "name": "12_VGG_binary_Cataract_Normal.ipynb",
   "provenance": []
  },
  "kernelspec": {
   "display_name": "Python 3",
   "language": "python",
   "name": "python3"
  },
  "language_info": {
   "codemirror_mode": {
    "name": "ipython",
    "version": 3
   },
   "file_extension": ".py",
   "mimetype": "text/x-python",
   "name": "python",
   "nbconvert_exporter": "python",
   "pygments_lexer": "ipython3",
   "version": "3.8.8"
  }
 },
 "nbformat": 4,
 "nbformat_minor": 5
}

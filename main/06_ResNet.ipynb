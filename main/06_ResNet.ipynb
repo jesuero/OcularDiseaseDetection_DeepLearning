{
 "cells": [
  {
   "cell_type": "markdown",
   "id": "hvSy46CxkjG2",
   "metadata": {
    "id": "hvSy46CxkjG2"
   },
   "source": [
    "## ResNet50 Model\n",
    "\n",
    "For this notebook the ResNet50 pretrained model will be used to try to predict the 8 categories of images.\n"
   ]
  },
  {
   "cell_type": "markdown",
   "id": "eJyi2RUQlIyf",
   "metadata": {
    "id": "eJyi2RUQlIyf"
   },
   "source": [
    "### 0. Load libraries"
   ]
  },
  {
   "cell_type": "code",
   "execution_count": null,
   "id": "671b7100",
   "metadata": {
    "id": "671b7100"
   },
   "outputs": [],
   "source": [
    "import tensorflow as tf\n",
    "from tensorflow.keras.preprocessing.image import ImageDataGenerator\n",
    "from tensorflow.keras.models import Sequential, Model, load_model\n",
    "from tensorflow.keras.optimizers import Adam\n",
    "from tensorflow.keras.layers import Rescaling, Activation, Dropout, Flatten, Dense, GlobalMaxPooling2D, Conv2D, MaxPooling2D\n",
    "from tensorflow.keras.callbacks import EarlyStopping\n",
    "from tensorflow.keras.applications import ResNet50\n",
    "\n",
    "import os\n",
    "import numpy as np\n",
    "\n",
    "import matplotlib.pyplot as plt\n",
    "import seaborn as sns\n",
    "\n",
    "from sklearn.metrics import confusion_matrix\n",
    "from sklearn.metrics import classification_report"
   ]
  },
  {
   "cell_type": "markdown",
   "id": "tbCKWU_4lOO2",
   "metadata": {
    "id": "tbCKWU_4lOO2"
   },
   "source": [
    "### 01. Load images\n",
    "The images are separated into train, test and validation using the function of keras call image_dataset_from_directory"
   ]
  },
  {
   "cell_type": "code",
   "execution_count": null,
   "id": "230bf783",
   "metadata": {
    "id": "230bf783"
   },
   "outputs": [],
   "source": [
    "train_dir = './labeled-images/train'\n",
    "test_dir = './labeled-images/test'\n",
    "\n",
    "BATCH_SIZE = 32\n",
    "IMG_HEIGHT = 264\n",
    "IMG_WIDTH = 264\n",
    "EPOCHS = 100\n",
    "\n",
    "input_shape = (IMG_WIDTH, IMG_HEIGHT, 3)"
   ]
  },
  {
   "cell_type": "code",
   "execution_count": null,
   "id": "62f81500",
   "metadata": {
    "colab": {
     "base_uri": "https://localhost:8080/"
    },
    "id": "62f81500",
    "outputId": "053593ca-cac3-4f24-b0f7-a200c0fb616a"
   },
   "outputs": [
    {
     "name": "stdout",
     "output_type": "stream",
     "text": [
      "Found 5752 files belonging to 8 classes.\n",
      "Using 4602 files for training.\n",
      "Found 5752 files belonging to 8 classes.\n",
      "Using 1150 files for validation.\n",
      "Found 640 files belonging to 8 classes.\n"
     ]
    }
   ],
   "source": [
    "# Creating generators (prepare data to feed the model)\n",
    "training_generator = tf.keras.utils.image_dataset_from_directory(\n",
    "    train_dir,\n",
    "    labels='inferred',\n",
    "    label_mode='categorical',\n",
    "    batch_size=BATCH_SIZE,\n",
    "    image_size=(IMG_WIDTH, IMG_HEIGHT),\n",
    "    shuffle=True,\n",
    "    seed=432,\n",
    "    validation_split=0.2,\n",
    "    subset='training',\n",
    ")\n",
    "\n",
    "validation_generator = tf.keras.utils.image_dataset_from_directory(\n",
    "    train_dir,\n",
    "    labels='inferred',\n",
    "    label_mode='categorical',\n",
    "    batch_size=BATCH_SIZE,\n",
    "    image_size=(IMG_WIDTH, IMG_HEIGHT),\n",
    "    shuffle=True,\n",
    "    seed=432,\n",
    "    validation_split=0.2,\n",
    "    subset='validation',\n",
    ")\n",
    "\n",
    "test_generator = tf.keras.utils.image_dataset_from_directory(\n",
    "    test_dir,\n",
    "    labels='inferred',\n",
    "    label_mode='categorical',\n",
    "    shuffle=False,\n",
    "    batch_size=BATCH_SIZE,\n",
    "    image_size=(IMG_WIDTH, IMG_HEIGHT),\n",
    "    seed=432,\n",
    ")"
   ]
  },
  {
   "cell_type": "markdown",
   "id": "zoC7ud-RlcqU",
   "metadata": {
    "id": "zoC7ud-RlcqU"
   },
   "source": [
    "### 02. Model architecture\n",
    "\n",
    "Loading of pretrained ResNet50 model with imagenet and creation of the architecture."
   ]
  },
  {
   "cell_type": "code",
   "execution_count": null,
   "id": "VJKcQB-RdFuD",
   "metadata": {
    "colab": {
     "base_uri": "https://localhost:8080/"
    },
    "id": "VJKcQB-RdFuD",
    "outputId": "90bb674d-f8ec-4d57-ecc5-1f5783358101"
   },
   "outputs": [
    {
     "name": "stdout",
     "output_type": "stream",
     "text": [
      "Downloading data from https://storage.googleapis.com/tensorflow/keras-applications/resnet/resnet50_weights_tf_dim_ordering_tf_kernels_notop.h5\n",
      "94773248/94765736 [==============================] - 0s 0us/step\n",
      "94781440/94765736 [==============================] - 0s 0us/step\n"
     ]
    }
   ],
   "source": [
    "pretrained = ResNet50(weights='imagenet', include_top=False)"
   ]
  },
  {
   "cell_type": "code",
   "execution_count": null,
   "id": "47bcc426",
   "metadata": {
    "colab": {
     "base_uri": "https://localhost:8080/"
    },
    "id": "47bcc426",
    "outputId": "746dad66-d5db-4988-e383-f1d83e123dfa"
   },
   "outputs": [
    {
     "name": "stdout",
     "output_type": "stream",
     "text": [
      "Model: \"sequential\"\n",
      "_________________________________________________________________\n",
      " Layer (type)                Output Shape              Param #   \n",
      "=================================================================\n",
      " rescaling (Rescaling)       (None, 264, 264, 3)       0         \n",
      "                                                                 \n",
      " resnet50 (Functional)       (None, None, None, 2048)  23587712  \n",
      "                                                                 \n",
      " flatten (Flatten)           (None, 165888)            0         \n",
      "                                                                 \n",
      " dense (Dense)               (None, 256)               42467584  \n",
      "                                                                 \n",
      " dense_1 (Dense)             (None, 256)               65792     \n",
      "                                                                 \n",
      " dense_2 (Dense)             (None, 8)                 2056      \n",
      "                                                                 \n",
      " activation (Activation)     (None, 8)                 0         \n",
      "                                                                 \n",
      "=================================================================\n",
      "Total params: 66,123,144\n",
      "Trainable params: 66,070,024\n",
      "Non-trainable params: 53,120\n",
      "_________________________________________________________________\n"
     ]
    }
   ],
   "source": [
    "model = Sequential()\n",
    "\n",
    "model.add(Rescaling(1./255, input_shape=input_shape))\n",
    "\n",
    "model.add(pretrained)\n",
    "\n",
    "model.add(Flatten())\n",
    "model.add(Dense(256, activation='relu'))\n",
    "\n",
    "model.add(Dense(256, activation='relu'))\n",
    "#model.add(Dropout(0.2))\n",
    "\n",
    "# Since we have 8 categories, the last layer must contain 8 outputs\n",
    "model.add(Dense(8))\n",
    "model.add(Activation('softmax'))\n",
    "\n",
    "model.summary()"
   ]
  },
  {
   "cell_type": "markdown",
   "id": "2IcUSkg8lpvH",
   "metadata": {
    "id": "2IcUSkg8lpvH"
   },
   "source": [
    "### 03. Weight adjustment\n",
    "As observed in the EDA, the classes were not balanced. In order for the model not to over-train, higher weights are given to those classes with fewer samples."
   ]
  },
  {
   "cell_type": "code",
   "execution_count": null,
   "id": "G6Mja-BsWbsv",
   "metadata": {
    "colab": {
     "base_uri": "https://localhost:8080/"
    },
    "id": "G6Mja-BsWbsv",
    "outputId": "de9bbc13-edb4-4335-a037-bd2c24e54930"
   },
   "outputs": [
    {
     "name": "stdout",
     "output_type": "stream",
     "text": [
      "['A', 'C', 'D', 'G', 'H', 'M', 'N', 'O']\n",
      "[239, 264, 1447, 256, 115, 209, 2585, 637]\n",
      "[4.906118628814432, 4.6679760067935225, 1.9949937343260002, 4.740253157796532, 7.07248188403477, 5.2459508194416005, 1.493318452306808, 3.004995840263344]\n"
     ]
    }
   ],
   "source": [
    "cat_list = os.listdir('./labeled-images/train/')\n",
    "cat_list.sort()\n",
    "\n",
    "lenghts = [len(os.listdir('./labeled-images/train/'+cat)) for cat in cat_list]\n",
    "total_train_images = np.sum(lenghts)\n",
    "\n",
    "weights = list(np.sqrt(np.round(1/(np.array(lenghts) / total_train_images),2)))\n",
    "\n",
    "print(cat_list)\n",
    "print(lenghts)\n",
    "print(weights)"
   ]
  },
  {
   "cell_type": "markdown",
   "id": "tGYo0mayl9Ez",
   "metadata": {
    "id": "tGYo0mayl9Ez"
   },
   "source": [
    "### 04. Model train\n",
    "We add earlystopping in order to keep the best model. If the model gets worse with increasing iterations, we will keep the best one.\n",
    "\n",
    "For the learning_rate, a small value (0.001) is set so that the different combinations of parameters can be correctly explored until the optimum is reached.\n",
    "\n",
    "The number of epochs was set at 100 in order to appreciate the evolution of the model during training.\n"
   ]
  },
  {
   "cell_type": "code",
   "execution_count": null,
   "id": "8i5ryfjb58n1",
   "metadata": {
    "id": "8i5ryfjb58n1"
   },
   "outputs": [],
   "source": [
    "patience = 20\n",
    "\n",
    "early_stopping = EarlyStopping(monitor='val_loss', patience=patience, restore_best_weights=True)"
   ]
  },
  {
   "cell_type": "code",
   "execution_count": null,
   "id": "_PbjSoGXc_jI",
   "metadata": {
    "id": "_PbjSoGXc_jI"
   },
   "outputs": [],
   "source": [
    "# freeze resnet\n",
    "pretrained.trainable = False\n",
    "\n",
    "model.compile(loss='categorical_crossentropy', loss_weights=weights,\n",
    "            optimizer=Adam(learning_rate=0.001),\n",
    "            metrics=['accuracy'])"
   ]
  },
  {
   "cell_type": "code",
   "execution_count": null,
   "id": "91a155d0",
   "metadata": {
    "colab": {
     "base_uri": "https://localhost:8080/"
    },
    "id": "91a155d0",
    "outputId": "1c33c6e3-81f9-4e74-d824-0e45e1960041"
   },
   "outputs": [
    {
     "name": "stdout",
     "output_type": "stream",
     "text": [
      "Epoch 1/100\n",
      "4/4 [==============================] - 117s 24s/step - loss: 90.7349 - accuracy: 0.2656 - val_loss: 112.2688 - val_accuracy: 0.4375\n",
      "Epoch 2/100\n",
      "4/4 [==============================] - 37s 10s/step - loss: 161.4977 - accuracy: 0.2500 - val_loss: 201.3833 - val_accuracy: 0.2500\n",
      "Epoch 3/100\n",
      "4/4 [==============================] - 38s 10s/step - loss: 95.0044 - accuracy: 0.2656 - val_loss: 42.1617 - val_accuracy: 0.1562\n",
      "Epoch 4/100\n",
      "4/4 [==============================] - 46s 13s/step - loss: 53.6085 - accuracy: 0.3672 - val_loss: 41.5499 - val_accuracy: 0.4688\n",
      "Epoch 5/100\n",
      "4/4 [==============================] - 38s 10s/step - loss: 51.2755 - accuracy: 0.2578 - val_loss: 37.5579 - val_accuracy: 0.5625\n",
      "Epoch 6/100\n",
      "4/4 [==============================] - 38s 10s/step - loss: 39.1313 - accuracy: 0.3125 - val_loss: 42.7738 - val_accuracy: 0.0000e+00\n",
      "Epoch 7/100\n",
      "4/4 [==============================] - 37s 10s/step - loss: 28.9039 - accuracy: 0.3359 - val_loss: 32.0841 - val_accuracy: 0.2188\n",
      "Epoch 8/100\n",
      "4/4 [==============================] - 39s 11s/step - loss: 36.1320 - accuracy: 0.2266 - val_loss: 34.0749 - val_accuracy: 0.5312\n",
      "Epoch 9/100\n",
      "4/4 [==============================] - 39s 10s/step - loss: 33.7215 - accuracy: 0.2500 - val_loss: 40.5545 - val_accuracy: 0.4062\n",
      "Epoch 10/100\n",
      "4/4 [==============================] - 39s 10s/step - loss: 26.1954 - accuracy: 0.2969 - val_loss: 31.6104 - val_accuracy: 0.5312\n",
      "Epoch 11/100\n",
      "4/4 [==============================] - 40s 11s/step - loss: 35.5700 - accuracy: 0.2578 - val_loss: 40.9321 - val_accuracy: 0.4688\n",
      "Epoch 12/100\n",
      "4/4 [==============================] - 39s 10s/step - loss: 25.9407 - accuracy: 0.3672 - val_loss: 18.5201 - val_accuracy: 0.5312\n",
      "Epoch 13/100\n",
      "4/4 [==============================] - 38s 10s/step - loss: 28.9985 - accuracy: 0.2422 - val_loss: 12.0904 - val_accuracy: 0.3438\n",
      "Epoch 14/100\n",
      "4/4 [==============================] - 37s 10s/step - loss: 17.7230 - accuracy: 0.3047 - val_loss: 14.4334 - val_accuracy: 0.4062\n",
      "Epoch 15/100\n",
      "4/4 [==============================] - 38s 10s/step - loss: 14.0075 - accuracy: 0.3672 - val_loss: 17.9761 - val_accuracy: 0.3125\n",
      "Epoch 16/100\n",
      "4/4 [==============================] - 38s 10s/step - loss: 17.1047 - accuracy: 0.3828 - val_loss: 12.5433 - val_accuracy: 0.2500\n",
      "Epoch 17/100\n",
      "4/4 [==============================] - 38s 10s/step - loss: 12.5728 - accuracy: 0.4297 - val_loss: 10.8423 - val_accuracy: 0.0312\n",
      "Epoch 18/100\n",
      "4/4 [==============================] - 39s 11s/step - loss: 9.4124 - accuracy: 0.2812 - val_loss: 7.8801 - val_accuracy: 0.4375\n",
      "Epoch 19/100\n",
      "4/4 [==============================] - 38s 10s/step - loss: 9.5622 - accuracy: 0.3984 - val_loss: 6.8975 - val_accuracy: 0.4375\n",
      "Epoch 20/100\n",
      "4/4 [==============================] - 38s 10s/step - loss: 9.3222 - accuracy: 0.3984 - val_loss: 12.8153 - val_accuracy: 0.4062\n",
      "Epoch 21/100\n",
      "4/4 [==============================] - 38s 10s/step - loss: 12.8934 - accuracy: 0.2422 - val_loss: 8.8825 - val_accuracy: 0.4688\n",
      "Epoch 22/100\n",
      "4/4 [==============================] - 38s 10s/step - loss: 10.2002 - accuracy: 0.3672 - val_loss: 10.7703 - val_accuracy: 0.3125\n",
      "Epoch 23/100\n",
      "4/4 [==============================] - 38s 10s/step - loss: 10.8500 - accuracy: 0.3828 - val_loss: 9.6829 - val_accuracy: 0.2812\n",
      "Epoch 24/100\n",
      "4/4 [==============================] - 38s 10s/step - loss: 12.0967 - accuracy: 0.2891 - val_loss: 11.7170 - val_accuracy: 0.2812\n",
      "Epoch 25/100\n",
      "4/4 [==============================] - 38s 10s/step - loss: 12.2944 - accuracy: 0.3672 - val_loss: 8.7688 - val_accuracy: 0.5312\n",
      "Epoch 26/100\n",
      "4/4 [==============================] - 38s 10s/step - loss: 12.2612 - accuracy: 0.1797 - val_loss: 9.8906 - val_accuracy: 0.5312\n",
      "Epoch 27/100\n",
      "4/4 [==============================] - 40s 11s/step - loss: 11.4134 - accuracy: 0.4141 - val_loss: 17.3374 - val_accuracy: 0.2188\n",
      "Epoch 28/100\n",
      "4/4 [==============================] - 39s 10s/step - loss: 13.8940 - accuracy: 0.3203 - val_loss: 10.1982 - val_accuracy: 0.4688\n",
      "Epoch 29/100\n",
      "4/4 [==============================] - 39s 10s/step - loss: 12.4594 - accuracy: 0.2969 - val_loss: 9.2272 - val_accuracy: 0.4688\n",
      "Epoch 30/100\n",
      "4/4 [==============================] - 38s 10s/step - loss: 10.6495 - accuracy: 0.2578 - val_loss: 9.7601 - val_accuracy: 0.2812\n",
      "Epoch 31/100\n",
      "4/4 [==============================] - 38s 10s/step - loss: 10.5491 - accuracy: 0.3672 - val_loss: 8.8605 - val_accuracy: 0.2188\n",
      "Epoch 32/100\n",
      "4/4 [==============================] - 39s 10s/step - loss: 9.9060 - accuracy: 0.2500 - val_loss: 7.6842 - val_accuracy: 0.5000\n",
      "Epoch 33/100\n",
      "4/4 [==============================] - 38s 10s/step - loss: 9.7062 - accuracy: 0.3438 - val_loss: 6.9420 - val_accuracy: 0.5625\n",
      "Epoch 34/100\n",
      "4/4 [==============================] - 40s 11s/step - loss: 8.9910 - accuracy: 0.4609 - val_loss: 7.6180 - val_accuracy: 0.2500\n",
      "Epoch 35/100\n",
      "4/4 [==============================] - 38s 10s/step - loss: 9.4862 - accuracy: 0.2266 - val_loss: 8.5792 - val_accuracy: 0.4688\n",
      "Epoch 36/100\n",
      "4/4 [==============================] - 36s 10s/step - loss: 8.7284 - accuracy: 0.4016 - val_loss: 10.3365 - val_accuracy: 0.1875\n",
      "Epoch 37/100\n",
      "WARNING:tensorflow:Your input ran out of data; interrupting training. Make sure that your dataset or generator can generate at least `steps_per_epoch * epochs` batches (in this case, 400 batches). You may need to use the repeat() function when building your dataset.\n",
      "4/4 [==============================] - 9s 2s/step - loss: 8.7284 - accuracy: 0.4016 - val_loss: 9.2362 - val_accuracy: 0.1250\n"
     ]
    }
   ],
   "source": [
    "# Training\n",
    "history = model.fit(\n",
    "    training_generator,\n",
    "    steps_per_epoch=len(training_generator) // BATCH_SIZE,\n",
    "    epochs=EPOCHS,\n",
    "    validation_data=validation_generator,\n",
    "    validation_steps=len(validation_generator) // BATCH_SIZE,\n",
    "    verbose=1,\n",
    "    callbacks = [early_stopping])"
   ]
  },
  {
   "cell_type": "code",
   "execution_count": null,
   "id": "scCd6YtS2Agv",
   "metadata": {
    "id": "scCd6YtS2Agv"
   },
   "outputs": [],
   "source": [
    "model.save('resnet50-100epoch-freeze.h5')"
   ]
  },
  {
   "cell_type": "markdown",
   "id": "L_qrCth2mEaq",
   "metadata": {
    "id": "L_qrCth2mEaq"
   },
   "source": [
    "### 05. Analysis of results"
   ]
  },
  {
   "cell_type": "code",
   "execution_count": null,
   "id": "b7eaf27a",
   "metadata": {
    "colab": {
     "base_uri": "https://localhost:8080/",
     "height": 295
    },
    "id": "b7eaf27a",
    "outputId": "143c4e6b-ee41-46e0-fc23-55afb0c9f254"
   },
   "outputs": [
    {
     "data": {
      "image/png": "[encoded data removed]",
      "text/plain": [
       "<Figure size 432x288 with 1 Axes>"
      ]
     },
     "metadata": {
      "needs_background": "light"
     },
     "output_type": "display_data"
    }
   ],
   "source": [
    "# summarize history for accuracy\n",
    "plt.plot(history.history['accuracy'])\n",
    "plt.plot(history.history['val_accuracy'])\n",
    "plt.title('model accuracy')\n",
    "plt.ylabel('accuracy')\n",
    "plt.xlabel('epoch')\n",
    "plt.legend(['train', 'test'], loc='upper left')\n",
    "plt.show()"
   ]
  },
  {
   "cell_type": "markdown",
   "id": "5mONcU8ahjB1",
   "metadata": {
    "id": "5mONcU8ahjB1"
   },
   "source": [
    "It is observed that the accuracy does not improve with epochs, which means that even if we train more, the model does not predict better."
   ]
  },
  {
   "cell_type": "code",
   "execution_count": null,
   "id": "86ae19f8",
   "metadata": {
    "colab": {
     "base_uri": "https://localhost:8080/",
     "height": 295
    },
    "id": "86ae19f8",
    "outputId": "ec1d556c-c663-45a5-a332-fdf7958ee508"
   },
   "outputs": [
    {
     "data": {
      "image/png": "[encoded data removed]",
      "text/plain": [
       "<Figure size 432x288 with 1 Axes>"
      ]
     },
     "metadata": {
      "needs_background": "light"
     },
     "output_type": "display_data"
    }
   ],
   "source": [
    "# summarize history for loss\n",
    "plt.plot(history.history['loss'][1:])\n",
    "plt.plot(history.history['val_loss'][1:])\n",
    "plt.title('model loss')\n",
    "plt.ylabel('loss')\n",
    "plt.xlabel('epoch')\n",
    "plt.legend(['train', 'test'], loc='upper left')\n",
    "plt.show()"
   ]
  },
  {
   "cell_type": "markdown",
   "id": "Tpt163Foh3_n",
   "metadata": {
    "id": "Tpt163Foh3_n"
   },
   "source": [
    "In the case of loss, it is observed that as the epochs increase, their value decreases, which is the objective. This loss is worse than the one obtained with VGG16 model."
   ]
  },
  {
   "cell_type": "code",
   "execution_count": null,
   "id": "y46oLQtN2GIK",
   "metadata": {
    "id": "y46oLQtN2GIK"
   },
   "outputs": [],
   "source": [
    "# Save the model\n",
    "model = load_model('resnet50-100epoch-freeze.h5')"
   ]
  },
  {
   "cell_type": "code",
   "execution_count": null,
   "id": "7be4aa82",
   "metadata": {
    "id": "7be4aa82"
   },
   "outputs": [],
   "source": [
    "## Predict on test data\n",
    "y_pred = model.predict(test_generator)"
   ]
  },
  {
   "cell_type": "code",
   "execution_count": null,
   "id": "Ny90-1_ykptA",
   "metadata": {
    "id": "Ny90-1_ykptA"
   },
   "outputs": [],
   "source": [
    "test_labels = []\n",
    "for image_batch, labels_batch in test_generator:\n",
    "  for vector in labels_batch:\n",
    "    test_labels.append(vector.numpy().astype(int))\n",
    "\n",
    "y_real = np.array(test_labels)"
   ]
  },
  {
   "cell_type": "code",
   "execution_count": null,
   "id": "dza4HvSe7hya",
   "metadata": {
    "id": "dza4HvSe7hya"
   },
   "outputs": [],
   "source": [
    "y_pred_class = y_pred.argmax(axis=1)"
   ]
  },
  {
   "cell_type": "code",
   "execution_count": null,
   "id": "w4xGfy2p9FhV",
   "metadata": {
    "id": "w4xGfy2p9FhV"
   },
   "outputs": [],
   "source": [
    "y_real_class = y_real.argmax(axis=1)"
   ]
  },
  {
   "cell_type": "code",
   "execution_count": null,
   "id": "2h7VR_MYoA-I",
   "metadata": {
    "colab": {
     "base_uri": "https://localhost:8080/",
     "height": 313
    },
    "id": "2h7VR_MYoA-I",
    "outputId": "93b9c0a9-0381-4aea-8d33-f774bd87f6dc"
   },
   "outputs": [
    {
     "data": {
      "text/plain": [
       "Text(33.0, 0.5, 'Truth')"
      ]
     },
     "execution_count": 19,
     "metadata": {},
     "output_type": "execute_result"
    },
    {
     "data": {
      "image/png": "[encoded data removed]",
      "text/plain": [
       "<Figure size 432x288 with 2 Axes>"
      ]
     },
     "metadata": {
      "needs_background": "light"
     },
     "output_type": "display_data"
    }
   ],
   "source": [
    "labels = ['A', 'C', 'D', 'G', 'H', 'M', 'N', 'O']\n",
    "\n",
    "cf_matrix = confusion_matrix(y_real_class, y_pred_class)\n",
    "sns.heatmap(cf_matrix, annot=True, xticklabels=labels, yticklabels=labels, fmt='d')\n",
    "plt.title('Matriz de confusión conjunto de test')\n",
    "plt.xlabel('Predicted')\n",
    "plt.ylabel('Truth')"
   ]
  },
  {
   "cell_type": "markdown",
   "id": "scCyuIuah8tu",
   "metadata": {
    "id": "scCyuIuah8tu"
   },
   "source": [
    "The confusion matrix shows that most of the predictions made by the model are classified as Diabetes (D) or Normal (N). It is overtrained."
   ]
  },
  {
   "cell_type": "code",
   "execution_count": null,
   "id": "8KPBOwn1Y81T",
   "metadata": {
    "colab": {
     "base_uri": "https://localhost:8080/"
    },
    "id": "8KPBOwn1Y81T",
    "outputId": "f14460c9-1f58-4f80-ec78-21387d652c65"
   },
   "outputs": [
    {
     "name": "stdout",
     "output_type": "stream",
     "text": [
      "              precision    recall  f1-score   support\n",
      "\n",
      "           A       0.00      0.00      0.00        27\n",
      "           C       1.00      0.07      0.13        29\n",
      "           D       0.26      0.75      0.38       161\n",
      "           G       0.00      0.00      0.00        28\n",
      "           H       0.17      0.08      0.11        13\n",
      "           M       0.00      0.00      0.00        23\n",
      "           N       0.51      0.30      0.38       288\n",
      "           O       0.00      0.00      0.00        71\n",
      "\n",
      "    accuracy                           0.33       640\n",
      "   macro avg       0.24      0.15      0.12       640\n",
      "weighted avg       0.35      0.33      0.28       640\n",
      "\n"
     ]
    },
    {
     "name": "stderr",
     "output_type": "stream",
     "text": [
      "/usr/local/lib/python3.7/dist-packages/sklearn/metrics/_classification.py:1318: UndefinedMetricWarning: Precision and F-score are ill-defined and being set to 0.0 in labels with no predicted samples. Use `zero_division` parameter to control this behavior.\n",
      "  _warn_prf(average, modifier, msg_start, len(result))\n",
      "/usr/local/lib/python3.7/dist-packages/sklearn/metrics/_classification.py:1318: UndefinedMetricWarning: Precision and F-score are ill-defined and being set to 0.0 in labels with no predicted samples. Use `zero_division` parameter to control this behavior.\n",
      "  _warn_prf(average, modifier, msg_start, len(result))\n",
      "/usr/local/lib/python3.7/dist-packages/sklearn/metrics/_classification.py:1318: UndefinedMetricWarning: Precision and F-score are ill-defined and being set to 0.0 in labels with no predicted samples. Use `zero_division` parameter to control this behavior.\n",
      "  _warn_prf(average, modifier, msg_start, len(result))\n"
     ]
    }
   ],
   "source": [
    "print(classification_report(y_real_class, y_pred_class, target_names=labels))"
   ]
  },
  {
   "cell_type": "markdown",
   "id": "SChljcJ0iOHi",
   "metadata": {
    "id": "SChljcJ0iOHi"
   },
   "source": [
    "With the results obtained, this model could not be put into production. "
   ]
  }
 ],
 "metadata": {
  "colab": {
   "collapsed_sections": [],
   "name": "06_ResNet.ipynb",
   "provenance": []
  },
  "kernelspec": {
   "display_name": "Python 3",
   "language": "python",
   "name": "python3"
  },
  "language_info": {
   "codemirror_mode": {
    "name": "ipython",
    "version": 3
   },
   "file_extension": ".py",
   "mimetype": "text/x-python",
   "name": "python",
   "nbconvert_exporter": "python",
   "pygments_lexer": "ipython3",
   "version": "3.8.8"
  }
 },
 "nbformat": 4,
 "nbformat_minor": 5
}

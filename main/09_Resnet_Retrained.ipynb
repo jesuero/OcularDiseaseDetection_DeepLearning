{
 "cells": [
  {
   "cell_type": "markdown",
   "id": "DtStdZcKHNKL",
   "metadata": {
    "id": "DtStdZcKHNKL"
   },
   "source": [
    "## Resnet Retrained Model. All categories except Other (O)\n",
    "\n",
    "We eliminate the images from Other diseases/abnormalities (O) class since each image has a different problem and we would be generalizing particularities which does not make sense and harms the model.\n",
    "\n",
    "In this notebook we test using the weights obtained in the model from the 07_Resnet_7_classes.ipynb notebook and re-training the model for more epochs to see if a higher accuracy is achieved and the model learns."
   ]
  },
  {
   "cell_type": "markdown",
   "id": "PdQCOlhCHn6E",
   "metadata": {
    "id": "PdQCOlhCHn6E"
   },
   "source": [
    "### 00. Load libraries"
   ]
  },
  {
   "cell_type": "code",
   "execution_count": null,
   "id": "671b7100",
   "metadata": {
    "id": "671b7100"
   },
   "outputs": [],
   "source": [
    "import tensorflow as tf\n",
    "from tensorflow.keras.preprocessing.image import ImageDataGenerator\n",
    "from tensorflow.keras.models import Sequential, Model, load_model\n",
    "from tensorflow.keras.optimizers import Adam\n",
    "from tensorflow.keras.layers import Rescaling, Activation, Dropout, Flatten, Dense, GlobalMaxPooling2D, Conv2D, MaxPooling2D\n",
    "from tensorflow.keras.callbacks import EarlyStopping\n",
    "from tensorflow.keras.applications import ResNet50\n",
    "\n",
    "import os\n",
    "import numpy as np\n",
    "\n",
    "import matplotlib.pyplot as plt\n",
    "import seaborn as sns\n",
    "\n",
    "from sklearn.metrics import confusion_matrix\n",
    "from sklearn.metrics import classification_report"
   ]
  },
  {
   "cell_type": "code",
   "execution_count": null,
   "id": "230bf783",
   "metadata": {
    "id": "230bf783"
   },
   "outputs": [],
   "source": [
    "train_dir = './labeled-images-mod/train'\n",
    "test_dir = './labeled-images-mod/test'\n",
    "\n",
    "BATCH_SIZE = 32\n",
    "IMG_HEIGHT = 264\n",
    "IMG_WIDTH = 264\n",
    "EPOCHS = 500\n",
    "\n",
    "input_shape = (IMG_WIDTH, IMG_HEIGHT, 3)"
   ]
  },
  {
   "cell_type": "code",
   "execution_count": null,
   "id": "62f81500",
   "metadata": {
    "colab": {
     "base_uri": "https://localhost:8080/"
    },
    "id": "62f81500",
    "outputId": "2b1e45a8-c2c5-44df-ec5b-0e54a2a96eaf"
   },
   "outputs": [
    {
     "name": "stdout",
     "output_type": "stream",
     "text": [
      "Found 4493 files belonging to 7 classes.\n",
      "Using 3595 files for training.\n",
      "Found 4493 files belonging to 7 classes.\n",
      "Using 898 files for validation.\n",
      "Found 569 files belonging to 7 classes.\n"
     ]
    }
   ],
   "source": [
    "# Creating generators (prepare data to feed the model)\n",
    "training_generator = tf.keras.utils.image_dataset_from_directory(\n",
    "    train_dir,\n",
    "    labels='inferred',\n",
    "    label_mode='categorical',\n",
    "    batch_size=BATCH_SIZE,\n",
    "    image_size=(IMG_WIDTH, IMG_HEIGHT),\n",
    "    shuffle=True,\n",
    "    seed=432,\n",
    "    validation_split=0.2,\n",
    "    subset='training',\n",
    ")\n",
    "\n",
    "validation_generator = tf.keras.utils.image_dataset_from_directory(\n",
    "    train_dir,\n",
    "    labels='inferred',\n",
    "    label_mode='categorical',\n",
    "    batch_size=BATCH_SIZE,\n",
    "    image_size=(IMG_WIDTH, IMG_HEIGHT),\n",
    "    shuffle=True,\n",
    "    seed=432,\n",
    "    validation_split=0.2,\n",
    "    subset='validation',\n",
    ")\n",
    "\n",
    "test_generator = tf.keras.utils.image_dataset_from_directory(\n",
    "    test_dir,\n",
    "    labels='inferred',\n",
    "    label_mode='categorical',\n",
    "    shuffle=False,\n",
    "    batch_size=BATCH_SIZE,\n",
    "    image_size=(IMG_WIDTH, IMG_HEIGHT),\n",
    "    seed=432,\n",
    ")"
   ]
  },
  {
   "cell_type": "markdown",
   "id": "B6DIqJrmHylT",
   "metadata": {
    "id": "B6DIqJrmHylT"
   },
   "source": [
    "### 02. Model architecture\n",
    "\n",
    "Loading of pretrained Resnet50 model with imagenet and creation of the architecture."
   ]
  },
  {
   "cell_type": "code",
   "execution_count": null,
   "id": "VJKcQB-RdFuD",
   "metadata": {
    "colab": {
     "base_uri": "https://localhost:8080/"
    },
    "id": "VJKcQB-RdFuD",
    "outputId": "c37b8c01-c7d5-451b-886e-f04abd63c423"
   },
   "outputs": [
    {
     "name": "stdout",
     "output_type": "stream",
     "text": [
      "Downloading data from https://storage.googleapis.com/tensorflow/keras-applications/resnet/resnet50_weights_tf_dim_ordering_tf_kernels_notop.h5\n",
      "94773248/94765736 [==============================] - 0s 0us/step\n",
      "94781440/94765736 [==============================] - 0s 0us/step\n"
     ]
    }
   ],
   "source": [
    "pretrained = ResNet50(weights='imagenet', include_top=False)"
   ]
  },
  {
   "cell_type": "code",
   "execution_count": null,
   "id": "47bcc426",
   "metadata": {
    "colab": {
     "base_uri": "https://localhost:8080/"
    },
    "id": "47bcc426",
    "outputId": "9e5a81da-c721-4544-9f4e-06c4de4f989d"
   },
   "outputs": [
    {
     "name": "stdout",
     "output_type": "stream",
     "text": [
      "Model: \"sequential\"\n",
      "_________________________________________________________________\n",
      " Layer (type)                Output Shape              Param #   \n",
      "=================================================================\n",
      " rescaling (Rescaling)       (None, 264, 264, 3)       0         \n",
      "                                                                 \n",
      " resnet50 (Functional)       (None, None, None, 2048)  23587712  \n",
      "                                                                 \n",
      " flatten (Flatten)           (None, 165888)            0         \n",
      "                                                                 \n",
      " dense (Dense)               (None, 256)               42467584  \n",
      "                                                                 \n",
      " dense_1 (Dense)             (None, 256)               65792     \n",
      "                                                                 \n",
      " dense_2 (Dense)             (None, 7)                 1799      \n",
      "                                                                 \n",
      " activation (Activation)     (None, 7)                 0         \n",
      "                                                                 \n",
      "=================================================================\n",
      "Total params: 66,122,887\n",
      "Trainable params: 66,069,767\n",
      "Non-trainable params: 53,120\n",
      "_________________________________________________________________\n"
     ]
    }
   ],
   "source": [
    "model = Sequential()\n",
    "\n",
    "model.add(Rescaling(1./255, input_shape=input_shape))\n",
    "\n",
    "model.add(pretrained)\n",
    "\n",
    "model.add(Flatten())\n",
    "model.add(Dense(256, activation='relu'))\n",
    "\n",
    "model.add(Dense(256, activation='relu'))\n",
    "#model.add(Dropout(0.2))\n",
    "\n",
    "model.add(Dense(7))\n",
    "model.add(Activation('softmax'))\n",
    "\n",
    "model.summary()"
   ]
  },
  {
   "cell_type": "markdown",
   "id": "cZydXV7EIFJC",
   "metadata": {
    "id": "cZydXV7EIFJC"
   },
   "source": [
    "### 03. Weight adjustment\n",
    "As observed in the EDA, the classes were not balanced. In order for the model not to over-train, higher weights are given to those classes with fewer samples."
   ]
  },
  {
   "cell_type": "code",
   "execution_count": null,
   "id": "G6Mja-BsWbsv",
   "metadata": {
    "colab": {
     "base_uri": "https://localhost:8080/"
    },
    "id": "G6Mja-BsWbsv",
    "outputId": "13ac29a8-8a92-4b71-9f27-96ff7176a23b"
   },
   "outputs": [
    {
     "name": "stdout",
     "output_type": "stream",
     "text": [
      "['A', 'C', 'D', 'G', 'H', 'M', 'N']\n",
      "[239, 264, 1447, 256, 115, 209, 1963]\n",
      "[4.33589667773576, 4.125530268947253, 1.7635192088548397, 4.189272013130682, 6.250599971202765, 4.636809247747852, 1.5132745950421556]\n"
     ]
    }
   ],
   "source": [
    "cat_list = os.listdir('./labeled-images-mod/train/')\n",
    "cat_list.sort()\n",
    "\n",
    "lenghts = [len(os.listdir('./labeled-images-mod/train/'+cat)) for cat in cat_list]\n",
    "total_train_images = np.sum(lenghts)\n",
    "\n",
    "weights = list(np.sqrt(np.round(1/(np.array(lenghts) / total_train_images),2)))\n",
    "\n",
    "print(cat_list)\n",
    "print(lenghts)\n",
    "print(weights)"
   ]
  },
  {
   "cell_type": "markdown",
   "id": "j0HH820_IHVc",
   "metadata": {
    "id": "j0HH820_IHVc"
   },
   "source": [
    "### 04. Model train\n",
    "We add earlystopping in order to keep the best model. If the model gets worse with increasing iterations, we will keep the best one.\n",
    "\n",
    "For the learning_rate, a small value (0.001) is set so that the different combinations of parameters can be correctly explored until the optimum is reached.\n",
    "\n",
    "The number of epochs was set at 500 in order to appreciate the evolution of the model during training."
   ]
  },
  {
   "cell_type": "code",
   "execution_count": null,
   "id": "8i5ryfjb58n1",
   "metadata": {
    "id": "8i5ryfjb58n1"
   },
   "outputs": [],
   "source": [
    "patience = 50\n",
    "\n",
    "early_stopping = EarlyStopping(monitor='loss', patience=patience, restore_best_weights=True)"
   ]
  },
  {
   "cell_type": "code",
   "execution_count": null,
   "id": "_PbjSoGXc_jI",
   "metadata": {
    "id": "_PbjSoGXc_jI"
   },
   "outputs": [],
   "source": [
    "# freeze resnet\n",
    "pretrained.trainable = False\n",
    "\n",
    "model.compile(loss='categorical_crossentropy', loss_weights=weights,\n",
    "            optimizer=Adam(learning_rate=0.001),\n",
    "            metrics=['accuracy'])"
   ]
  },
  {
   "cell_type": "code",
   "execution_count": null,
   "id": "Gai_bs0urDaI",
   "metadata": {
    "id": "Gai_bs0urDaI"
   },
   "outputs": [],
   "source": [
    "model = load_model('resnet50mod-500epoch-freeze.h5')"
   ]
  },
  {
   "cell_type": "code",
   "execution_count": null,
   "id": "91a155d0",
   "metadata": {
    "colab": {
     "base_uri": "https://localhost:8080/"
    },
    "id": "91a155d0",
    "outputId": "0a6e84b3-e6ea-4dda-b20a-8bd2905e83a7"
   },
   "outputs": [
    {
     "name": "stdout",
     "output_type": "stream",
     "text": [
      "Epoch 1/500\n",
      "1/1 [==============================] - 100s 100s/step - loss: 60.3562 - accuracy: 0.3125 - val_loss: 103.3175 - val_accuracy: 0.5312\n",
      "Epoch 2/500\n",
      "1/1 [==============================] - 18s 18s/step - loss: 89.0439 - accuracy: 0.5625 - val_loss: 95.3075 - val_accuracy: 0.5312\n",
      "Epoch 3/500\n",
      "1/1 [==============================] - 17s 17s/step - loss: 102.5879 - accuracy: 0.4375 - val_loss: 44.5762 - val_accuracy: 0.5000\n",
      "Epoch 4/500\n",
      "1/1 [==============================] - 17s 17s/step - loss: 75.3169 - accuracy: 0.3750 - val_loss: 88.8242 - val_accuracy: 0.2500\n",
      "Epoch 5/500\n",
      "1/1 [==============================] - 16s 16s/step - loss: 58.1956 - accuracy: 0.3438 - val_loss: 65.4025 - val_accuracy: 0.3125\n",
      "Epoch 6/500\n",
      "1/1 [==============================] - 15s 15s/step - loss: 60.3345 - accuracy: 0.3125 - val_loss: 81.5275 - val_accuracy: 0.0000e+00\n",
      "Epoch 7/500\n",
      "1/1 [==============================] - 15s 15s/step - loss: 86.2420 - accuracy: 0.0000e+00 - val_loss: 30.6724 - val_accuracy: 0.0000e+00\n",
      "Epoch 8/500\n",
      "1/1 [==============================] - 16s 16s/step - loss: 25.2381 - accuracy: 0.0312 - val_loss: 12.8801 - val_accuracy: 0.5000\n",
      "Epoch 9/500\n",
      "1/1 [==============================] - 15s 15s/step - loss: 39.2076 - accuracy: 0.2812 - val_loss: 31.1945 - val_accuracy: 0.1875\n",
      "Epoch 10/500\n",
      "1/1 [==============================] - 15s 15s/step - loss: 34.4693 - accuracy: 0.2812 - val_loss: 12.6090 - val_accuracy: 0.4062\n",
      "Epoch 11/500\n",
      "1/1 [==============================] - 15s 15s/step - loss: 13.6996 - accuracy: 0.2812 - val_loss: 35.7242 - val_accuracy: 0.5938\n",
      "Epoch 12/500\n",
      "1/1 [==============================] - 16s 16s/step - loss: 35.3440 - accuracy: 0.5000 - val_loss: 37.7765 - val_accuracy: 0.5000\n",
      "Epoch 13/500\n",
      "1/1 [==============================] - 15s 15s/step - loss: 29.8244 - accuracy: 0.5938 - val_loss: 23.2647 - val_accuracy: 0.5000\n",
      "Epoch 14/500\n",
      "1/1 [==============================] - 15s 15s/step - loss: 26.5240 - accuracy: 0.4688 - val_loss: 39.5856 - val_accuracy: 0.4062\n",
      "Epoch 15/500\n",
      "1/1 [==============================] - 15s 15s/step - loss: 34.5045 - accuracy: 0.3438 - val_loss: 26.7350 - val_accuracy: 0.2812\n",
      "Epoch 16/500\n",
      "1/1 [==============================] - 15s 15s/step - loss: 34.9785 - accuracy: 0.4062 - val_loss: 32.1420 - val_accuracy: 0.1250\n",
      "Epoch 17/500\n",
      "1/1 [==============================] - 15s 15s/step - loss: 32.4603 - accuracy: 0.2500 - val_loss: 23.4858 - val_accuracy: 0.4688\n",
      "Epoch 18/500\n",
      "1/1 [==============================] - 15s 15s/step - loss: 38.6776 - accuracy: 0.5312 - val_loss: 20.3822 - val_accuracy: 0.5625\n",
      "Epoch 19/500\n",
      "1/1 [==============================] - 18s 18s/step - loss: 39.8751 - accuracy: 0.5000 - val_loss: 25.0701 - val_accuracy: 0.0000e+00\n",
      "Epoch 20/500\n",
      "1/1 [==============================] - 16s 16s/step - loss: 25.1171 - accuracy: 0.0312 - val_loss: 12.4488 - val_accuracy: 0.3438\n",
      "Epoch 21/500\n",
      "1/1 [==============================] - 15s 15s/step - loss: 42.3785 - accuracy: 0.2188 - val_loss: 16.4436 - val_accuracy: 0.0625\n",
      "Epoch 22/500\n",
      "1/1 [==============================] - 15s 15s/step - loss: 35.1552 - accuracy: 0.0625 - val_loss: 8.8473 - val_accuracy: 0.6250\n",
      "Epoch 23/500\n",
      "1/1 [==============================] - 15s 15s/step - loss: 23.4684 - accuracy: 0.4688 - val_loss: 11.2749 - val_accuracy: 0.5000\n",
      "Epoch 24/500\n",
      "1/1 [==============================] - 15s 15s/step - loss: 17.3825 - accuracy: 0.3750 - val_loss: 21.9033 - val_accuracy: 0.1875\n",
      "Epoch 25/500\n",
      "1/1 [==============================] - 16s 16s/step - loss: 12.6246 - accuracy: 0.2500 - val_loss: 12.5250 - val_accuracy: 0.4375\n",
      "Epoch 26/500\n",
      "1/1 [==============================] - 15s 15s/step - loss: 10.7291 - accuracy: 0.6250 - val_loss: 10.8710 - val_accuracy: 0.5000\n",
      "Epoch 27/500\n",
      "1/1 [==============================] - 15s 15s/step - loss: 11.5697 - accuracy: 0.4062 - val_loss: 20.2053 - val_accuracy: 0.0312\n",
      "Epoch 28/500\n",
      "1/1 [==============================] - 15s 15s/step - loss: 29.7472 - accuracy: 0.0625 - val_loss: 15.5854 - val_accuracy: 0.1250\n",
      "Epoch 29/500\n",
      "1/1 [==============================] - 16s 16s/step - loss: 20.5171 - accuracy: 0.0000e+00 - val_loss: 11.3509 - val_accuracy: 0.1562\n",
      "Epoch 30/500\n",
      "1/1 [==============================] - 15s 15s/step - loss: 22.1236 - accuracy: 0.2188 - val_loss: 11.6346 - val_accuracy: 0.5000\n",
      "Epoch 31/500\n",
      "1/1 [==============================] - 15s 15s/step - loss: 13.1151 - accuracy: 0.3438 - val_loss: 7.4574 - val_accuracy: 0.6250\n",
      "Epoch 32/500\n",
      "1/1 [==============================] - 15s 15s/step - loss: 14.0755 - accuracy: 0.3438 - val_loss: 10.2929 - val_accuracy: 0.4062\n",
      "Epoch 33/500\n",
      "1/1 [==============================] - 16s 16s/step - loss: 7.4194 - accuracy: 0.5625 - val_loss: 7.7975 - val_accuracy: 0.4688\n",
      "Epoch 34/500\n",
      "1/1 [==============================] - 15s 15s/step - loss: 11.5724 - accuracy: 0.2812 - val_loss: 5.7353 - val_accuracy: 0.5312\n",
      "Epoch 35/500\n",
      "1/1 [==============================] - 15s 15s/step - loss: 9.4810 - accuracy: 0.4375 - val_loss: 8.6612 - val_accuracy: 0.5312\n",
      "Epoch 36/500\n",
      "1/1 [==============================] - 15s 15s/step - loss: 10.3904 - accuracy: 0.4375 - val_loss: 8.4790 - val_accuracy: 0.4688\n",
      "Epoch 37/500\n",
      "1/1 [==============================] - 15s 15s/step - loss: 13.0747 - accuracy: 0.3438 - val_loss: 9.1835 - val_accuracy: 0.2812\n",
      "Epoch 38/500\n",
      "1/1 [==============================] - 15s 15s/step - loss: 9.6133 - accuracy: 0.3125 - val_loss: 10.4085 - val_accuracy: 0.2812\n",
      "Epoch 39/500\n",
      "1/1 [==============================] - 15s 15s/step - loss: 12.3198 - accuracy: 0.2812 - val_loss: 8.9829 - val_accuracy: 0.0000e+00\n",
      "Epoch 40/500\n",
      "1/1 [==============================] - 15s 15s/step - loss: 8.9030 - accuracy: 0.0312 - val_loss: 10.7384 - val_accuracy: 0.3438\n",
      "Epoch 41/500\n",
      "1/1 [==============================] - 15s 15s/step - loss: 8.5519 - accuracy: 0.5000 - val_loss: 10.1763 - val_accuracy: 0.5000\n",
      "Epoch 42/500\n",
      "1/1 [==============================] - 15s 15s/step - loss: 11.1169 - accuracy: 0.4375 - val_loss: 9.8746 - val_accuracy: 0.3438\n",
      "Epoch 43/500\n",
      "1/1 [==============================] - 15s 15s/step - loss: 9.4961 - accuracy: 0.5000 - val_loss: 13.1706 - val_accuracy: 0.0312\n",
      "Epoch 44/500\n",
      "1/1 [==============================] - 15s 15s/step - loss: 11.5235 - accuracy: 0.0312 - val_loss: 10.5703 - val_accuracy: 0.4062\n",
      "Epoch 45/500\n",
      "1/1 [==============================] - 15s 15s/step - loss: 13.4288 - accuracy: 0.3438 - val_loss: 10.1982 - val_accuracy: 0.2812\n",
      "Epoch 46/500\n",
      "1/1 [==============================] - 15s 15s/step - loss: 8.8316 - accuracy: 0.3438 - val_loss: 5.4746 - val_accuracy: 0.5625\n",
      "Epoch 47/500\n",
      "1/1 [==============================] - 15s 15s/step - loss: 8.9191 - accuracy: 0.3438 - val_loss: 8.7223 - val_accuracy: 0.4688\n",
      "Epoch 48/500\n",
      "1/1 [==============================] - 15s 15s/step - loss: 8.8492 - accuracy: 0.3750 - val_loss: 5.9751 - val_accuracy: 0.3125\n",
      "Epoch 49/500\n",
      "1/1 [==============================] - 15s 15s/step - loss: 6.9401 - accuracy: 0.5000 - val_loss: 8.3435 - val_accuracy: 0.3125\n",
      "Epoch 50/500\n",
      "1/1 [==============================] - 15s 15s/step - loss: 9.4206 - accuracy: 0.3125 - val_loss: 6.6693 - val_accuracy: 0.3750\n",
      "Epoch 51/500\n",
      "1/1 [==============================] - 15s 15s/step - loss: 7.8268 - accuracy: 0.3125 - val_loss: 6.5343 - val_accuracy: 0.4375\n",
      "Epoch 52/500\n",
      "1/1 [==============================] - 15s 15s/step - loss: 10.7419 - accuracy: 0.3438 - val_loss: 8.1138 - val_accuracy: 0.3750\n",
      "Epoch 53/500\n",
      "1/1 [==============================] - 15s 15s/step - loss: 7.9689 - accuracy: 0.5000 - val_loss: 5.7986 - val_accuracy: 0.5938\n",
      "Epoch 54/500\n",
      "1/1 [==============================] - 16s 16s/step - loss: 6.2255 - accuracy: 0.5312 - val_loss: 8.8789 - val_accuracy: 0.1875\n",
      "Epoch 55/500\n",
      "1/1 [==============================] - 15s 15s/step - loss: 8.0298 - accuracy: 0.1562 - val_loss: 8.7812 - val_accuracy: 0.2500\n",
      "Epoch 56/500\n",
      "1/1 [==============================] - 15s 15s/step - loss: 9.9828 - accuracy: 0.1250 - val_loss: 6.0989 - val_accuracy: 0.5625\n",
      "Epoch 57/500\n",
      "1/1 [==============================] - 15s 15s/step - loss: 7.8747 - accuracy: 0.4375 - val_loss: 8.2566 - val_accuracy: 0.5000\n",
      "Epoch 58/500\n",
      "1/1 [==============================] - 15s 15s/step - loss: 8.6407 - accuracy: 0.3750 - val_loss: 7.8026 - val_accuracy: 0.3750\n",
      "Epoch 59/500\n",
      "1/1 [==============================] - 17s 17s/step - loss: 7.7457 - accuracy: 0.4375 - val_loss: 7.7028 - val_accuracy: 0.2812\n",
      "Epoch 60/500\n",
      "1/1 [==============================] - 16s 16s/step - loss: 7.0965 - accuracy: 0.3438 - val_loss: 6.8194 - val_accuracy: 0.4062\n",
      "Epoch 61/500\n",
      "1/1 [==============================] - 15s 15s/step - loss: 7.0125 - accuracy: 0.2500 - val_loss: 6.8920 - val_accuracy: 0.5312\n",
      "Epoch 62/500\n",
      "1/1 [==============================] - 15s 15s/step - loss: 8.3432 - accuracy: 0.2812 - val_loss: 7.9587 - val_accuracy: 0.4688\n",
      "Epoch 63/500\n",
      "1/1 [==============================] - 15s 15s/step - loss: 7.3494 - accuracy: 0.5312 - val_loss: 7.6794 - val_accuracy: 0.4062\n",
      "Epoch 64/500\n",
      "1/1 [==============================] - 15s 15s/step - loss: 8.8857 - accuracy: 0.2500 - val_loss: 6.7015 - val_accuracy: 0.3125\n",
      "Epoch 65/500\n",
      "1/1 [==============================] - 15s 15s/step - loss: 6.6489 - accuracy: 0.3125 - val_loss: 6.4371 - val_accuracy: 0.5000\n",
      "Epoch 66/500\n",
      "1/1 [==============================] - 16s 16s/step - loss: 11.3812 - accuracy: 0.0938 - val_loss: 7.1736 - val_accuracy: 0.5625\n",
      "Epoch 67/500\n",
      "1/1 [==============================] - 16s 16s/step - loss: 6.0440 - accuracy: 0.3438 - val_loss: 6.9035 - val_accuracy: 0.4688\n",
      "Epoch 68/500\n",
      "1/1 [==============================] - 15s 15s/step - loss: 7.2591 - accuracy: 0.4375 - val_loss: 6.7602 - val_accuracy: 0.4062\n",
      "Epoch 69/500\n",
      "1/1 [==============================] - 15s 15s/step - loss: 6.0644 - accuracy: 0.5312 - val_loss: 7.2127 - val_accuracy: 0.4688\n",
      "Epoch 70/500\n",
      "1/1 [==============================] - 15s 15s/step - loss: 6.1672 - accuracy: 0.5625 - val_loss: 6.2195 - val_accuracy: 0.4375\n",
      "Epoch 71/500\n",
      "1/1 [==============================] - 15s 15s/step - loss: 8.1351 - accuracy: 0.2812 - val_loss: 7.2682 - val_accuracy: 0.2500\n",
      "Epoch 72/500\n",
      "1/1 [==============================] - 15s 15s/step - loss: 7.0453 - accuracy: 0.3125 - val_loss: 6.9147 - val_accuracy: 0.3750\n",
      "Epoch 73/500\n",
      "1/1 [==============================] - 15s 15s/step - loss: 8.3459 - accuracy: 0.2812 - val_loss: 5.4573 - val_accuracy: 0.5000\n",
      "Epoch 74/500\n",
      "1/1 [==============================] - 16s 16s/step - loss: 6.0846 - accuracy: 0.4688 - val_loss: 7.5878 - val_accuracy: 0.5312\n",
      "Epoch 75/500\n",
      "1/1 [==============================] - 15s 15s/step - loss: 9.3274 - accuracy: 0.3438 - val_loss: 6.4489 - val_accuracy: 0.4375\n",
      "Epoch 76/500\n",
      "1/1 [==============================] - 15s 15s/step - loss: 6.1372 - accuracy: 0.4375 - val_loss: 8.5760 - val_accuracy: 0.3438\n",
      "Epoch 77/500\n",
      "1/1 [==============================] - 15s 15s/step - loss: 4.7241 - accuracy: 0.4062 - val_loss: 7.7976 - val_accuracy: 0.3438\n",
      "Epoch 78/500\n",
      "1/1 [==============================] - 15s 15s/step - loss: 9.4820 - accuracy: 0.3438 - val_loss: 7.3998 - val_accuracy: 0.2812\n",
      "Epoch 79/500\n",
      "1/1 [==============================] - 15s 15s/step - loss: 6.1059 - accuracy: 0.2812 - val_loss: 9.9018 - val_accuracy: 0.3750\n",
      "Epoch 80/500\n",
      "1/1 [==============================] - 15s 15s/step - loss: 9.2357 - accuracy: 0.4375 - val_loss: 7.5201 - val_accuracy: 0.5938\n",
      "Epoch 81/500\n",
      "1/1 [==============================] - 16s 16s/step - loss: 6.4311 - accuracy: 0.6250 - val_loss: 13.5555 - val_accuracy: 0.4375\n",
      "Epoch 82/500\n",
      "1/1 [==============================] - 15s 15s/step - loss: 7.9922 - accuracy: 0.3750 - val_loss: 13.1938 - val_accuracy: 0.2500\n",
      "Epoch 83/500\n",
      "1/1 [==============================] - 15s 15s/step - loss: 7.8619 - accuracy: 0.5000 - val_loss: 11.6341 - val_accuracy: 0.3125\n",
      "Epoch 84/500\n",
      "1/1 [==============================] - 15s 15s/step - loss: 13.1528 - accuracy: 0.2812 - val_loss: 9.7011 - val_accuracy: 0.1562\n",
      "Epoch 85/500\n",
      "1/1 [==============================] - 15s 15s/step - loss: 8.8410 - accuracy: 0.3438 - val_loss: 9.2580 - val_accuracy: 0.2812\n",
      "Epoch 86/500\n",
      "1/1 [==============================] - 15s 15s/step - loss: 10.0375 - accuracy: 0.4688 - val_loss: 9.4430 - val_accuracy: 0.4375\n",
      "Epoch 87/500\n",
      "1/1 [==============================] - 15s 15s/step - loss: 10.9645 - accuracy: 0.3125 - val_loss: 8.4556 - val_accuracy: 0.4375\n",
      "Epoch 88/500\n",
      "1/1 [==============================] - 15s 15s/step - loss: 11.3837 - accuracy: 0.2188 - val_loss: 7.6350 - val_accuracy: 0.3125\n",
      "Epoch 89/500\n",
      "1/1 [==============================] - 15s 15s/step - loss: 7.3973 - accuracy: 0.2812 - val_loss: 7.7172 - val_accuracy: 0.2188\n",
      "Epoch 90/500\n",
      "1/1 [==============================] - 15s 15s/step - loss: 6.9732 - accuracy: 0.3750 - val_loss: 7.7257 - val_accuracy: 0.3438\n",
      "Epoch 91/500\n",
      "1/1 [==============================] - 15s 15s/step - loss: 6.9901 - accuracy: 0.3750 - val_loss: 8.0367 - val_accuracy: 0.2812\n",
      "Epoch 92/500\n",
      "1/1 [==============================] - 15s 15s/step - loss: 8.8142 - accuracy: 0.2500 - val_loss: 7.1913 - val_accuracy: 0.3750\n",
      "Epoch 93/500\n",
      "1/1 [==============================] - 15s 15s/step - loss: 5.3951 - accuracy: 0.5312 - val_loss: 7.5866 - val_accuracy: 0.4375\n",
      "Epoch 94/500\n",
      "1/1 [==============================] - 15s 15s/step - loss: 8.6857 - accuracy: 0.3438 - val_loss: 8.6641 - val_accuracy: 0.4688\n",
      "Epoch 95/500\n",
      "1/1 [==============================] - 15s 15s/step - loss: 6.9492 - accuracy: 0.4688 - val_loss: 7.0952 - val_accuracy: 0.3125\n",
      "Epoch 96/500\n",
      "1/1 [==============================] - 15s 15s/step - loss: 7.3179 - accuracy: 0.4375 - val_loss: 14.5487 - val_accuracy: 0.0625\n",
      "Epoch 97/500\n",
      "1/1 [==============================] - 15s 15s/step - loss: 13.9577 - accuracy: 0.1250 - val_loss: 7.9422 - val_accuracy: 0.2812\n",
      "Epoch 98/500\n",
      "1/1 [==============================] - 15s 15s/step - loss: 7.2551 - accuracy: 0.3438 - val_loss: 9.3318 - val_accuracy: 0.4375\n",
      "Epoch 99/500\n",
      "1/1 [==============================] - 18s 18s/step - loss: 7.4963 - accuracy: 0.4062 - val_loss: 8.6761 - val_accuracy: 0.4375\n",
      "Epoch 100/500\n",
      "1/1 [==============================] - 16s 16s/step - loss: 14.9815 - accuracy: 0.3125 - val_loss: 4.5362 - val_accuracy: 0.5312\n",
      "Epoch 101/500\n",
      "1/1 [==============================] - 16s 16s/step - loss: 8.6142 - accuracy: 0.3750 - val_loss: 5.4899 - val_accuracy: 0.3438\n",
      "Epoch 102/500\n",
      "1/1 [==============================] - 16s 16s/step - loss: 7.6302 - accuracy: 0.3438 - val_loss: 7.7903 - val_accuracy: 0.0312\n",
      "Epoch 103/500\n",
      "1/1 [==============================] - 16s 16s/step - loss: 9.7715 - accuracy: 0.0000e+00 - val_loss: 5.7301 - val_accuracy: 0.5000\n",
      "Epoch 104/500\n",
      "1/1 [==============================] - 15s 15s/step - loss: 7.7347 - accuracy: 0.2812 - val_loss: 8.8823 - val_accuracy: 0.0312\n",
      "Epoch 105/500\n",
      "1/1 [==============================] - 16s 16s/step - loss: 8.5396 - accuracy: 0.1562 - val_loss: 6.0064 - val_accuracy: 0.5938\n",
      "Epoch 106/500\n",
      "1/1 [==============================] - 15s 15s/step - loss: 7.2870 - accuracy: 0.5312 - val_loss: 9.2418 - val_accuracy: 0.4688\n",
      "Epoch 107/500\n",
      "1/1 [==============================] - 15s 15s/step - loss: 11.2145 - accuracy: 0.4062 - val_loss: 7.6484 - val_accuracy: 0.4375\n",
      "Epoch 108/500\n",
      "1/1 [==============================] - 15s 15s/step - loss: 8.1083 - accuracy: 0.4062 - val_loss: 6.6073 - val_accuracy: 0.4688\n",
      "Epoch 109/500\n",
      "1/1 [==============================] - 15s 15s/step - loss: 7.1545 - accuracy: 0.5312 - val_loss: 7.1307 - val_accuracy: 0.3750\n",
      "Epoch 110/500\n",
      "1/1 [==============================] - 15s 15s/step - loss: 6.7241 - accuracy: 0.4688 - val_loss: 6.0180 - val_accuracy: 0.4062\n",
      "Epoch 111/500\n",
      "1/1 [==============================] - 15s 15s/step - loss: 8.5704 - accuracy: 0.3125 - val_loss: 7.8752 - val_accuracy: 0.2812\n",
      "Epoch 112/500\n",
      "1/1 [==============================] - 15s 15s/step - loss: 7.0535 - accuracy: 0.4062 - val_loss: 6.9894 - val_accuracy: 0.3125\n",
      "Epoch 113/500\n",
      "1/1 [==============================] - 11s 11s/step - loss: 7.0084 - accuracy: 0.5455 - val_loss: 7.5727 - val_accuracy: 0.2188\n",
      "Epoch 114/500\n",
      "WARNING:tensorflow:Your input ran out of data; interrupting training. Make sure that your dataset or generator can generate at least `steps_per_epoch * epochs` batches (in this case, 500 batches). You may need to use the repeat() function when building your dataset.\n",
      "1/1 [==============================] - 9s 9s/step - loss: 7.0084 - accuracy: 0.5455 - val_loss: 5.0268 - val_accuracy: 0.3438\n"
     ]
    }
   ],
   "source": [
    "# Training\n",
    "history = model.fit(\n",
    "    training_generator,\n",
    "    steps_per_epoch=1,\n",
    "    epochs=EPOCHS,\n",
    "    validation_data=validation_generator,\n",
    "    validation_steps=1,\n",
    "    verbose=1,\n",
    "    callbacks = [early_stopping])"
   ]
  },
  {
   "cell_type": "code",
   "execution_count": null,
   "id": "scCd6YtS2Agv",
   "metadata": {
    "id": "scCd6YtS2Agv"
   },
   "outputs": [],
   "source": [
    "model.save('resnet50mod-retrain1-freeze.h5')"
   ]
  },
  {
   "cell_type": "markdown",
   "id": "-ETXgoMSIJT8",
   "metadata": {
    "id": "-ETXgoMSIJT8"
   },
   "source": [
    "### 05. Analysis of results"
   ]
  },
  {
   "cell_type": "code",
   "execution_count": null,
   "id": "b7eaf27a",
   "metadata": {
    "colab": {
     "base_uri": "https://localhost:8080/",
     "height": 295
    },
    "id": "b7eaf27a",
    "outputId": "4cc706cb-1868-4b94-a155-5029fac79cb1"
   },
   "outputs": [
    {
     "data": {
      "image/png": "[encoded data removed]",
      "text/plain": [
       "<Figure size 432x288 with 1 Axes>"
      ]
     },
     "metadata": {
      "needs_background": "light"
     },
     "output_type": "display_data"
    }
   ],
   "source": [
    "# summarize history for accuracy\n",
    "plt.plot(history.history['accuracy'])\n",
    "plt.plot(history.history['val_accuracy'])\n",
    "plt.title('model accuracy')\n",
    "plt.ylabel('accuracy')\n",
    "plt.xlabel('epoch')\n",
    "plt.legend(['train', 'test'], loc='upper left')\n",
    "plt.show()"
   ]
  },
  {
   "cell_type": "markdown",
   "id": "2plxk_uBYC9m",
   "metadata": {
    "id": "2plxk_uBYC9m"
   },
   "source": [
    "It is observed that the accuracy does not vary throughout the training and the value it takes is very low."
   ]
  },
  {
   "cell_type": "code",
   "execution_count": null,
   "id": "86ae19f8",
   "metadata": {
    "colab": {
     "base_uri": "https://localhost:8080/",
     "height": 295
    },
    "id": "86ae19f8",
    "outputId": "6ffa49e3-1a64-49ce-8adf-d4bba03aa5f0"
   },
   "outputs": [
    {
     "data": {
      "image/png": "[encoded data removed]",
      "text/plain": [
       "<Figure size 432x288 with 1 Axes>"
      ]
     },
     "metadata": {
      "needs_background": "light"
     },
     "output_type": "display_data"
    }
   ],
   "source": [
    "# summarize history for loss\n",
    "plt.plot(history.history['loss'][1:])\n",
    "plt.plot(history.history['val_loss'][1:])\n",
    "plt.title('model loss')\n",
    "plt.ylabel('loss')\n",
    "plt.xlabel('epoch')\n",
    "plt.legend(['train', 'test'], loc='upper left')\n",
    "plt.show()"
   ]
  },
  {
   "cell_type": "markdown",
   "id": "p1lg0nM-YHcC",
   "metadata": {
    "id": "p1lg0nM-YHcC"
   },
   "source": [
    "In the case of loss, it is observed that as the epochs increase, their value decreases, which is the objective."
   ]
  },
  {
   "cell_type": "code",
   "execution_count": null,
   "id": "y46oLQtN2GIK",
   "metadata": {
    "id": "y46oLQtN2GIK"
   },
   "outputs": [],
   "source": [
    "model = load_model('resnet50mod-retrain1-freeze.h5')"
   ]
  },
  {
   "cell_type": "code",
   "execution_count": null,
   "id": "7be4aa82",
   "metadata": {
    "id": "7be4aa82"
   },
   "outputs": [],
   "source": [
    "## Predict on test data\n",
    "y_pred = model.predict(test_generator)"
   ]
  },
  {
   "cell_type": "code",
   "execution_count": null,
   "id": "Ny90-1_ykptA",
   "metadata": {
    "id": "Ny90-1_ykptA"
   },
   "outputs": [],
   "source": [
    "test_labels = []\n",
    "for image_batch, labels_batch in test_generator:\n",
    "  for vector in labels_batch:\n",
    "    test_labels.append(vector.numpy().astype(int))\n",
    "\n",
    "y_real = np.array(test_labels)"
   ]
  },
  {
   "cell_type": "code",
   "execution_count": null,
   "id": "dza4HvSe7hya",
   "metadata": {
    "id": "dza4HvSe7hya"
   },
   "outputs": [],
   "source": [
    "y_pred_class = y_pred.argmax(axis=1)"
   ]
  },
  {
   "cell_type": "code",
   "execution_count": null,
   "id": "w4xGfy2p9FhV",
   "metadata": {
    "id": "w4xGfy2p9FhV"
   },
   "outputs": [],
   "source": [
    "y_real_class = y_real.argmax(axis=1)"
   ]
  },
  {
   "cell_type": "code",
   "execution_count": null,
   "id": "2h7VR_MYoA-I",
   "metadata": {
    "colab": {
     "base_uri": "https://localhost:8080/",
     "height": 313
    },
    "id": "2h7VR_MYoA-I",
    "outputId": "b6ec7407-0281-42d3-acd4-958173170977"
   },
   "outputs": [
    {
     "data": {
      "text/plain": [
       "Text(33.0, 0.5, 'Truth')"
      ]
     },
     "execution_count": 20,
     "metadata": {},
     "output_type": "execute_result"
    },
    {
     "data": {
      "image/png": "[encoded data removed]",
      "text/plain": [
       "<Figure size 432x288 with 2 Axes>"
      ]
     },
     "metadata": {
      "needs_background": "light"
     },
     "output_type": "display_data"
    }
   ],
   "source": [
    "labels = ['A', 'C', 'D', 'G', 'H', 'M', 'N']\n",
    "\n",
    "cf_matrix = confusion_matrix(y_real_class, y_pred_class)\n",
    "sns.heatmap(cf_matrix, annot=True, xticklabels=labels, yticklabels=labels, fmt='d')\n",
    "plt.title('Matriz de confusión conjunto de test')\n",
    "plt.xlabel('Predicted')\n",
    "plt.ylabel('Truth')"
   ]
  },
  {
   "cell_type": "markdown",
   "id": "nYILCYBeYLkN",
   "metadata": {
    "id": "nYILCYBeYLkN"
   },
   "source": [
    "In this case, the model classifies all images within the class diabetes or normal."
   ]
  },
  {
   "cell_type": "code",
   "execution_count": null,
   "id": "8KPBOwn1Y81T",
   "metadata": {
    "colab": {
     "base_uri": "https://localhost:8080/"
    },
    "id": "8KPBOwn1Y81T",
    "outputId": "3349cf46-c5c8-4edc-e1c3-8f43a294c67f"
   },
   "outputs": [
    {
     "name": "stdout",
     "output_type": "stream",
     "text": [
      "              precision    recall  f1-score   support\n",
      "\n",
      "           A       0.00      0.00      0.00        27\n",
      "           C       0.67      0.07      0.12        29\n",
      "           D       0.30      0.80      0.44       161\n",
      "           G       0.00      0.00      0.00        28\n",
      "           H       0.00      0.00      0.00        13\n",
      "           M       0.00      0.00      0.00        23\n",
      "           N       0.59      0.27      0.37       288\n",
      "\n",
      "    accuracy                           0.37       569\n",
      "   macro avg       0.22      0.16      0.13       569\n",
      "weighted avg       0.42      0.37      0.32       569\n",
      "\n"
     ]
    },
    {
     "name": "stderr",
     "output_type": "stream",
     "text": [
      "/usr/local/lib/python3.7/dist-packages/sklearn/metrics/_classification.py:1318: UndefinedMetricWarning: Precision and F-score are ill-defined and being set to 0.0 in labels with no predicted samples. Use `zero_division` parameter to control this behavior.\n",
      "  _warn_prf(average, modifier, msg_start, len(result))\n",
      "/usr/local/lib/python3.7/dist-packages/sklearn/metrics/_classification.py:1318: UndefinedMetricWarning: Precision and F-score are ill-defined and being set to 0.0 in labels with no predicted samples. Use `zero_division` parameter to control this behavior.\n",
      "  _warn_prf(average, modifier, msg_start, len(result))\n",
      "/usr/local/lib/python3.7/dist-packages/sklearn/metrics/_classification.py:1318: UndefinedMetricWarning: Precision and F-score are ill-defined and being set to 0.0 in labels with no predicted samples. Use `zero_division` parameter to control this behavior.\n",
      "  _warn_prf(average, modifier, msg_start, len(result))\n"
     ]
    }
   ],
   "source": [
    "print(classification_report(y_real_class, y_pred_class, target_names=labels))"
   ]
  }
 ],
 "metadata": {
  "colab": {
   "collapsed_sections": [],
   "name": "09_Resnet_Retrained.ipynb",
   "provenance": []
  },
  "kernelspec": {
   "display_name": "Python 3",
   "language": "python",
   "name": "python3"
  },
  "language_info": {
   "codemirror_mode": {
    "name": "ipython",
    "version": 3
   },
   "file_extension": ".py",
   "mimetype": "text/x-python",
   "name": "python",
   "nbconvert_exporter": "python",
   "pygments_lexer": "ipython3",
   "version": "3.8.8"
  }
 },
 "nbformat": 4,
 "nbformat_minor": 5
}

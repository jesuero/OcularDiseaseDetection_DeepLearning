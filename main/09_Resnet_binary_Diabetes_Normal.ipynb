{
 "cells": [
  {
   "cell_type": "markdown",
   "id": "AvaqdIxbCdMu",
   "metadata": {
    "id": "AvaqdIxbCdMu"
   },
   "source": [
    "## ResNet Model for classification of Diabetes and Normal categories\n",
    "\n",
    "For this notebook pretrained Resnet50 model will be used to do a binary classification and predict between Normal and Diabetes categories."
   ]
  },
  {
   "cell_type": "markdown",
   "id": "3ttt10dPCrDk",
   "metadata": {
    "id": "3ttt10dPCrDk"
   },
   "source": [
    "### 00. Load libraries"
   ]
  },
  {
   "cell_type": "code",
   "execution_count": null,
   "id": "671b7100",
   "metadata": {
    "id": "671b7100"
   },
   "outputs": [],
   "source": [
    "import tensorflow as tf\n",
    "from tensorflow.keras.preprocessing.image import ImageDataGenerator\n",
    "from tensorflow.keras.models import Sequential, Model, load_model\n",
    "from tensorflow.keras.optimizers import Adam\n",
    "from tensorflow.keras.layers import Rescaling, Activation, Dropout, Flatten, Dense, GlobalMaxPooling2D, Conv2D, MaxPooling2D\n",
    "from tensorflow.keras.callbacks import EarlyStopping\n",
    "from tensorflow.keras.applications import ResNet50\n",
    "\n",
    "import os\n",
    "import numpy as np\n",
    "\n",
    "import matplotlib.pyplot as plt\n",
    "import seaborn as sns\n",
    "\n",
    "from sklearn.metrics import confusion_matrix\n",
    "from sklearn.metrics import classification_report"
   ]
  },
  {
   "cell_type": "markdown",
   "id": "VBA7nu8zC2K-",
   "metadata": {
    "id": "VBA7nu8zC2K-"
   },
   "source": [
    "### 01. Load images\n",
    "The images are separated into train, test and validation using the function of keras call image_dataset_from_directory"
   ]
  },
  {
   "cell_type": "code",
   "execution_count": null,
   "id": "230bf783",
   "metadata": {
    "id": "230bf783"
   },
   "outputs": [],
   "source": [
    "train_dir = './N_D_labeled-images/train'\n",
    "test_dir = './N_D_labeled-images/test'\n",
    "\n",
    "BATCH_SIZE = 32\n",
    "IMG_HEIGHT = 264\n",
    "IMG_WIDTH = 264\n",
    "EPOCHS = 100\n",
    "\n",
    "input_shape = (IMG_WIDTH, IMG_HEIGHT, 3)"
   ]
  },
  {
   "cell_type": "code",
   "execution_count": null,
   "id": "62f81500",
   "metadata": {
    "colab": {
     "base_uri": "https://localhost:8080/"
    },
    "id": "62f81500",
    "outputId": "216655ee-4cc7-443b-e883-274a74857309"
   },
   "outputs": [
    {
     "name": "stdout",
     "output_type": "stream",
     "text": [
      "Found 4032 files belonging to 2 classes.\n",
      "Using 3226 files for training.\n",
      "Found 4032 files belonging to 2 classes.\n",
      "Using 806 files for validation.\n",
      "Found 449 files belonging to 2 classes.\n"
     ]
    }
   ],
   "source": [
    "# Creating generators (prepare data to feed the model)\n",
    "training_generator = tf.keras.utils.image_dataset_from_directory(\n",
    "    train_dir,\n",
    "    labels='inferred',\n",
    "    label_mode='binary',\n",
    "    batch_size=BATCH_SIZE,\n",
    "    image_size=(IMG_WIDTH, IMG_HEIGHT),\n",
    "    shuffle=True,\n",
    "    seed=432,\n",
    "    validation_split=0.2,\n",
    "    subset='training',\n",
    ")\n",
    "\n",
    "validation_generator = tf.keras.utils.image_dataset_from_directory(\n",
    "    train_dir,\n",
    "    labels='inferred',\n",
    "    label_mode='binary',\n",
    "    batch_size=BATCH_SIZE,\n",
    "    image_size=(IMG_WIDTH, IMG_HEIGHT),\n",
    "    shuffle=True,\n",
    "    seed=432,\n",
    "    validation_split=0.2,\n",
    "    subset='validation',\n",
    ")\n",
    "\n",
    "test_generator = tf.keras.utils.image_dataset_from_directory(\n",
    "    test_dir,\n",
    "    labels='inferred',\n",
    "    label_mode='binary',\n",
    "    shuffle=False,\n",
    "    batch_size=BATCH_SIZE,\n",
    "    image_size=(IMG_WIDTH, IMG_HEIGHT),\n",
    "    seed=432,\n",
    ")"
   ]
  },
  {
   "cell_type": "markdown",
   "id": "VooYHEN7C7Jk",
   "metadata": {
    "id": "VooYHEN7C7Jk"
   },
   "source": [
    "### 02. Model architecture\n",
    "\n",
    "Loading of pretrained ResNet50 model with imagenet and creation of the architecture."
   ]
  },
  {
   "cell_type": "code",
   "execution_count": null,
   "id": "VJKcQB-RdFuD",
   "metadata": {
    "colab": {
     "base_uri": "https://localhost:8080/"
    },
    "id": "VJKcQB-RdFuD",
    "outputId": "7a877dd0-7f8b-4e7d-c4a3-0a23d08e8f74"
   },
   "outputs": [
    {
     "name": "stdout",
     "output_type": "stream",
     "text": [
      "Downloading data from https://storage.googleapis.com/tensorflow/keras-applications/resnet/resnet50_weights_tf_dim_ordering_tf_kernels_notop.h5\n",
      "94773248/94765736 [==============================] - 0s 0us/step\n",
      "94781440/94765736 [==============================] - 0s 0us/step\n"
     ]
    }
   ],
   "source": [
    "pretrained = ResNet50(weights='imagenet', include_top=False)"
   ]
  },
  {
   "cell_type": "code",
   "execution_count": null,
   "id": "47bcc426",
   "metadata": {
    "colab": {
     "base_uri": "https://localhost:8080/"
    },
    "id": "47bcc426",
    "outputId": "aaee234a-ad3f-4fa1-ce11-4a365445962a"
   },
   "outputs": [
    {
     "name": "stdout",
     "output_type": "stream",
     "text": [
      "Model: \"sequential\"\n",
      "_________________________________________________________________\n",
      " Layer (type)                Output Shape              Param #   \n",
      "=================================================================\n",
      " rescaling (Rescaling)       (None, 264, 264, 3)       0         \n",
      "                                                                 \n",
      " resnet50 (Functional)       (None, None, None, 2048)  23587712  \n",
      "                                                                 \n",
      " flatten (Flatten)           (None, 165888)            0         \n",
      "                                                                 \n",
      " dense (Dense)               (None, 256)               42467584  \n",
      "                                                                 \n",
      " dense_1 (Dense)             (None, 256)               65792     \n",
      "                                                                 \n",
      " dense_2 (Dense)             (None, 1)                 257       \n",
      "                                                                 \n",
      " activation (Activation)     (None, 1)                 0         \n",
      "                                                                 \n",
      "=================================================================\n",
      "Total params: 66,121,345\n",
      "Trainable params: 66,068,225\n",
      "Non-trainable params: 53,120\n",
      "_________________________________________________________________\n"
     ]
    }
   ],
   "source": [
    "model = Sequential()\n",
    "\n",
    "model.add(Rescaling(1./255, input_shape=input_shape))\n",
    "\n",
    "model.add(pretrained)\n",
    "\n",
    "model.add(Flatten())\n",
    "model.add(Dense(256, activation='relu'))\n",
    "\n",
    "model.add(Dense(256, activation='relu'))\n",
    "#model.add(Dropout(0.2))\n",
    "\n",
    "model.add(Dense(1))\n",
    "model.add(Activation('sigmoid'))\n",
    "\n",
    "model.summary()"
   ]
  },
  {
   "cell_type": "markdown",
   "id": "UIuUAf9LDHS0",
   "metadata": {
    "id": "UIuUAf9LDHS0"
   },
   "source": [
    "### 03. Weight adjustment\n",
    "As observed in the EDA, the classes were not balanced. In order for the model not to over-train, higher weights are given to those classes with fewer samples."
   ]
  },
  {
   "cell_type": "code",
   "execution_count": null,
   "id": "G6Mja-BsWbsv",
   "metadata": {
    "colab": {
     "base_uri": "https://localhost:8080/"
    },
    "id": "G6Mja-BsWbsv",
    "outputId": "7e771019-1be8-4b3b-ab10-f44b3439f052"
   },
   "outputs": [
    {
     "name": "stdout",
     "output_type": "stream",
     "text": [
      "['D', 'N']\n",
      "[1447, 2585]\n",
      "[1.6703293088490065, 1.2489995996796797]\n"
     ]
    }
   ],
   "source": [
    "cat_list = os.listdir('./N_D_labeled-images/train/')\n",
    "cat_list.sort()\n",
    "\n",
    "lenghts = [len(os.listdir('./N_D_labeled-images/train/'+cat)) for cat in cat_list]\n",
    "total_train_images = np.sum(lenghts)\n",
    "\n",
    "weights = list(np.sqrt(np.round(1/(np.array(lenghts) / total_train_images),2)))\n",
    "\n",
    "print(cat_list)\n",
    "print(lenghts)\n",
    "print(weights)"
   ]
  },
  {
   "cell_type": "markdown",
   "id": "vh4cjiHSDMfU",
   "metadata": {
    "id": "vh4cjiHSDMfU"
   },
   "source": [
    "### 04. Model train\n",
    "We add earlystopping in order to keep the best model. If the model gets worse with increasing iterations, we will keep the best one.\n",
    "\n",
    "For the learning_rate, a small value (0.001) is set so that the different combinations of parameters can be correctly explored until the optimum is reached.\n",
    "\n",
    "The number of epochs was set at 100 in order to appreciate the evolution of the model during training."
   ]
  },
  {
   "cell_type": "code",
   "execution_count": null,
   "id": "8i5ryfjb58n1",
   "metadata": {
    "id": "8i5ryfjb58n1"
   },
   "outputs": [],
   "source": [
    "patience = 20\n",
    "\n",
    "early_stopping = EarlyStopping(monitor='val_loss', patience=patience, restore_best_weights=True)"
   ]
  },
  {
   "cell_type": "code",
   "execution_count": null,
   "id": "_PbjSoGXc_jI",
   "metadata": {
    "id": "_PbjSoGXc_jI"
   },
   "outputs": [],
   "source": [
    "# freeze resnet\n",
    "pretrained.trainable = False\n",
    "\n",
    "model.compile(loss='binary_crossentropy', loss_weights=weights,\n",
    "            optimizer=Adam(learning_rate=0.001),\n",
    "            metrics=['accuracy'])"
   ]
  },
  {
   "cell_type": "code",
   "execution_count": null,
   "id": "91a155d0",
   "metadata": {
    "colab": {
     "base_uri": "https://localhost:8080/"
    },
    "id": "91a155d0",
    "outputId": "a225d3af-53bd-4fec-ba4a-72b9b876ef51"
   },
   "outputs": [
    {
     "name": "stdout",
     "output_type": "stream",
     "text": [
      "Epoch 1/100\n",
      "1/1 [==============================] - 108s 108s/step - loss: 1.1931 - accuracy: 0.5625 - val_loss: 70.7289 - val_accuracy: 0.3750\n",
      "Epoch 2/100\n",
      "1/1 [==============================] - 18s 18s/step - loss: 74.0959 - accuracy: 0.3438 - val_loss: 2.4467 - val_accuracy: 0.8438\n",
      "Epoch 3/100\n",
      "1/1 [==============================] - 17s 17s/step - loss: 4.7632 - accuracy: 0.6875 - val_loss: 6.3758 - val_accuracy: 0.6875\n",
      "Epoch 4/100\n",
      "1/1 [==============================] - 17s 17s/step - loss: 7.6961 - accuracy: 0.6250 - val_loss: 9.5110 - val_accuracy: 0.3125\n",
      "Epoch 5/100\n",
      "1/1 [==============================] - 15s 15s/step - loss: 8.2213 - accuracy: 0.4062 - val_loss: 1.3467 - val_accuracy: 0.8125\n",
      "Epoch 6/100\n",
      "1/1 [==============================] - 16s 16s/step - loss: 3.6727 - accuracy: 0.4688 - val_loss: 2.9178 - val_accuracy: 0.2500\n",
      "Epoch 7/100\n",
      "1/1 [==============================] - 15s 15s/step - loss: 2.2921 - accuracy: 0.4375 - val_loss: 1.6388 - val_accuracy: 0.7188\n",
      "Epoch 8/100\n",
      "1/1 [==============================] - 15s 15s/step - loss: 2.6103 - accuracy: 0.5625 - val_loss: 1.2027 - val_accuracy: 0.3438\n",
      "Epoch 9/100\n",
      "1/1 [==============================] - 16s 16s/step - loss: 1.2642 - accuracy: 0.2500 - val_loss: 1.5225 - val_accuracy: 0.6562\n",
      "Epoch 10/100\n",
      "1/1 [==============================] - 15s 15s/step - loss: 1.4624 - accuracy: 0.6562 - val_loss: 1.2518 - val_accuracy: 0.4375\n",
      "Epoch 11/100\n",
      "1/1 [==============================] - 15s 15s/step - loss: 1.4089 - accuracy: 0.2812 - val_loss: 2.2166 - val_accuracy: 0.6250\n",
      "Epoch 12/100\n",
      "1/1 [==============================] - 15s 15s/step - loss: 1.5451 - accuracy: 0.7500 - val_loss: 1.5841 - val_accuracy: 0.7188\n",
      "Epoch 13/100\n",
      "1/1 [==============================] - 15s 15s/step - loss: 2.2578 - accuracy: 0.5938 - val_loss: 2.3346 - val_accuracy: 0.4062\n",
      "Epoch 14/100\n",
      "1/1 [==============================] - 15s 15s/step - loss: 2.7653 - accuracy: 0.2812 - val_loss: 1.7405 - val_accuracy: 0.6562\n",
      "Epoch 15/100\n",
      "1/1 [==============================] - 15s 15s/step - loss: 1.7682 - accuracy: 0.6562 - val_loss: 1.0046 - val_accuracy: 0.7812\n",
      "Epoch 16/100\n",
      "1/1 [==============================] - 15s 15s/step - loss: 1.9997 - accuracy: 0.5312 - val_loss: 3.2239 - val_accuracy: 0.3438\n",
      "Epoch 17/100\n",
      "1/1 [==============================] - 15s 15s/step - loss: 3.7142 - accuracy: 0.2500 - val_loss: 1.3272 - val_accuracy: 0.6875\n",
      "Epoch 18/100\n",
      "1/1 [==============================] - 15s 15s/step - loss: 2.0859 - accuracy: 0.5000 - val_loss: 1.3135 - val_accuracy: 0.5000\n",
      "Epoch 19/100\n",
      "1/1 [==============================] - 15s 15s/step - loss: 1.0842 - accuracy: 0.6562 - val_loss: 1.7677 - val_accuracy: 0.3125\n",
      "Epoch 20/100\n",
      "1/1 [==============================] - 15s 15s/step - loss: 1.5817 - accuracy: 0.3750 - val_loss: 1.2835 - val_accuracy: 0.7188\n",
      "Epoch 21/100\n",
      "1/1 [==============================] - 15s 15s/step - loss: 1.9283 - accuracy: 0.5938 - val_loss: 1.1304 - val_accuracy: 0.5938\n",
      "Epoch 22/100\n",
      "1/1 [==============================] - 15s 15s/step - loss: 1.1515 - accuracy: 0.5938 - val_loss: 2.0933 - val_accuracy: 0.4062\n",
      "Epoch 23/100\n",
      "1/1 [==============================] - 15s 15s/step - loss: 2.7333 - accuracy: 0.2188 - val_loss: 1.5917 - val_accuracy: 0.7500\n",
      "Epoch 24/100\n",
      "1/1 [==============================] - 15s 15s/step - loss: 3.1213 - accuracy: 0.5000 - val_loss: 2.4641 - val_accuracy: 0.5312\n",
      "Epoch 25/100\n",
      "1/1 [==============================] - 15s 15s/step - loss: 2.1181 - accuracy: 0.5938 - val_loss: 2.2943 - val_accuracy: 0.2500\n",
      "Epoch 26/100\n",
      "1/1 [==============================] - 15s 15s/step - loss: 2.2359 - accuracy: 0.2812 - val_loss: 0.9345 - val_accuracy: 0.8125\n",
      "Epoch 27/100\n",
      "1/1 [==============================] - 15s 15s/step - loss: 1.1611 - accuracy: 0.5938 - val_loss: 2.3162 - val_accuracy: 0.5625\n",
      "Epoch 28/100\n",
      "1/1 [==============================] - 15s 15s/step - loss: 1.7667 - accuracy: 0.6562 - val_loss: 1.3198 - val_accuracy: 0.6875\n",
      "Epoch 29/100\n",
      "1/1 [==============================] - 15s 15s/step - loss: 2.0594 - accuracy: 0.4688 - val_loss: 3.6647 - val_accuracy: 0.3125\n",
      "Epoch 30/100\n",
      "1/1 [==============================] - 15s 15s/step - loss: 3.7830 - accuracy: 0.2812 - val_loss: 1.6837 - val_accuracy: 0.2188\n",
      "Epoch 31/100\n",
      "1/1 [==============================] - 15s 15s/step - loss: 1.6411 - accuracy: 0.2188 - val_loss: 3.9401 - val_accuracy: 0.5938\n",
      "Epoch 32/100\n",
      "1/1 [==============================] - 15s 15s/step - loss: 3.7286 - accuracy: 0.6250 - val_loss: 3.2562 - val_accuracy: 0.7500\n",
      "Epoch 33/100\n",
      "1/1 [==============================] - 15s 15s/step - loss: 3.2674 - accuracy: 0.7500 - val_loss: 3.3291 - val_accuracy: 0.7188\n",
      "Epoch 34/100\n",
      "1/1 [==============================] - 15s 15s/step - loss: 5.5834 - accuracy: 0.5625 - val_loss: 1.7284 - val_accuracy: 0.6875\n",
      "Epoch 35/100\n",
      "1/1 [==============================] - 15s 15s/step - loss: 1.5020 - accuracy: 0.7188 - val_loss: 3.3122 - val_accuracy: 0.3125\n",
      "Epoch 36/100\n",
      "1/1 [==============================] - 15s 15s/step - loss: 2.9114 - accuracy: 0.4062 - val_loss: 3.7992 - val_accuracy: 0.3438\n",
      "Epoch 37/100\n",
      "1/1 [==============================] - 15s 15s/step - loss: 3.9308 - accuracy: 0.3125 - val_loss: 1.5672 - val_accuracy: 0.7500\n",
      "Epoch 38/100\n",
      "1/1 [==============================] - 15s 15s/step - loss: 2.6973 - accuracy: 0.5625 - val_loss: 1.4630 - val_accuracy: 0.6875\n",
      "Epoch 39/100\n",
      "1/1 [==============================] - 20s 20s/step - loss: 1.3862 - accuracy: 0.6875 - val_loss: 1.0241 - val_accuracy: 0.7188\n",
      "Epoch 40/100\n",
      "1/1 [==============================] - 15s 15s/step - loss: 1.2303 - accuracy: 0.6250 - val_loss: 2.0303 - val_accuracy: 0.1250\n",
      "Epoch 41/100\n",
      "1/1 [==============================] - 15s 15s/step - loss: 1.5186 - accuracy: 0.3438 - val_loss: 1.2580 - val_accuracy: 0.3438\n",
      "Epoch 42/100\n",
      "1/1 [==============================] - 15s 15s/step - loss: 1.2079 - accuracy: 0.3750 - val_loss: 1.3548 - val_accuracy: 0.6250\n",
      "Epoch 43/100\n",
      "1/1 [==============================] - 15s 15s/step - loss: 1.4207 - accuracy: 0.5938 - val_loss: 0.5445 - val_accuracy: 0.9062\n",
      "Epoch 44/100\n",
      "1/1 [==============================] - 15s 15s/step - loss: 1.4186 - accuracy: 0.6250 - val_loss: 1.3519 - val_accuracy: 0.6250\n",
      "Epoch 45/100\n",
      "1/1 [==============================] - 15s 15s/step - loss: 1.2453 - accuracy: 0.6562 - val_loss: 2.9426 - val_accuracy: 0.2812\n",
      "Epoch 46/100\n",
      "1/1 [==============================] - 15s 15s/step - loss: 2.7999 - accuracy: 0.3750 - val_loss: 1.5034 - val_accuracy: 0.2812\n",
      "Epoch 47/100\n",
      "1/1 [==============================] - 15s 15s/step - loss: 1.5063 - accuracy: 0.4375 - val_loss: 1.4907 - val_accuracy: 0.6562\n",
      "Epoch 48/100\n",
      "1/1 [==============================] - 15s 15s/step - loss: 1.4228 - accuracy: 0.6875 - val_loss: 2.3440 - val_accuracy: 0.6250\n",
      "Epoch 49/100\n",
      "1/1 [==============================] - 15s 15s/step - loss: 1.7473 - accuracy: 0.7188 - val_loss: 2.0032 - val_accuracy: 0.6250\n",
      "Epoch 50/100\n",
      "1/1 [==============================] - 15s 15s/step - loss: 1.8406 - accuracy: 0.6562 - val_loss: 0.9813 - val_accuracy: 0.7188\n",
      "Epoch 51/100\n",
      "1/1 [==============================] - 15s 15s/step - loss: 1.1584 - accuracy: 0.5000 - val_loss: 3.6460 - val_accuracy: 0.3438\n",
      "Epoch 52/100\n",
      "1/1 [==============================] - 15s 15s/step - loss: 3.5207 - accuracy: 0.3750 - val_loss: 2.2965 - val_accuracy: 0.1875\n",
      "Epoch 53/100\n",
      "1/1 [==============================] - 15s 15s/step - loss: 2.1877 - accuracy: 0.2812 - val_loss: 2.0105 - val_accuracy: 0.6562\n",
      "Epoch 54/100\n",
      "1/1 [==============================] - 15s 15s/step - loss: 1.1390 - accuracy: 0.8125 - val_loss: 2.6360 - val_accuracy: 0.7500\n",
      "Epoch 55/100\n",
      "1/1 [==============================] - 15s 15s/step - loss: 4.8469 - accuracy: 0.5625 - val_loss: 4.9065 - val_accuracy: 0.5625\n",
      "Epoch 56/100\n",
      "1/1 [==============================] - 15s 15s/step - loss: 1.7465 - accuracy: 0.8438 - val_loss: 2.0039 - val_accuracy: 0.7812\n",
      "Epoch 57/100\n",
      "1/1 [==============================] - 15s 15s/step - loss: 3.0820 - accuracy: 0.6875 - val_loss: 1.7479 - val_accuracy: 0.6562\n",
      "Epoch 58/100\n",
      "1/1 [==============================] - 15s 15s/step - loss: 2.3397 - accuracy: 0.5625 - val_loss: 2.1769 - val_accuracy: 0.3438\n",
      "Epoch 59/100\n",
      "1/1 [==============================] - 15s 15s/step - loss: 1.7604 - accuracy: 0.5000 - val_loss: 4.3678 - val_accuracy: 0.3438\n",
      "Epoch 60/100\n",
      "1/1 [==============================] - 15s 15s/step - loss: 4.1600 - accuracy: 0.3438 - val_loss: 2.7264 - val_accuracy: 0.2812\n",
      "Epoch 61/100\n",
      "1/1 [==============================] - 15s 15s/step - loss: 2.5145 - accuracy: 0.3438 - val_loss: 1.6657 - val_accuracy: 0.6250\n",
      "Epoch 62/100\n",
      "1/1 [==============================] - 15s 15s/step - loss: 1.3416 - accuracy: 0.6875 - val_loss: 2.6547 - val_accuracy: 0.6875\n",
      "Epoch 63/100\n",
      "1/1 [==============================] - 15s 15s/step - loss: 2.8106 - accuracy: 0.6875 - val_loss: 3.0041 - val_accuracy: 0.6875\n"
     ]
    }
   ],
   "source": [
    "# Training\n",
    "history = model.fit(\n",
    "    training_generator,\n",
    "    steps_per_epoch=1,\n",
    "    epochs=EPOCHS,\n",
    "    validation_data=validation_generator,\n",
    "    validation_steps=1,\n",
    "    verbose=1,\n",
    "    callbacks = [early_stopping])"
   ]
  },
  {
   "cell_type": "code",
   "execution_count": null,
   "id": "scCd6YtS2Agv",
   "metadata": {
    "id": "scCd6YtS2Agv"
   },
   "outputs": [],
   "source": [
    "model.save('resnet50_binary-100epoch-freeze.h5')"
   ]
  },
  {
   "cell_type": "markdown",
   "id": "_rlklBn_DS79",
   "metadata": {
    "id": "_rlklBn_DS79"
   },
   "source": [
    "### 05. Analysis of results"
   ]
  },
  {
   "cell_type": "code",
   "execution_count": null,
   "id": "b7eaf27a",
   "metadata": {
    "colab": {
     "base_uri": "https://localhost:8080/",
     "height": 295
    },
    "id": "b7eaf27a",
    "outputId": "85a34a13-a37f-444e-ac91-0213469d0126"
   },
   "outputs": [
    {
     "data": {
      "image/png": "[encoded data removed]",
      "text/plain": [
       "<Figure size 432x288 with 1 Axes>"
      ]
     },
     "metadata": {
      "needs_background": "light"
     },
     "output_type": "display_data"
    }
   ],
   "source": [
    "# summarize history for accuracy\n",
    "plt.plot(history.history['accuracy'])\n",
    "plt.plot(history.history['val_accuracy'])\n",
    "plt.title('model accuracy')\n",
    "plt.ylabel('accuracy')\n",
    "plt.xlabel('epoch')\n",
    "plt.legend(['train', 'test'], loc='upper left')\n",
    "plt.show()"
   ]
  },
  {
   "cell_type": "markdown",
   "id": "ex-r0cSsVHsC",
   "metadata": {
    "id": "ex-r0cSsVHsC"
   },
   "source": [
    "It is observed that the accuracy does not vary throughout the training.\n",
    "Although the accuracy takes values around 0.7, it is considered that it is not a good model since it is not improving throughout the learning process."
   ]
  },
  {
   "cell_type": "code",
   "execution_count": null,
   "id": "86ae19f8",
   "metadata": {
    "colab": {
     "base_uri": "https://localhost:8080/",
     "height": 295
    },
    "id": "86ae19f8",
    "outputId": "ad6a9a93-057c-4ab0-f285-aceb0689bc39"
   },
   "outputs": [
    {
     "data": {
      "image/png": "[encoded data removed]",
      "text/plain": [
       "<Figure size 432x288 with 1 Axes>"
      ]
     },
     "metadata": {
      "needs_background": "light"
     },
     "output_type": "display_data"
    }
   ],
   "source": [
    "# summarize history for loss\n",
    "plt.plot(history.history['loss'][1:])\n",
    "plt.plot(history.history['val_loss'][1:])\n",
    "plt.title('model loss')\n",
    "plt.ylabel('loss')\n",
    "plt.xlabel('epoch')\n",
    "plt.legend(['train', 'test'], loc='upper left')\n",
    "plt.show()"
   ]
  },
  {
   "cell_type": "markdown",
   "id": "bDBSe8h6V6qN",
   "metadata": {
    "id": "bDBSe8h6V6qN"
   },
   "source": [
    "In the case of loss, it is observed that as the epochs increase, their value decreases, which is the objective."
   ]
  },
  {
   "cell_type": "code",
   "execution_count": null,
   "id": "y46oLQtN2GIK",
   "metadata": {
    "id": "y46oLQtN2GIK"
   },
   "outputs": [],
   "source": [
    "model = load_model('resnet50_binary-100epoch-freeze.h5')"
   ]
  },
  {
   "cell_type": "code",
   "execution_count": null,
   "id": "7be4aa82",
   "metadata": {
    "id": "7be4aa82"
   },
   "outputs": [],
   "source": [
    "## Predict on test data\n",
    "y_pred = model.predict(test_generator)"
   ]
  },
  {
   "cell_type": "code",
   "execution_count": null,
   "id": "Ny90-1_ykptA",
   "metadata": {
    "id": "Ny90-1_ykptA"
   },
   "outputs": [],
   "source": [
    "test_labels = []\n",
    "for image_batch, labels_batch in test_generator:\n",
    "  for vector in labels_batch:\n",
    "    test_labels.append(vector.numpy().astype(int))\n",
    "\n",
    "y_real = np.array(test_labels)"
   ]
  },
  {
   "cell_type": "code",
   "execution_count": null,
   "id": "IN5iDfd6Ivo3",
   "metadata": {
    "id": "IN5iDfd6Ivo3"
   },
   "outputs": [],
   "source": [
    "y_pred[y_pred >= 0.5] = 1\n",
    "y_pred[y_pred < 0.5] = 0"
   ]
  },
  {
   "cell_type": "code",
   "execution_count": null,
   "id": "2h7VR_MYoA-I",
   "metadata": {
    "colab": {
     "base_uri": "https://localhost:8080/",
     "height": 313
    },
    "id": "2h7VR_MYoA-I",
    "outputId": "e352f2ac-4256-49e6-b4cf-2564409343a2"
   },
   "outputs": [
    {
     "data": {
      "text/plain": [
       "Text(33.0, 0.5, 'Truth')"
      ]
     },
     "execution_count": 18,
     "metadata": {},
     "output_type": "execute_result"
    },
    {
     "data": {
      "image/png": "[encoded data removed]",
      "text/plain": [
       "<Figure size 432x288 with 2 Axes>"
      ]
     },
     "metadata": {
      "needs_background": "light"
     },
     "output_type": "display_data"
    }
   ],
   "source": [
    "cf_matrix = confusion_matrix(y_real, y_pred)\n",
    "ax = sns.heatmap(cf_matrix, annot=True, fmt='d')\n",
    "plt.title('Matriz de confusión conjunto de test')\n",
    "ax.xaxis.set_ticklabels(['Diabetes','Normal'])\n",
    "ax.yaxis.set_ticklabels(['Diabetes','Normal'])\n",
    "plt.xlabel('Predicted')\n",
    "plt.ylabel('Truth')"
   ]
  },
  {
   "cell_type": "markdown",
   "id": "cqcpPb67Wb-K",
   "metadata": {
    "id": "cqcpPb67Wb-K"
   },
   "source": [
    "As can be seen in the confusion matrix, the model does not distinguish between the two classes and classifies most of the images as normal."
   ]
  },
  {
   "cell_type": "code",
   "execution_count": null,
   "id": "8KPBOwn1Y81T",
   "metadata": {
    "colab": {
     "base_uri": "https://localhost:8080/"
    },
    "id": "8KPBOwn1Y81T",
    "outputId": "f6533d92-7972-44db-ed86-554242f6a5cb"
   },
   "outputs": [
    {
     "name": "stdout",
     "output_type": "stream",
     "text": [
      "              precision    recall  f1-score   support\n",
      "\n",
      "    Diabetes       0.57      0.02      0.05       161\n",
      "      Normal       0.64      0.99      0.78       288\n",
      "\n",
      "    accuracy                           0.64       449\n",
      "   macro avg       0.61      0.51      0.41       449\n",
      "weighted avg       0.62      0.64      0.52       449\n",
      "\n"
     ]
    }
   ],
   "source": [
    "print(classification_report(y_real, y_pred, target_names=['Diabetes','Normal']))"
   ]
  }
 ],
 "metadata": {
  "colab": {
   "collapsed_sections": [],
   "name": "07_Resnet_binary_Diabetes_Normal.ipynb",
   "provenance": []
  },
  "kernelspec": {
   "display_name": "Python 3",
   "language": "python",
   "name": "python3"
  },
  "language_info": {
   "codemirror_mode": {
    "name": "ipython",
    "version": 3
   },
   "file_extension": ".py",
   "mimetype": "text/x-python",
   "name": "python",
   "nbconvert_exporter": "python",
   "pygments_lexer": "ipython3",
   "version": "3.8.8"
  }
 },
 "nbformat": 4,
 "nbformat_minor": 5
}

{
 "cells": [
  {
   "cell_type": "markdown",
   "id": "cGOIm5uJBBHN",
   "metadata": {
    "id": "cGOIm5uJBBHN"
   },
   "source": [
    "## CNN Simple Model\n",
    "\n",
    "Implementing a simple CNN model in order to see how it behaves and if the model learns something from the images or not."
   ]
  },
  {
   "cell_type": "markdown",
   "id": "uJpoi6L-BEp0",
   "metadata": {
    "id": "uJpoi6L-BEp0"
   },
   "source": [
    "### 00. Load libraries"
   ]
  },
  {
   "cell_type": "code",
   "execution_count": null,
   "id": "671b7100",
   "metadata": {
    "id": "671b7100"
   },
   "outputs": [],
   "source": [
    "import tensorflow as tf\n",
    "from tensorflow.keras.preprocessing.image import ImageDataGenerator\n",
    "from tensorflow.keras.models import Sequential, Model\n",
    "from tensorflow.keras.optimizers import RMSprop\n",
    "from tensorflow.keras.layers import Rescaling, Activation, Dropout, Flatten, Dense, GlobalMaxPooling2D, Conv2D, MaxPooling2D\n",
    "\n",
    "import os\n",
    "import numpy as np\n",
    "\n",
    "import matplotlib.pyplot as plt\n",
    "import seaborn as sns\n",
    "\n",
    "from sklearn.metrics import confusion_matrix\n",
    "from sklearn.metrics import classification_report"
   ]
  },
  {
   "cell_type": "markdown",
   "id": "ospXitrfBQ4l",
   "metadata": {
    "id": "ospXitrfBQ4l"
   },
   "source": [
    "### 01. Load images\n",
    "The images are separated into train, test and validation using the function of keras call image_dataset_from_directory"
   ]
  },
  {
   "cell_type": "code",
   "execution_count": null,
   "id": "230bf783",
   "metadata": {
    "id": "230bf783"
   },
   "outputs": [],
   "source": [
    "train_dir = './labeled-images/train'\n",
    "test_dir = './labeled-images/test'\n",
    "\n",
    "BATCH_SIZE = 32\n",
    "IMG_HEIGHT = 264\n",
    "IMG_WIDTH = 264\n",
    "EPOCHS = 20\n",
    "\n",
    "input_shape = (IMG_WIDTH, IMG_HEIGHT, 3)"
   ]
  },
  {
   "cell_type": "code",
   "execution_count": null,
   "id": "62f81500",
   "metadata": {
    "colab": {
     "base_uri": "https://localhost:8080/"
    },
    "id": "62f81500",
    "outputId": "9e4c335b-e97a-40c2-acd3-afc231162fde"
   },
   "outputs": [
    {
     "name": "stdout",
     "output_type": "stream",
     "text": [
      "Found 5752 files belonging to 8 classes.\n",
      "Using 4602 files for training.\n",
      "Found 5752 files belonging to 8 classes.\n",
      "Using 1150 files for validation.\n",
      "Found 640 files belonging to 8 classes.\n"
     ]
    }
   ],
   "source": [
    "# Creating generators (prepare data to feed the model)\n",
    "training_generator = tf.keras.utils.image_dataset_from_directory(\n",
    "    train_dir,\n",
    "    labels='inferred',\n",
    "    label_mode='categorical',\n",
    "    batch_size=BATCH_SIZE,\n",
    "    image_size=(IMG_WIDTH, IMG_HEIGHT),\n",
    "    shuffle=True,\n",
    "    seed=432,\n",
    "    validation_split=0.2,\n",
    "    subset='training',\n",
    ")\n",
    "\n",
    "validation_generator = tf.keras.utils.image_dataset_from_directory(\n",
    "    train_dir,\n",
    "    labels='inferred',\n",
    "    label_mode='categorical',\n",
    "    batch_size=BATCH_SIZE,\n",
    "    image_size=(IMG_WIDTH, IMG_HEIGHT),\n",
    "    shuffle=True,\n",
    "    seed=432,\n",
    "    validation_split=0.2,\n",
    "    subset='validation',\n",
    ")\n",
    "\n",
    "test_generator = tf.keras.utils.image_dataset_from_directory(\n",
    "    test_dir,\n",
    "    labels='inferred',\n",
    "    label_mode='categorical',\n",
    "    shuffle=False,\n",
    "    batch_size=BATCH_SIZE,\n",
    "    image_size=(IMG_WIDTH, IMG_HEIGHT),\n",
    "    seed=432,\n",
    ")"
   ]
  },
  {
   "cell_type": "markdown",
   "id": "UgZSApT-BTgU",
   "metadata": {
    "id": "UgZSApT-BTgU"
   },
   "source": [
    "### 02. Model architecture\n",
    "\n",
    "Creation of the architecture based of state of the art."
   ]
  },
  {
   "cell_type": "code",
   "execution_count": null,
   "id": "47bcc426",
   "metadata": {
    "colab": {
     "base_uri": "https://localhost:8080/"
    },
    "id": "47bcc426",
    "outputId": "cca166d1-413b-41e4-a445-95cd947356c9"
   },
   "outputs": [
    {
     "name": "stdout",
     "output_type": "stream",
     "text": [
      "Model: \"sequential_1\"\n",
      "_________________________________________________________________\n",
      " Layer (type)                Output Shape              Param #   \n",
      "=================================================================\n",
      " rescaling_1 (Rescaling)     (None, 264, 264, 3)       0         \n",
      "                                                                 \n",
      " conv2d_8 (Conv2D)           (None, 88, 88, 32)        896       \n",
      "                                                                 \n",
      " conv2d_9 (Conv2D)           (None, 30, 30, 32)        9248      \n",
      "                                                                 \n",
      " max_pooling2d_4 (MaxPooling  (None, 15, 15, 32)       0         \n",
      " 2D)                                                             \n",
      "                                                                 \n",
      " conv2d_10 (Conv2D)          (None, 5, 5, 64)          18496     \n",
      "                                                                 \n",
      " conv2d_11 (Conv2D)          (None, 2, 2, 64)          36928     \n",
      "                                                                 \n",
      " max_pooling2d_5 (MaxPooling  (None, 1, 1, 64)         0         \n",
      " 2D)                                                             \n",
      "                                                                 \n",
      " conv2d_12 (Conv2D)          (None, 1, 1, 128)         73856     \n",
      "                                                                 \n",
      " conv2d_13 (Conv2D)          (None, 1, 1, 128)         147584    \n",
      "                                                                 \n",
      " max_pooling2d_6 (MaxPooling  (None, 1, 1, 128)        0         \n",
      " 2D)                                                             \n",
      "                                                                 \n",
      " conv2d_14 (Conv2D)          (None, 1, 1, 256)         295168    \n",
      "                                                                 \n",
      " conv2d_15 (Conv2D)          (None, 1, 1, 256)         590080    \n",
      "                                                                 \n",
      " max_pooling2d_7 (MaxPooling  (None, 1, 1, 256)        0         \n",
      " 2D)                                                             \n",
      "                                                                 \n",
      " flatten_1 (Flatten)         (None, 256)               0         \n",
      "                                                                 \n",
      " dense_3 (Dense)             (None, 256)               65792     \n",
      "                                                                 \n",
      " dropout_2 (Dropout)         (None, 256)               0         \n",
      "                                                                 \n",
      " dense_4 (Dense)             (None, 256)               65792     \n",
      "                                                                 \n",
      " dropout_3 (Dropout)         (None, 256)               0         \n",
      "                                                                 \n",
      " dense_5 (Dense)             (None, 8)                 2056      \n",
      "                                                                 \n",
      " activation_1 (Activation)   (None, 8)                 0         \n",
      "                                                                 \n",
      "=================================================================\n",
      "Total params: 1,305,896\n",
      "Trainable params: 1,305,896\n",
      "Non-trainable params: 0\n",
      "_________________________________________________________________\n"
     ]
    }
   ],
   "source": [
    "model = Sequential()\n",
    "model.add(Rescaling(1./255, input_shape=input_shape))\n",
    "model.add(Conv2D(32, 3, 3, padding=\"same\", activation='relu'))\n",
    "model.add(Conv2D(32, 3, 3, padding=\"same\", activation='relu'))\n",
    "model.add(MaxPooling2D(pool_size=(2, 2), padding='same'))\n",
    "\n",
    "model.add(Conv2D(64, 3, 3, padding=\"same\", activation='relu'))\n",
    "model.add(Conv2D(64, 3, 3, padding=\"same\", activation='relu'))\n",
    "model.add(MaxPooling2D(pool_size=(2, 2), padding='same'))\n",
    "\n",
    "model.add(Conv2D(128, 3, 3, padding=\"same\", activation='relu'))\n",
    "model.add(Conv2D(128, 3, 3, padding=\"same\", activation='relu'))\n",
    "model.add(MaxPooling2D(pool_size=(2, 2), padding='same'))\n",
    "\n",
    "model.add(Conv2D(256, 3, 3, padding=\"same\", activation='relu'))\n",
    "model.add(Conv2D(256, 3, 3, padding=\"same\", activation='relu'))\n",
    "model.add(MaxPooling2D(pool_size=(2, 2), padding='same'))\n",
    "\n",
    "model.add(Flatten())\n",
    "model.add(Dense(256, activation='relu'))\n",
    "model.add(Dropout(0.5))\n",
    "\n",
    "model.add(Dense(256, activation='relu'))\n",
    "model.add(Dropout(0.5))\n",
    "\n",
    "model.add(Dense(8))\n",
    "model.add(Activation('softmax'))\n",
    "\n",
    "model.summary()\n"
   ]
  },
  {
   "cell_type": "markdown",
   "id": "SZaCvbN-Bf88",
   "metadata": {
    "id": "SZaCvbN-Bf88"
   },
   "source": [
    "### 03. Weight adjustment\n",
    "As observed in the EDA, the classes were not balanced. In order for the model not to over-train, higher weights are given to those classes with fewer samples."
   ]
  },
  {
   "cell_type": "code",
   "execution_count": null,
   "id": "nI1IC2wtNqOg",
   "metadata": {
    "colab": {
     "base_uri": "https://localhost:8080/"
    },
    "id": "nI1IC2wtNqOg",
    "outputId": "842a25ed-7368-4ed9-9164-3f481e804082"
   },
   "outputs": [
    {
     "name": "stdout",
     "output_type": "stream",
     "text": [
      "['A', 'C', 'D', 'G', 'H', 'M', 'N', 'O']\n",
      "[239, 264, 1447, 256, 115, 209, 2585, 637]\n",
      "[24.07, 21.79, 3.98, 22.47, 50.02, 27.52, 2.23, 9.03]\n"
     ]
    }
   ],
   "source": [
    "cat_list = os.listdir('./labeled-images/train/')\n",
    "cat_list.sort()\n",
    "\n",
    "lenghts = [len(os.listdir('./labeled-images/train/'+cat)) for cat in cat_list]\n",
    "total_train_images = np.sum(lenghts)\n",
    "\n",
    "weights = list(np.round(1/np.array(lenghts) * total_train_images,2))\n",
    "\n",
    "print(cat_list)\n",
    "print(lenghts)\n",
    "print(weights)"
   ]
  },
  {
   "cell_type": "markdown",
   "id": "CLNR7ymuBp3u",
   "metadata": {
    "id": "CLNR7ymuBp3u"
   },
   "source": [
    "### 04. Model train\n",
    "\n",
    "For the learning_rate, a small value (0.001) is set so that the different combinations of parameters can be correctly explored until the optimum is reached.\n",
    "\n",
    "The number of epochs is set to 20."
   ]
  },
  {
   "cell_type": "code",
   "execution_count": null,
   "id": "3mFFJZUjNjnO",
   "metadata": {
    "id": "3mFFJZUjNjnO"
   },
   "outputs": [],
   "source": [
    "model.compile(loss='categorical_crossentropy', loss_weights= weights,\n",
    "            optimizer=RMSprop(learning_rate=0.001),\n",
    "            metrics=['accuracy'])"
   ]
  },
  {
   "cell_type": "code",
   "execution_count": null,
   "id": "91a155d0",
   "metadata": {
    "colab": {
     "base_uri": "https://localhost:8080/"
    },
    "id": "91a155d0",
    "outputId": "9c83ad2c-190b-49b5-b8a5-a8e117b0e11c"
   },
   "outputs": [
    {
     "name": "stdout",
     "output_type": "stream",
     "text": [
      "Epoch 1/20\n",
      "4/4 [==============================] - 70s 13s/step - loss: 52.7737 - accuracy: 0.4219 - val_loss: 45.9006 - val_accuracy: 0.4375\n",
      "Epoch 2/20\n",
      "4/4 [==============================] - 15s 4s/step - loss: 43.8949 - accuracy: 0.3984 - val_loss: 40.4506 - val_accuracy: 0.2500\n",
      "Epoch 3/20\n",
      "4/4 [==============================] - 14s 4s/step - loss: 40.5487 - accuracy: 0.3828 - val_loss: 37.3472 - val_accuracy: 0.5312\n",
      "Epoch 4/20\n",
      "4/4 [==============================] - 13s 4s/step - loss: 39.2016 - accuracy: 0.4531 - val_loss: 38.4089 - val_accuracy: 0.4688\n",
      "Epoch 5/20\n",
      "4/4 [==============================] - 12s 3s/step - loss: 41.8492 - accuracy: 0.3750 - val_loss: 39.0598 - val_accuracy: 0.5625\n",
      "Epoch 6/20\n",
      "4/4 [==============================] - 14s 4s/step - loss: 40.9635 - accuracy: 0.3906 - val_loss: 36.7793 - val_accuracy: 0.4062\n",
      "Epoch 7/20\n",
      "4/4 [==============================] - 13s 4s/step - loss: 37.7451 - accuracy: 0.4453 - val_loss: 37.4957 - val_accuracy: 0.4062\n",
      "Epoch 8/20\n",
      "4/4 [==============================] - 13s 4s/step - loss: 38.2065 - accuracy: 0.4453 - val_loss: 29.4525 - val_accuracy: 0.5312\n",
      "Epoch 9/20\n",
      "4/4 [==============================] - 13s 4s/step - loss: 35.5687 - accuracy: 0.5391 - val_loss: 44.0010 - val_accuracy: 0.4375\n",
      "Epoch 10/20\n",
      "4/4 [==============================] - 13s 4s/step - loss: 39.8223 - accuracy: 0.4141 - val_loss: 35.8075 - val_accuracy: 0.5312\n",
      "Epoch 11/20\n",
      "4/4 [==============================] - 12s 3s/step - loss: 39.1757 - accuracy: 0.4453 - val_loss: 40.5372 - val_accuracy: 0.4688\n",
      "Epoch 12/20\n",
      "4/4 [==============================] - 12s 3s/step - loss: 40.0251 - accuracy: 0.5000 - val_loss: 36.0060 - val_accuracy: 0.5312\n",
      "Epoch 13/20\n",
      "4/4 [==============================] - 14s 4s/step - loss: 41.9921 - accuracy: 0.3828 - val_loss: 31.7364 - val_accuracy: 0.5625\n",
      "Epoch 14/20\n",
      "4/4 [==============================] - 14s 4s/step - loss: 39.2870 - accuracy: 0.4062 - val_loss: 38.8765 - val_accuracy: 0.4688\n",
      "Epoch 15/20\n",
      "4/4 [==============================] - 13s 4s/step - loss: 37.2404 - accuracy: 0.4531 - val_loss: 37.2475 - val_accuracy: 0.4375\n",
      "Epoch 16/20\n",
      "4/4 [==============================] - 13s 4s/step - loss: 40.6036 - accuracy: 0.4219 - val_loss: 38.1509 - val_accuracy: 0.4688\n",
      "Epoch 17/20\n",
      "4/4 [==============================] - 13s 3s/step - loss: 40.0334 - accuracy: 0.4844 - val_loss: 34.5815 - val_accuracy: 0.5938\n",
      "Epoch 18/20\n",
      "4/4 [==============================] - 12s 3s/step - loss: 37.9266 - accuracy: 0.4375 - val_loss: 34.5684 - val_accuracy: 0.4688\n",
      "Epoch 19/20\n",
      "4/4 [==============================] - 11s 3s/step - loss: 38.4998 - accuracy: 0.4688 - val_loss: 31.9556 - val_accuracy: 0.5625\n",
      "Epoch 20/20\n",
      "4/4 [==============================] - 12s 3s/step - loss: 37.2425 - accuracy: 0.4531 - val_loss: 43.2631 - val_accuracy: 0.4062\n"
     ]
    }
   ],
   "source": [
    "# Training\n",
    "history = model.fit(\n",
    "    training_generator,\n",
    "    steps_per_epoch=len(training_generator) // BATCH_SIZE,\n",
    "    epochs=EPOCHS,\n",
    "    validation_data=validation_generator,\n",
    "    validation_steps=len(validation_generator) // BATCH_SIZE,\n",
    "    verbose=1)"
   ]
  },
  {
   "cell_type": "markdown",
   "id": "SwYUaWitB4Os",
   "metadata": {
    "id": "SwYUaWitB4Os"
   },
   "source": [
    "### 05. Analysis of results"
   ]
  },
  {
   "cell_type": "code",
   "execution_count": null,
   "id": "b7eaf27a",
   "metadata": {
    "colab": {
     "base_uri": "https://localhost:8080/",
     "height": 295
    },
    "id": "b7eaf27a",
    "outputId": "4e737c5d-22df-4fe4-bd9d-73a0f5d99dce"
   },
   "outputs": [
    {
     "data": {
      "image/png": "[encoded data removed]",
      "text/plain": [
       "<Figure size 432x288 with 1 Axes>"
      ]
     },
     "metadata": {
      "needs_background": "light"
     },
     "output_type": "display_data"
    }
   ],
   "source": [
    "# summarize history for accuracy\n",
    "plt.plot(history.history['accuracy'])\n",
    "plt.plot(history.history['val_accuracy'])\n",
    "plt.title('model accuracy')\n",
    "plt.ylabel('accuracy')\n",
    "plt.xlabel('epoch')\n",
    "plt.legend(['train', 'test'], loc='upper left')\n",
    "plt.show()"
   ]
  },
  {
   "cell_type": "markdown",
   "id": "MkBR0OnvSrGx",
   "metadata": {
    "id": "MkBR0OnvSrGx"
   },
   "source": [
    "It is observed that the accuracy does not vary throughout the training and the value it takes is very low."
   ]
  },
  {
   "cell_type": "code",
   "execution_count": null,
   "id": "86ae19f8",
   "metadata": {
    "colab": {
     "base_uri": "https://localhost:8080/",
     "height": 295
    },
    "id": "86ae19f8",
    "outputId": "aae18faf-07a4-4e03-99a6-854112801575"
   },
   "outputs": [
    {
     "data": {
      "image/png": "[encoded data removed]",
      "text/plain": [
       "<Figure size 432x288 with 1 Axes>"
      ]
     },
     "metadata": {
      "needs_background": "light"
     },
     "output_type": "display_data"
    }
   ],
   "source": [
    "# summarize history for loss\n",
    "plt.plot(history.history['loss'][1:])\n",
    "plt.plot(history.history['val_loss'][1:])\n",
    "plt.title('model loss')\n",
    "plt.ylabel('loss')\n",
    "plt.xlabel('epoch')\n",
    "plt.legend(['train', 'test'], loc='upper left')\n",
    "plt.show()"
   ]
  },
  {
   "cell_type": "markdown",
   "id": "EBmzXK9fS1M2",
   "metadata": {
    "id": "EBmzXK9fS1M2"
   },
   "source": [
    "It is observed that the loss does not decrease throughout the training, so this is a sign that the model is not working correctly."
   ]
  },
  {
   "cell_type": "code",
   "execution_count": null,
   "id": "7be4aa82",
   "metadata": {
    "id": "7be4aa82"
   },
   "outputs": [],
   "source": [
    "## Predict on test data\n",
    "y_pred = model.predict(test_generator)"
   ]
  },
  {
   "cell_type": "code",
   "execution_count": null,
   "id": "kgklxPFRYfIL",
   "metadata": {
    "id": "kgklxPFRYfIL"
   },
   "outputs": [],
   "source": [
    "test_labels = []\n",
    "for image_batch, labels_batch in test_generator:\n",
    "  for vector in labels_batch:\n",
    "    test_labels.append(vector.numpy().astype(int))\n",
    "\n",
    "y_real = np.array(test_labels)"
   ]
  },
  {
   "cell_type": "code",
   "execution_count": null,
   "id": "ue91pK2Cyi1Z",
   "metadata": {
    "id": "ue91pK2Cyi1Z"
   },
   "outputs": [],
   "source": [
    "y_pred_class = y_pred.argmax(axis=1)"
   ]
  },
  {
   "cell_type": "code",
   "execution_count": null,
   "id": "f1d1573c",
   "metadata": {
    "id": "f1d1573c"
   },
   "outputs": [],
   "source": [
    "y_real_class = y_real.argmax(axis=1)"
   ]
  },
  {
   "cell_type": "code",
   "execution_count": null,
   "id": "87VWvBuHYnU3",
   "metadata": {
    "colab": {
     "base_uri": "https://localhost:8080/",
     "height": 313
    },
    "id": "87VWvBuHYnU3",
    "outputId": "67de77dc-882b-48b2-8fd9-a6f27418045b"
   },
   "outputs": [
    {
     "data": {
      "text/plain": [
       "Text(33.0, 0.5, 'Truth')"
      ]
     },
     "execution_count": 23,
     "metadata": {},
     "output_type": "execute_result"
    },
    {
     "data": {
      "image/png": "[encoded data removed]",
      "text/plain": [
       "<Figure size 432x288 with 2 Axes>"
      ]
     },
     "metadata": {
      "needs_background": "light"
     },
     "output_type": "display_data"
    }
   ],
   "source": [
    "labels = ['A', 'C', 'D', 'G', 'H', 'M', 'N', 'O']\n",
    "\n",
    "cf_matrix = confusion_matrix(y_real_class, y_pred_class)\n",
    "sns.heatmap(cf_matrix, annot=True, xticklabels=labels, yticklabels=labels, fmt='d')\n",
    "plt.title('Matriz de confusión conjunto de test')\n",
    "plt.xlabel('Predicted')\n",
    "plt.ylabel('Truth')"
   ]
  },
  {
   "cell_type": "code",
   "execution_count": null,
   "id": "8KPBOwn1Y81T",
   "metadata": {
    "colab": {
     "base_uri": "https://localhost:8080/"
    },
    "id": "8KPBOwn1Y81T",
    "outputId": "557c9604-f772-4fc0-862a-cb8c0340dffe"
   },
   "outputs": [
    {
     "name": "stdout",
     "output_type": "stream",
     "text": [
      "              precision    recall  f1-score   support\n",
      "\n",
      "           A       0.00      0.00      0.00        27\n",
      "           C       0.00      0.00      0.00        29\n",
      "           D       0.00      0.00      0.00       161\n",
      "           G       0.00      0.00      0.00        28\n",
      "           H       0.00      0.00      0.00        13\n",
      "           M       0.00      0.00      0.00        23\n",
      "           N       0.45      1.00      0.62       288\n",
      "           O       0.00      0.00      0.00        71\n",
      "\n",
      "    accuracy                           0.45       640\n",
      "   macro avg       0.06      0.12      0.08       640\n",
      "weighted avg       0.20      0.45      0.28       640\n",
      "\n"
     ]
    },
    {
     "name": "stderr",
     "output_type": "stream",
     "text": [
      "/usr/local/lib/python3.7/dist-packages/sklearn/metrics/_classification.py:1318: UndefinedMetricWarning: Precision and F-score are ill-defined and being set to 0.0 in labels with no predicted samples. Use `zero_division` parameter to control this behavior.\n",
      "  _warn_prf(average, modifier, msg_start, len(result))\n",
      "/usr/local/lib/python3.7/dist-packages/sklearn/metrics/_classification.py:1318: UndefinedMetricWarning: Precision and F-score are ill-defined and being set to 0.0 in labels with no predicted samples. Use `zero_division` parameter to control this behavior.\n",
      "  _warn_prf(average, modifier, msg_start, len(result))\n",
      "/usr/local/lib/python3.7/dist-packages/sklearn/metrics/_classification.py:1318: UndefinedMetricWarning: Precision and F-score are ill-defined and being set to 0.0 in labels with no predicted samples. Use `zero_division` parameter to control this behavior.\n",
      "  _warn_prf(average, modifier, msg_start, len(result))\n"
     ]
    }
   ],
   "source": [
    "print(classification_report(y_real_class, y_pred_class, target_names=labels))"
   ]
  },
  {
   "cell_type": "markdown",
   "id": "oI5apDH3TBb8",
   "metadata": {
    "id": "oI5apDH3TBb8"
   },
   "source": [
    "The confusion matrix shows that the model classifies all the images in the normal class (N), so this indicates that the model does not know how to classify anything and is therefore invalid."
   ]
  }
 ],
 "metadata": {
  "colab": {
   "collapsed_sections": [],
   "name": "04_simple_CNN.ipynb",
   "provenance": []
  },
  "kernelspec": {
   "display_name": "Python 3",
   "language": "python",
   "name": "python3"
  },
  "language_info": {
   "codemirror_mode": {
    "name": "ipython",
    "version": 3
   },
   "file_extension": ".py",
   "mimetype": "text/x-python",
   "name": "python",
   "nbconvert_exporter": "python",
   "pygments_lexer": "ipython3",
   "version": "3.8.8"
  }
 },
 "nbformat": 4,
 "nbformat_minor": 5
}

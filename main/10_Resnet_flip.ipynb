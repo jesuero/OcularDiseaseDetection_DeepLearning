{
 "cells": [
  {
   "cell_type": "markdown",
   "id": "REOJZHygLRCs",
   "metadata": {
    "id": "REOJZHygLRCs"
   },
   "source": [
    "## Resnet Model. All categories except Other(O). Images reoriented\n",
    "\n",
    "We eliminate the images from Other diseases/abnormalities (O) class since each image has a different problem and we would be generalizing particularities which does not make sense and harms the model.\n",
    "\n",
    "For this case, unlike the previous ones, the images have been flipped vertically so that both the right and left eyes images have the same shape."
   ]
  },
  {
   "cell_type": "markdown",
   "id": "ySOVunvoLT6S",
   "metadata": {
    "id": "ySOVunvoLT6S"
   },
   "source": [
    "### 00. Load libraries"
   ]
  },
  {
   "cell_type": "code",
   "execution_count": null,
   "id": "671b7100",
   "metadata": {
    "id": "671b7100"
   },
   "outputs": [],
   "source": [
    "import tensorflow as tf\n",
    "from tensorflow.keras.preprocessing.image import ImageDataGenerator\n",
    "from tensorflow.keras.models import Sequential, Model, load_model\n",
    "from tensorflow.keras.optimizers import Adam\n",
    "from tensorflow.keras.layers import Rescaling, Activation, Dropout, Flatten, Dense, GlobalMaxPooling2D, Conv2D, MaxPooling2D\n",
    "from tensorflow.keras.callbacks import EarlyStopping\n",
    "from tensorflow.keras.applications import ResNet50\n",
    "\n",
    "import os\n",
    "import numpy as np\n",
    "\n",
    "import matplotlib.pyplot as plt\n",
    "import seaborn as sns\n",
    "\n",
    "from sklearn.metrics import confusion_matrix\n",
    "from sklearn.metrics import classification_report"
   ]
  },
  {
   "cell_type": "markdown",
   "id": "iNOSzqRJLYSy",
   "metadata": {
    "id": "iNOSzqRJLYSy"
   },
   "source": [
    "### 01. Load images\n",
    "The images are separated into train, test and validation using the function of keras call image_dataset_from_directory"
   ]
  },
  {
   "cell_type": "code",
   "execution_count": null,
   "id": "230bf783",
   "metadata": {
    "id": "230bf783"
   },
   "outputs": [],
   "source": [
    "train_dir = './labeled-images-flipped/train'\n",
    "test_dir = './labeled-images-flipped/test'\n",
    "\n",
    "BATCH_SIZE = 32\n",
    "IMG_HEIGHT = 264\n",
    "IMG_WIDTH = 264\n",
    "EPOCHS = 200\n",
    "\n",
    "input_shape = (IMG_WIDTH, IMG_HEIGHT, 3)"
   ]
  },
  {
   "cell_type": "code",
   "execution_count": null,
   "id": "62f81500",
   "metadata": {
    "colab": {
     "base_uri": "https://localhost:8080/"
    },
    "id": "62f81500",
    "outputId": "511912ff-9878-47db-c0bf-64e08dddc8b9"
   },
   "outputs": [
    {
     "name": "stdout",
     "output_type": "stream",
     "text": [
      "Found 5115 files belonging to 7 classes.\n",
      "Using 4092 files for training.\n",
      "Found 5115 files belonging to 7 classes.\n",
      "Using 1023 files for validation.\n",
      "Found 569 files belonging to 7 classes.\n"
     ]
    }
   ],
   "source": [
    "# Creating generators (prepare data to feed the model)\n",
    "training_generator = tf.keras.utils.image_dataset_from_directory(\n",
    "    train_dir,\n",
    "    labels='inferred',\n",
    "    label_mode='categorical',\n",
    "    batch_size=BATCH_SIZE,\n",
    "    image_size=(IMG_WIDTH, IMG_HEIGHT),\n",
    "    shuffle=True,\n",
    "    seed=432,\n",
    "    validation_split=0.2,\n",
    "    subset='training',\n",
    ")\n",
    "\n",
    "validation_generator = tf.keras.utils.image_dataset_from_directory(\n",
    "    train_dir,\n",
    "    labels='inferred',\n",
    "    label_mode='categorical',\n",
    "    batch_size=BATCH_SIZE,\n",
    "    image_size=(IMG_WIDTH, IMG_HEIGHT),\n",
    "    shuffle=True,\n",
    "    seed=432,\n",
    "    validation_split=0.2,\n",
    "    subset='validation',\n",
    ")\n",
    "\n",
    "test_generator = tf.keras.utils.image_dataset_from_directory(\n",
    "    test_dir,\n",
    "    labels='inferred',\n",
    "    label_mode='categorical',\n",
    "    shuffle=False,\n",
    "    batch_size=BATCH_SIZE,\n",
    "    image_size=(IMG_WIDTH, IMG_HEIGHT),\n",
    "    seed=432,\n",
    ")"
   ]
  },
  {
   "cell_type": "markdown",
   "id": "xDmFfx6bLeMi",
   "metadata": {
    "id": "xDmFfx6bLeMi"
   },
   "source": [
    "### 02. Model architecture\n",
    "\n",
    "Loading of pretrained Resnet model with imagenet and creation of the architecture."
   ]
  },
  {
   "cell_type": "code",
   "execution_count": null,
   "id": "VJKcQB-RdFuD",
   "metadata": {
    "id": "VJKcQB-RdFuD"
   },
   "outputs": [],
   "source": [
    "pretrained = ResNet50(weights='imagenet', include_top=False)"
   ]
  },
  {
   "cell_type": "code",
   "execution_count": null,
   "id": "47bcc426",
   "metadata": {
    "colab": {
     "base_uri": "https://localhost:8080/"
    },
    "id": "47bcc426",
    "outputId": "dd8514c1-4d8b-4d6f-eca0-2c71a400ba2c"
   },
   "outputs": [
    {
     "name": "stdout",
     "output_type": "stream",
     "text": [
      "Model: \"sequential\"\n",
      "_________________________________________________________________\n",
      " Layer (type)                Output Shape              Param #   \n",
      "=================================================================\n",
      " rescaling (Rescaling)       (None, 264, 264, 3)       0         \n",
      "                                                                 \n",
      " resnet50 (Functional)       (None, None, None, 2048)  23587712  \n",
      "                                                                 \n",
      " flatten (Flatten)           (None, 165888)            0         \n",
      "                                                                 \n",
      " dense (Dense)               (None, 256)               42467584  \n",
      "                                                                 \n",
      " dense_1 (Dense)             (None, 256)               65792     \n",
      "                                                                 \n",
      " dense_2 (Dense)             (None, 7)                 1799      \n",
      "                                                                 \n",
      " activation (Activation)     (None, 7)                 0         \n",
      "                                                                 \n",
      "=================================================================\n",
      "Total params: 66,122,887\n",
      "Trainable params: 66,069,767\n",
      "Non-trainable params: 53,120\n",
      "_________________________________________________________________\n"
     ]
    }
   ],
   "source": [
    "model = Sequential()\n",
    "\n",
    "model.add(Rescaling(1./255, input_shape=input_shape))\n",
    "\n",
    "model.add(pretrained)\n",
    "\n",
    "model.add(Flatten())\n",
    "model.add(Dense(256, activation='relu'))\n",
    "\n",
    "model.add(Dense(256, activation='relu'))\n",
    "#model.add(Dropout(0.2))\n",
    "\n",
    "model.add(Dense(7))\n",
    "model.add(Activation('softmax'))\n",
    "\n",
    "model.summary()"
   ]
  },
  {
   "cell_type": "markdown",
   "id": "nXy8tcmLLl-Z",
   "metadata": {
    "id": "nXy8tcmLLl-Z"
   },
   "source": [
    "### 03. Weight adjustment\n",
    "As observed in the EDA, the classes were not balanced. In order for the model not to over-train, higher weights are given to those classes with fewer samples."
   ]
  },
  {
   "cell_type": "code",
   "execution_count": null,
   "id": "G6Mja-BsWbsv",
   "metadata": {
    "colab": {
     "base_uri": "https://localhost:8080/"
    },
    "id": "G6Mja-BsWbsv",
    "outputId": "d04a5bf4-46ca-44a7-a19c-5e4ea946f7dd"
   },
   "outputs": [
    {
     "name": "stdout",
     "output_type": "stream",
     "text": [
      "['A', 'C', 'D', 'G', 'H', 'M', 'N']\n",
      "[239, 264, 1447, 256, 115, 209, 2585]\n",
      "[4.626013402488151, 4.402272140611028, 1.8788294228055935, 4.469899327725402, 6.669332800213226, 4.946716082412655, 1.407124727947029]\n"
     ]
    }
   ],
   "source": [
    "cat_list = os.listdir('./labeled-images-flipped/train/')\n",
    "cat_list.sort()\n",
    "lenghts = [len(os.listdir('./labeled-images-flipped/train/'+cat)) for cat in cat_list]\n",
    "total_train_images = np.sum(lenghts)\n",
    "\n",
    "weights = list(np.sqrt(np.round(1/(np.array(lenghts) / total_train_images),2)))\n",
    "\n",
    "print(cat_list)\n",
    "print(lenghts)\n",
    "print(weights)"
   ]
  },
  {
   "cell_type": "markdown",
   "id": "Rfq2PIRtLqiy",
   "metadata": {
    "id": "Rfq2PIRtLqiy"
   },
   "source": [
    "### 04. Model train\n",
    "We add earlystopping in order to keep the best model. If the model gets worse with increasing iterations, we will keep the best one.\n",
    "\n",
    "For the learning_rate, a small value (0.001) is set so that the different combinations of parameters can be correctly explored until the optimum is reached.\n",
    "\n",
    "The number of epochs was set at 200 in order to appreciate the evolution of the model during training."
   ]
  },
  {
   "cell_type": "code",
   "execution_count": null,
   "id": "8i5ryfjb58n1",
   "metadata": {
    "id": "8i5ryfjb58n1"
   },
   "outputs": [],
   "source": [
    "patience = 50\n",
    "\n",
    "early_stopping = EarlyStopping(monitor='loss', patience=patience, restore_best_weights=True)"
   ]
  },
  {
   "cell_type": "code",
   "execution_count": null,
   "id": "_PbjSoGXc_jI",
   "metadata": {
    "id": "_PbjSoGXc_jI"
   },
   "outputs": [],
   "source": [
    "# freeze resnet\n",
    "pretrained.trainable = False\n",
    "\n",
    "model.compile(loss='categorical_crossentropy', loss_weights=weights,\n",
    "            optimizer=Adam(learning_rate=0.001),\n",
    "            metrics=['accuracy'])"
   ]
  },
  {
   "cell_type": "code",
   "execution_count": null,
   "id": "91a155d0",
   "metadata": {
    "colab": {
     "base_uri": "https://localhost:8080/"
    },
    "id": "91a155d0",
    "outputId": "293300b4-d507-4e73-c3fb-2f63b6342160"
   },
   "outputs": [
    {
     "name": "stdout",
     "output_type": "stream",
     "text": [
      "Epoch 1/200\n",
      "1/1 [==============================] - 24s 24s/step - loss: 11.8202 - accuracy: 0.0000e+00 - val_loss: 146.7198 - val_accuracy: 0.4062\n",
      "Epoch 2/200\n",
      "1/1 [==============================] - 15s 15s/step - loss: 113.7516 - accuracy: 0.5625 - val_loss: 164.9493 - val_accuracy: 0.1875\n",
      "Epoch 3/200\n",
      "1/1 [==============================] - 22s 22s/step - loss: 141.6597 - accuracy: 0.2500 - val_loss: 85.7844 - val_accuracy: 0.4688\n",
      "Epoch 4/200\n",
      "1/1 [==============================] - 20s 20s/step - loss: 99.3877 - accuracy: 0.4375 - val_loss: 36.8666 - val_accuracy: 0.5938\n",
      "Epoch 5/200\n",
      "1/1 [==============================] - 15s 15s/step - loss: 54.1065 - accuracy: 0.5312 - val_loss: 166.1970 - val_accuracy: 0.0000e+00\n",
      "Epoch 6/200\n",
      "1/1 [==============================] - 15s 15s/step - loss: 147.6665 - accuracy: 0.0312 - val_loss: 122.9158 - val_accuracy: 0.0938\n",
      "Epoch 7/200\n",
      "1/1 [==============================] - 15s 15s/step - loss: 145.3299 - accuracy: 0.0312 - val_loss: 87.8433 - val_accuracy: 0.1875\n",
      "Epoch 8/200\n",
      "1/1 [==============================] - 15s 15s/step - loss: 53.9405 - accuracy: 0.5000 - val_loss: 18.1589 - val_accuracy: 0.6562\n",
      "Epoch 9/200\n",
      "1/1 [==============================] - 15s 15s/step - loss: 48.4393 - accuracy: 0.4688 - val_loss: 24.0795 - val_accuracy: 0.4688\n",
      "Epoch 10/200\n",
      "1/1 [==============================] - 15s 15s/step - loss: 24.0083 - accuracy: 0.6562 - val_loss: 35.1051 - val_accuracy: 0.5625\n",
      "Epoch 11/200\n",
      "1/1 [==============================] - 15s 15s/step - loss: 60.1103 - accuracy: 0.4688 - val_loss: 54.6463 - val_accuracy: 0.1875\n",
      "Epoch 12/200\n",
      "1/1 [==============================] - 15s 15s/step - loss: 87.1332 - accuracy: 0.0312 - val_loss: 20.2039 - val_accuracy: 0.4062\n",
      "Epoch 13/200\n",
      "1/1 [==============================] - 15s 15s/step - loss: 29.3449 - accuracy: 0.4375 - val_loss: 64.6539 - val_accuracy: 0.2500\n",
      "Epoch 14/200\n",
      "1/1 [==============================] - 15s 15s/step - loss: 77.7486 - accuracy: 0.3750 - val_loss: 106.4277 - val_accuracy: 0.4062\n",
      "Epoch 15/200\n",
      "1/1 [==============================] - 15s 15s/step - loss: 106.1350 - accuracy: 0.4688 - val_loss: 82.3298 - val_accuracy: 0.4688\n",
      "Epoch 16/200\n",
      "1/1 [==============================] - 15s 15s/step - loss: 73.6256 - accuracy: 0.5938 - val_loss: 42.6269 - val_accuracy: 0.4062\n",
      "Epoch 17/200\n",
      "1/1 [==============================] - 15s 15s/step - loss: 78.2860 - accuracy: 0.3750 - val_loss: 58.4188 - val_accuracy: 0.3438\n",
      "Epoch 18/200\n",
      "1/1 [==============================] - 15s 15s/step - loss: 42.6477 - accuracy: 0.3750 - val_loss: 23.7485 - val_accuracy: 0.5000\n",
      "Epoch 19/200\n",
      "1/1 [==============================] - 15s 15s/step - loss: 44.0638 - accuracy: 0.5938 - val_loss: 47.3698 - val_accuracy: 0.5000\n",
      "Epoch 20/200\n",
      "1/1 [==============================] - 15s 15s/step - loss: 51.3825 - accuracy: 0.5312 - val_loss: 40.4185 - val_accuracy: 0.3750\n",
      "Epoch 21/200\n",
      "1/1 [==============================] - 15s 15s/step - loss: 41.3996 - accuracy: 0.1875 - val_loss: 52.5688 - val_accuracy: 0.0312\n",
      "Epoch 22/200\n",
      "1/1 [==============================] - 15s 15s/step - loss: 36.9470 - accuracy: 0.0312 - val_loss: 43.3958 - val_accuracy: 0.5625\n",
      "Epoch 23/200\n",
      "1/1 [==============================] - 15s 15s/step - loss: 40.7712 - accuracy: 0.5000 - val_loss: 61.1116 - val_accuracy: 0.4375\n",
      "Epoch 24/200\n",
      "1/1 [==============================] - 15s 15s/step - loss: 95.6560 - accuracy: 0.3125 - val_loss: 19.0229 - val_accuracy: 0.5938\n",
      "Epoch 25/200\n",
      "1/1 [==============================] - 15s 15s/step - loss: 29.7126 - accuracy: 0.5625 - val_loss: 24.5059 - val_accuracy: 0.1562\n",
      "Epoch 26/200\n",
      "1/1 [==============================] - 15s 15s/step - loss: 29.4978 - accuracy: 0.1562 - val_loss: 38.2463 - val_accuracy: 0.0625\n",
      "Epoch 27/200\n",
      "1/1 [==============================] - 15s 15s/step - loss: 30.7572 - accuracy: 0.1562 - val_loss: 20.2505 - val_accuracy: 0.3750\n",
      "Epoch 28/200\n",
      "1/1 [==============================] - 15s 15s/step - loss: 36.1550 - accuracy: 0.2500 - val_loss: 22.1241 - val_accuracy: 0.0625\n",
      "Epoch 29/200\n",
      "1/1 [==============================] - 15s 15s/step - loss: 20.5365 - accuracy: 0.0625 - val_loss: 18.0216 - val_accuracy: 0.6562\n",
      "Epoch 30/200\n",
      "1/1 [==============================] - 15s 15s/step - loss: 20.0221 - accuracy: 0.6250 - val_loss: 32.2082 - val_accuracy: 0.4688\n",
      "Epoch 31/200\n",
      "1/1 [==============================] - 15s 15s/step - loss: 23.7771 - accuracy: 0.5938 - val_loss: 21.1784 - val_accuracy: 0.4062\n",
      "Epoch 32/200\n",
      "1/1 [==============================] - 15s 15s/step - loss: 17.7557 - accuracy: 0.5000 - val_loss: 25.1165 - val_accuracy: 0.3125\n",
      "Epoch 33/200\n",
      "1/1 [==============================] - 15s 15s/step - loss: 39.4379 - accuracy: 0.1875 - val_loss: 22.6268 - val_accuracy: 0.0000e+00\n",
      "Epoch 34/200\n",
      "1/1 [==============================] - 15s 15s/step - loss: 32.9514 - accuracy: 0.0000e+00 - val_loss: 20.2236 - val_accuracy: 0.4062\n",
      "Epoch 35/200\n",
      "1/1 [==============================] - 15s 15s/step - loss: 16.3202 - accuracy: 0.5000 - val_loss: 13.6704 - val_accuracy: 0.5000\n",
      "Epoch 36/200\n",
      "1/1 [==============================] - 16s 16s/step - loss: 23.7906 - accuracy: 0.4688 - val_loss: 20.3765 - val_accuracy: 0.0000e+00\n",
      "Epoch 37/200\n",
      "1/1 [==============================] - 15s 15s/step - loss: 11.0315 - accuracy: 0.0938 - val_loss: 18.6823 - val_accuracy: 0.5312\n",
      "Epoch 38/200\n",
      "1/1 [==============================] - 15s 15s/step - loss: 16.6480 - accuracy: 0.5312 - val_loss: 12.7053 - val_accuracy: 0.3750\n",
      "Epoch 39/200\n",
      "1/1 [==============================] - 15s 15s/step - loss: 24.2721 - accuracy: 0.4375 - val_loss: 13.7257 - val_accuracy: 0.3750\n",
      "Epoch 40/200\n",
      "1/1 [==============================] - 15s 15s/step - loss: 13.9579 - accuracy: 0.2500 - val_loss: 11.6478 - val_accuracy: 0.4375\n",
      "Epoch 41/200\n",
      "1/1 [==============================] - 15s 15s/step - loss: 13.6273 - accuracy: 0.4688 - val_loss: 9.2166 - val_accuracy: 0.4375\n",
      "Epoch 42/200\n",
      "1/1 [==============================] - 15s 15s/step - loss: 33.8986 - accuracy: 0.2500 - val_loss: 14.9393 - val_accuracy: 0.1875\n",
      "Epoch 43/200\n",
      "1/1 [==============================] - 15s 15s/step - loss: 16.2254 - accuracy: 0.1250 - val_loss: 23.0468 - val_accuracy: 0.0000e+00\n",
      "Epoch 44/200\n",
      "1/1 [==============================] - 15s 15s/step - loss: 18.3634 - accuracy: 0.0938 - val_loss: 23.6169 - val_accuracy: 0.4062\n",
      "Epoch 45/200\n",
      "1/1 [==============================] - 15s 15s/step - loss: 13.4866 - accuracy: 0.6562 - val_loss: 18.4725 - val_accuracy: 0.4375\n",
      "Epoch 46/200\n",
      "1/1 [==============================] - 15s 15s/step - loss: 9.7886 - accuracy: 0.5625 - val_loss: 21.2629 - val_accuracy: 0.2188\n",
      "Epoch 47/200\n",
      "1/1 [==============================] - 15s 15s/step - loss: 15.3757 - accuracy: 0.2812 - val_loss: 22.9898 - val_accuracy: 0.2500\n",
      "Epoch 48/200\n",
      "1/1 [==============================] - 15s 15s/step - loss: 9.2703 - accuracy: 0.4062 - val_loss: 16.4403 - val_accuracy: 0.5625\n",
      "Epoch 49/200\n",
      "1/1 [==============================] - 15s 15s/step - loss: 14.0347 - accuracy: 0.5312 - val_loss: 19.5778 - val_accuracy: 0.5312\n",
      "Epoch 50/200\n",
      "1/1 [==============================] - 14s 14s/step - loss: 16.7279 - accuracy: 0.4375 - val_loss: 18.3507 - val_accuracy: 0.0312\n",
      "Epoch 51/200\n",
      "1/1 [==============================] - 15s 15s/step - loss: 14.8304 - accuracy: 0.0938 - val_loss: 12.4836 - val_accuracy: 0.2500\n",
      "Epoch 52/200\n",
      "1/1 [==============================] - 15s 15s/step - loss: 8.0979 - accuracy: 0.4062 - val_loss: 16.3376 - val_accuracy: 0.2812\n",
      "Epoch 53/200\n",
      "1/1 [==============================] - 15s 15s/step - loss: 10.5984 - accuracy: 0.2188 - val_loss: 18.0035 - val_accuracy: 0.4062\n",
      "Epoch 54/200\n",
      "1/1 [==============================] - 15s 15s/step - loss: 15.2032 - accuracy: 0.5000 - val_loss: 16.6329 - val_accuracy: 0.5000\n",
      "Epoch 55/200\n",
      "1/1 [==============================] - 14s 14s/step - loss: 18.6351 - accuracy: 0.4688 - val_loss: 14.3173 - val_accuracy: 0.3125\n",
      "Epoch 56/200\n",
      "1/1 [==============================] - 15s 15s/step - loss: 11.3050 - accuracy: 0.4062 - val_loss: 26.4262 - val_accuracy: 0.3125\n",
      "Epoch 57/200\n",
      "1/1 [==============================] - 15s 15s/step - loss: 29.6788 - accuracy: 0.2812 - val_loss: 12.1819 - val_accuracy: 0.2188\n",
      "Epoch 58/200\n",
      "1/1 [==============================] - 15s 15s/step - loss: 9.4067 - accuracy: 0.3438 - val_loss: 7.8396 - val_accuracy: 0.5312\n",
      "Epoch 59/200\n",
      "1/1 [==============================] - 15s 15s/step - loss: 17.5061 - accuracy: 0.4688 - val_loss: 10.0103 - val_accuracy: 0.4688\n",
      "Epoch 60/200\n",
      "1/1 [==============================] - 15s 15s/step - loss: 13.3062 - accuracy: 0.5938 - val_loss: 11.3787 - val_accuracy: 0.4688\n",
      "Epoch 61/200\n",
      "1/1 [==============================] - 15s 15s/step - loss: 9.1681 - accuracy: 0.4062 - val_loss: 13.3817 - val_accuracy: 0.2500\n",
      "Epoch 62/200\n",
      "1/1 [==============================] - 15s 15s/step - loss: 15.1276 - accuracy: 0.2188 - val_loss: 13.0165 - val_accuracy: 0.3438\n",
      "Epoch 63/200\n",
      "1/1 [==============================] - 15s 15s/step - loss: 17.3464 - accuracy: 0.2500 - val_loss: 8.9854 - val_accuracy: 0.5625\n",
      "Epoch 64/200\n",
      "1/1 [==============================] - 15s 15s/step - loss: 11.8497 - accuracy: 0.4375 - val_loss: 13.1142 - val_accuracy: 0.4062\n",
      "Epoch 65/200\n",
      "1/1 [==============================] - 15s 15s/step - loss: 11.9378 - accuracy: 0.4375 - val_loss: 15.3046 - val_accuracy: 0.1875\n",
      "Epoch 66/200\n",
      "1/1 [==============================] - 15s 15s/step - loss: 15.1196 - accuracy: 0.2812 - val_loss: 18.1777 - val_accuracy: 0.1250\n",
      "Epoch 67/200\n",
      "1/1 [==============================] - 15s 15s/step - loss: 15.3608 - accuracy: 0.1250 - val_loss: 7.5403 - val_accuracy: 0.4688\n",
      "Epoch 68/200\n",
      "1/1 [==============================] - 15s 15s/step - loss: 8.3751 - accuracy: 0.4688 - val_loss: 9.6899 - val_accuracy: 0.4375\n",
      "Epoch 69/200\n",
      "1/1 [==============================] - 15s 15s/step - loss: 8.1498 - accuracy: 0.5625 - val_loss: 11.4115 - val_accuracy: 0.3125\n",
      "Epoch 70/200\n",
      "1/1 [==============================] - 15s 15s/step - loss: 11.9573 - accuracy: 0.4375 - val_loss: 6.2802 - val_accuracy: 0.3750\n",
      "Epoch 71/200\n",
      "1/1 [==============================] - 15s 15s/step - loss: 8.6609 - accuracy: 0.3125 - val_loss: 8.8786 - val_accuracy: 0.3125\n",
      "Epoch 72/200\n",
      "1/1 [==============================] - 15s 15s/step - loss: 15.5098 - accuracy: 0.2812 - val_loss: 8.4407 - val_accuracy: 0.1250\n",
      "Epoch 73/200\n",
      "1/1 [==============================] - 15s 15s/step - loss: 11.8776 - accuracy: 0.0312 - val_loss: 8.2345 - val_accuracy: 0.4375\n",
      "Epoch 74/200\n",
      "1/1 [==============================] - 15s 15s/step - loss: 8.2801 - accuracy: 0.5000 - val_loss: 7.9843 - val_accuracy: 0.4688\n",
      "Epoch 75/200\n",
      "1/1 [==============================] - 15s 15s/step - loss: 7.2938 - accuracy: 0.5625 - val_loss: 9.5695 - val_accuracy: 0.4688\n",
      "Epoch 76/200\n",
      "1/1 [==============================] - 14s 14s/step - loss: 12.7028 - accuracy: 0.2812 - val_loss: 7.1288 - val_accuracy: 0.4375\n",
      "Epoch 77/200\n",
      "1/1 [==============================] - 14s 14s/step - loss: 7.7060 - accuracy: 0.5312 - val_loss: 10.3612 - val_accuracy: 0.2812\n",
      "Epoch 78/200\n",
      "1/1 [==============================] - 14s 14s/step - loss: 10.7358 - accuracy: 0.2188 - val_loss: 6.6204 - val_accuracy: 0.6562\n",
      "Epoch 79/200\n",
      "1/1 [==============================] - 14s 14s/step - loss: 12.8772 - accuracy: 0.4688 - val_loss: 13.4498 - val_accuracy: 0.4062\n",
      "Epoch 80/200\n",
      "1/1 [==============================] - 15s 15s/step - loss: 10.2002 - accuracy: 0.5938 - val_loss: 12.9398 - val_accuracy: 0.4062\n",
      "Epoch 81/200\n",
      "1/1 [==============================] - 14s 14s/step - loss: 11.1713 - accuracy: 0.5000 - val_loss: 8.1787 - val_accuracy: 0.4688\n",
      "Epoch 82/200\n",
      "1/1 [==============================] - 14s 14s/step - loss: 7.6230 - accuracy: 0.5938 - val_loss: 8.7732 - val_accuracy: 0.4375\n",
      "Epoch 83/200\n",
      "1/1 [==============================] - 15s 15s/step - loss: 10.2477 - accuracy: 0.3438 - val_loss: 8.3896 - val_accuracy: 0.1875\n",
      "Epoch 84/200\n",
      "1/1 [==============================] - 14s 14s/step - loss: 8.3832 - accuracy: 0.4062 - val_loss: 11.0503 - val_accuracy: 0.3750\n",
      "Epoch 85/200\n",
      "1/1 [==============================] - 14s 14s/step - loss: 15.1387 - accuracy: 0.3125 - val_loss: 6.3049 - val_accuracy: 0.5625\n",
      "Epoch 86/200\n",
      "1/1 [==============================] - 15s 15s/step - loss: 8.4351 - accuracy: 0.4688 - val_loss: 8.7896 - val_accuracy: 0.2812\n",
      "Epoch 87/200\n",
      "1/1 [==============================] - 14s 14s/step - loss: 9.6670 - accuracy: 0.2812 - val_loss: 8.9010 - val_accuracy: 0.4688\n",
      "Epoch 88/200\n",
      "1/1 [==============================] - 15s 15s/step - loss: 7.2397 - accuracy: 0.5000 - val_loss: 6.3800 - val_accuracy: 0.5000\n",
      "Epoch 89/200\n",
      "1/1 [==============================] - 15s 15s/step - loss: 8.4637 - accuracy: 0.5000 - val_loss: 8.1140 - val_accuracy: 0.5312\n",
      "Epoch 90/200\n",
      "1/1 [==============================] - 15s 15s/step - loss: 8.5657 - accuracy: 0.5000 - val_loss: 6.4597 - val_accuracy: 0.5625\n",
      "Epoch 91/200\n",
      "1/1 [==============================] - 15s 15s/step - loss: 6.2432 - accuracy: 0.6250 - val_loss: 5.1789 - val_accuracy: 0.5312\n",
      "Epoch 92/200\n",
      "1/1 [==============================] - 15s 15s/step - loss: 5.5532 - accuracy: 0.5938 - val_loss: 6.0853 - val_accuracy: 0.5312\n",
      "Epoch 93/200\n",
      "1/1 [==============================] - 15s 15s/step - loss: 9.3614 - accuracy: 0.5312 - val_loss: 7.1860 - val_accuracy: 0.5625\n",
      "Epoch 94/200\n",
      "1/1 [==============================] - 15s 15s/step - loss: 6.8630 - accuracy: 0.6250 - val_loss: 5.7441 - val_accuracy: 0.5000\n",
      "Epoch 95/200\n",
      "1/1 [==============================] - 15s 15s/step - loss: 6.6603 - accuracy: 0.5000 - val_loss: 6.0130 - val_accuracy: 0.5312\n",
      "Epoch 96/200\n",
      "1/1 [==============================] - 15s 15s/step - loss: 8.5175 - accuracy: 0.3750 - val_loss: 9.1362 - val_accuracy: 0.0312\n",
      "Epoch 97/200\n",
      "1/1 [==============================] - 15s 15s/step - loss: 8.7527 - accuracy: 0.0938 - val_loss: 9.5165 - val_accuracy: 0.4688\n",
      "Epoch 98/200\n",
      "1/1 [==============================] - 15s 15s/step - loss: 8.0566 - accuracy: 0.4688 - val_loss: 8.2094 - val_accuracy: 0.4688\n",
      "Epoch 99/200\n",
      "1/1 [==============================] - 15s 15s/step - loss: 7.8072 - accuracy: 0.4688 - val_loss: 10.8211 - val_accuracy: 0.2500\n",
      "Epoch 100/200\n",
      "1/1 [==============================] - 15s 15s/step - loss: 9.5031 - accuracy: 0.3750 - val_loss: 6.4492 - val_accuracy: 0.4688\n",
      "Epoch 101/200\n",
      "1/1 [==============================] - 15s 15s/step - loss: 6.5175 - accuracy: 0.3750 - val_loss: 7.2057 - val_accuracy: 0.4688\n",
      "Epoch 102/200\n",
      "1/1 [==============================] - 15s 15s/step - loss: 5.4650 - accuracy: 0.6562 - val_loss: 8.9967 - val_accuracy: 0.4688\n",
      "Epoch 103/200\n",
      "1/1 [==============================] - 14s 14s/step - loss: 9.9592 - accuracy: 0.4688 - val_loss: 6.4456 - val_accuracy: 0.4375\n",
      "Epoch 104/200\n",
      "1/1 [==============================] - 14s 14s/step - loss: 6.1614 - accuracy: 0.5000 - val_loss: 8.4349 - val_accuracy: 0.3125\n",
      "Epoch 105/200\n",
      "1/1 [==============================] - 14s 14s/step - loss: 7.4923 - accuracy: 0.3125 - val_loss: 8.3442 - val_accuracy: 0.1875\n",
      "Epoch 106/200\n",
      "1/1 [==============================] - 14s 14s/step - loss: 9.1091 - accuracy: 0.2812 - val_loss: 6.7878 - val_accuracy: 0.5938\n",
      "Epoch 107/200\n",
      "1/1 [==============================] - 15s 15s/step - loss: 8.7465 - accuracy: 0.3125 - val_loss: 5.6900 - val_accuracy: 0.5625\n",
      "Epoch 108/200\n",
      "1/1 [==============================] - 15s 15s/step - loss: 8.8462 - accuracy: 0.4688 - val_loss: 5.5698 - val_accuracy: 0.3750\n",
      "Epoch 109/200\n",
      "1/1 [==============================] - 14s 14s/step - loss: 6.1127 - accuracy: 0.2812 - val_loss: 6.9142 - val_accuracy: 0.4062\n",
      "Epoch 110/200\n",
      "1/1 [==============================] - 14s 14s/step - loss: 6.9234 - accuracy: 0.5312 - val_loss: 7.8125 - val_accuracy: 0.4375\n",
      "Epoch 111/200\n",
      "1/1 [==============================] - 15s 15s/step - loss: 7.4415 - accuracy: 0.4688 - val_loss: 7.0153 - val_accuracy: 0.5312\n",
      "Epoch 112/200\n",
      "1/1 [==============================] - 14s 14s/step - loss: 6.4810 - accuracy: 0.5625 - val_loss: 6.1156 - val_accuracy: 0.5312\n",
      "Epoch 113/200\n",
      "1/1 [==============================] - 14s 14s/step - loss: 7.8335 - accuracy: 0.5625 - val_loss: 6.4317 - val_accuracy: 0.5312\n",
      "Epoch 114/200\n",
      "1/1 [==============================] - 15s 15s/step - loss: 6.5483 - accuracy: 0.4062 - val_loss: 8.4516 - val_accuracy: 0.3750\n",
      "Epoch 115/200\n",
      "1/1 [==============================] - 14s 14s/step - loss: 5.1155 - accuracy: 0.5625 - val_loss: 6.9907 - val_accuracy: 0.4688\n",
      "Epoch 116/200\n",
      "1/1 [==============================] - 14s 14s/step - loss: 8.1203 - accuracy: 0.4688 - val_loss: 8.5986 - val_accuracy: 0.3438\n",
      "Epoch 117/200\n",
      "1/1 [==============================] - 15s 15s/step - loss: 6.9748 - accuracy: 0.5312 - val_loss: 4.9429 - val_accuracy: 0.6562\n",
      "Epoch 118/200\n",
      "1/1 [==============================] - 15s 15s/step - loss: 8.5828 - accuracy: 0.4688 - val_loss: 7.7766 - val_accuracy: 0.4375\n",
      "Epoch 119/200\n",
      "1/1 [==============================] - 15s 15s/step - loss: 8.8090 - accuracy: 0.3750 - val_loss: 6.5636 - val_accuracy: 0.3125\n",
      "Epoch 120/200\n",
      "1/1 [==============================] - 14s 14s/step - loss: 7.6628 - accuracy: 0.3125 - val_loss: 6.4087 - val_accuracy: 0.3750\n",
      "Epoch 121/200\n",
      "1/1 [==============================] - 14s 14s/step - loss: 8.5273 - accuracy: 0.3438 - val_loss: 7.5554 - val_accuracy: 0.5000\n",
      "Epoch 122/200\n",
      "1/1 [==============================] - 14s 14s/step - loss: 6.2423 - accuracy: 0.5000 - val_loss: 5.7719 - val_accuracy: 0.5938\n",
      "Epoch 123/200\n",
      "1/1 [==============================] - 14s 14s/step - loss: 6.5149 - accuracy: 0.5312 - val_loss: 4.9900 - val_accuracy: 0.6562\n",
      "Epoch 124/200\n",
      "1/1 [==============================] - 14s 14s/step - loss: 7.5491 - accuracy: 0.4688 - val_loss: 6.6276 - val_accuracy: 0.4375\n",
      "Epoch 125/200\n",
      "1/1 [==============================] - 14s 14s/step - loss: 6.7599 - accuracy: 0.4062 - val_loss: 8.1648 - val_accuracy: 0.3438\n",
      "Epoch 126/200\n",
      "1/1 [==============================] - 14s 14s/step - loss: 8.3551 - accuracy: 0.3125 - val_loss: 7.5032 - val_accuracy: 0.2812\n",
      "Epoch 127/200\n",
      "1/1 [==============================] - 14s 14s/step - loss: 6.6583 - accuracy: 0.3750 - val_loss: 7.0280 - val_accuracy: 0.5312\n",
      "Epoch 128/200\n",
      "1/1 [==============================] - 14s 14s/step - loss: 6.8511 - accuracy: 0.5714 - val_loss: 9.7363 - val_accuracy: 0.5000\n",
      "Epoch 129/200\n",
      "WARNING:tensorflow:Your input ran out of data; interrupting training. Make sure that your dataset or generator can generate at least `steps_per_epoch * epochs` batches (in this case, 200 batches). You may need to use the repeat() function when building your dataset.\n",
      "1/1 [==============================] - 8s 8s/step - loss: 6.8511 - accuracy: 0.5714 - val_loss: 10.3251 - val_accuracy: 0.4375\n"
     ]
    }
   ],
   "source": [
    "# Training\n",
    "history = model.fit(\n",
    "    training_generator,\n",
    "    steps_per_epoch=1,\n",
    "    epochs=EPOCHS,\n",
    "    validation_data=validation_generator,\n",
    "    validation_steps=1,\n",
    "    verbose=1,\n",
    "    callbacks = [early_stopping])"
   ]
  },
  {
   "cell_type": "markdown",
   "id": "5uoJH1LdLylM",
   "metadata": {
    "id": "5uoJH1LdLylM"
   },
   "source": [
    "### 05. Analysis of results"
   ]
  },
  {
   "cell_type": "code",
   "execution_count": null,
   "id": "scCd6YtS2Agv",
   "metadata": {
    "id": "scCd6YtS2Agv"
   },
   "outputs": [],
   "source": [
    "model.save('resnet50flipped-freeze.h5')"
   ]
  },
  {
   "cell_type": "code",
   "execution_count": null,
   "id": "b7eaf27a",
   "metadata": {
    "colab": {
     "base_uri": "https://localhost:8080/",
     "height": 295
    },
    "id": "b7eaf27a",
    "outputId": "fa159c5c-3497-4739-eff3-a9c2fcf0b15a"
   },
   "outputs": [
    {
     "data": {
      "image/png": "[encoded data removed]",
      "text/plain": [
       "<Figure size 432x288 with 1 Axes>"
      ]
     },
     "metadata": {
      "needs_background": "light"
     },
     "output_type": "display_data"
    }
   ],
   "source": [
    "# summarize history for accuracy\n",
    "plt.plot(history.history['accuracy'])\n",
    "plt.plot(history.history['val_accuracy'])\n",
    "plt.title('model accuracy')\n",
    "plt.ylabel('accuracy')\n",
    "plt.xlabel('epoch')\n",
    "plt.legend(['train', 'test'], loc='upper left')\n",
    "plt.show()"
   ]
  },
  {
   "cell_type": "markdown",
   "id": "Tl7G3RDnY7Ul",
   "metadata": {
    "id": "Tl7G3RDnY7Ul"
   },
   "source": [
    "It is observed that the accuracy does not vary throughout the training and the value it takes is very low."
   ]
  },
  {
   "cell_type": "code",
   "execution_count": null,
   "id": "86ae19f8",
   "metadata": {
    "colab": {
     "base_uri": "https://localhost:8080/",
     "height": 295
    },
    "id": "86ae19f8",
    "outputId": "0c9c2b2e-622d-4df6-8d48-a0129194bafb"
   },
   "outputs": [
    {
     "data": {
      "image/png": "[encoded data removed]",
      "text/plain": [
       "<Figure size 432x288 with 1 Axes>"
      ]
     },
     "metadata": {
      "needs_background": "light"
     },
     "output_type": "display_data"
    }
   ],
   "source": [
    "# summarize history for loss\n",
    "plt.plot(history.history['loss'][1:])\n",
    "plt.plot(history.history['val_loss'][1:])\n",
    "plt.title('model loss')\n",
    "plt.ylabel('loss')\n",
    "plt.xlabel('epoch')\n",
    "plt.legend(['train', 'test'], loc='upper left')\n",
    "plt.show()"
   ]
  },
  {
   "cell_type": "markdown",
   "id": "35xNFLltZBQN",
   "metadata": {
    "id": "35xNFLltZBQN"
   },
   "source": [
    "In the case of loss, it is observed that as the epochs increase, their value decreases, which is the objective."
   ]
  },
  {
   "cell_type": "code",
   "execution_count": null,
   "id": "y46oLQtN2GIK",
   "metadata": {
    "id": "y46oLQtN2GIK"
   },
   "outputs": [],
   "source": [
    "model = load_model('resnet50flipped-freeze.h5')"
   ]
  },
  {
   "cell_type": "code",
   "execution_count": null,
   "id": "7be4aa82",
   "metadata": {
    "id": "7be4aa82"
   },
   "outputs": [],
   "source": [
    "## Predict on test data\n",
    "y_pred = model.predict(test_generator)"
   ]
  },
  {
   "cell_type": "code",
   "execution_count": null,
   "id": "Ny90-1_ykptA",
   "metadata": {
    "id": "Ny90-1_ykptA"
   },
   "outputs": [],
   "source": [
    "test_labels = []\n",
    "for image_batch, labels_batch in test_generator:\n",
    "  for vector in labels_batch:\n",
    "    test_labels.append(vector.numpy().astype(int))\n",
    "\n",
    "y_real = np.array(test_labels)"
   ]
  },
  {
   "cell_type": "code",
   "execution_count": null,
   "id": "dza4HvSe7hya",
   "metadata": {
    "id": "dza4HvSe7hya"
   },
   "outputs": [],
   "source": [
    "y_pred_class = y_pred.argmax(axis=1)"
   ]
  },
  {
   "cell_type": "code",
   "execution_count": null,
   "id": "w4xGfy2p9FhV",
   "metadata": {
    "id": "w4xGfy2p9FhV"
   },
   "outputs": [],
   "source": [
    "y_real_class = y_real.argmax(axis=1)"
   ]
  },
  {
   "cell_type": "code",
   "execution_count": null,
   "id": "2h7VR_MYoA-I",
   "metadata": {
    "colab": {
     "base_uri": "https://localhost:8080/",
     "height": 313
    },
    "id": "2h7VR_MYoA-I",
    "outputId": "c1b808bf-d1f8-45be-d800-2331db90a4c9"
   },
   "outputs": [
    {
     "data": {
      "text/plain": [
       "Text(33.0, 0.5, 'Truth')"
      ]
     },
     "execution_count": 20,
     "metadata": {},
     "output_type": "execute_result"
    },
    {
     "data": {
      "image/png": "[encoded data removed]",
      "text/plain": [
       "<Figure size 432x288 with 2 Axes>"
      ]
     },
     "metadata": {
      "needs_background": "light"
     },
     "output_type": "display_data"
    }
   ],
   "source": [
    "labels = ['A', 'C', 'D', 'G', 'H', 'M', 'N']\n",
    "\n",
    "cf_matrix = confusion_matrix(y_real_class, y_pred_class)\n",
    "sns.heatmap(cf_matrix, annot=True, xticklabels=labels, yticklabels=labels, fmt='d')\n",
    "plt.title('Matriz de confusión conjunto de test')\n",
    "plt.xlabel('Predicted')\n",
    "plt.ylabel('Truth')"
   ]
  },
  {
   "cell_type": "markdown",
   "id": "YPZIEcdSZDbZ",
   "metadata": {
    "id": "YPZIEcdSZDbZ"
   },
   "source": [
    "In this case, the model classifies all images within the class normal."
   ]
  },
  {
   "cell_type": "code",
   "execution_count": null,
   "id": "8KPBOwn1Y81T",
   "metadata": {
    "colab": {
     "base_uri": "https://localhost:8080/"
    },
    "id": "8KPBOwn1Y81T",
    "outputId": "5b268e5a-4dc1-4f46-cbcc-c496c00f662b"
   },
   "outputs": [
    {
     "name": "stdout",
     "output_type": "stream",
     "text": [
      "              precision    recall  f1-score   support\n",
      "\n",
      "           A       0.00      0.00      0.00        27\n",
      "           C       0.25      0.10      0.15        29\n",
      "           D       0.00      0.00      0.00       161\n",
      "           G       0.00      0.00      0.00        28\n",
      "           H       0.00      0.00      0.00        13\n",
      "           M       0.00      0.00      0.00        23\n",
      "           N       0.51      0.99      0.67       288\n",
      "\n",
      "    accuracy                           0.51       569\n",
      "   macro avg       0.11      0.16      0.12       569\n",
      "weighted avg       0.27      0.51      0.35       569\n",
      "\n"
     ]
    },
    {
     "name": "stderr",
     "output_type": "stream",
     "text": [
      "/usr/local/lib/python3.7/dist-packages/sklearn/metrics/_classification.py:1318: UndefinedMetricWarning: Precision and F-score are ill-defined and being set to 0.0 in labels with no predicted samples. Use `zero_division` parameter to control this behavior.\n",
      "  _warn_prf(average, modifier, msg_start, len(result))\n",
      "/usr/local/lib/python3.7/dist-packages/sklearn/metrics/_classification.py:1318: UndefinedMetricWarning: Precision and F-score are ill-defined and being set to 0.0 in labels with no predicted samples. Use `zero_division` parameter to control this behavior.\n",
      "  _warn_prf(average, modifier, msg_start, len(result))\n",
      "/usr/local/lib/python3.7/dist-packages/sklearn/metrics/_classification.py:1318: UndefinedMetricWarning: Precision and F-score are ill-defined and being set to 0.0 in labels with no predicted samples. Use `zero_division` parameter to control this behavior.\n",
      "  _warn_prf(average, modifier, msg_start, len(result))\n"
     ]
    }
   ],
   "source": [
    "print(classification_report(y_real_class, y_pred_class, target_names=labels))"
   ]
  }
 ],
 "metadata": {
  "colab": {
   "collapsed_sections": [],
   "name": "10_Resnet_flip.ipynb",
   "provenance": []
  },
  "kernelspec": {
   "display_name": "Python 3",
   "language": "python",
   "name": "python3"
  },
  "language_info": {
   "codemirror_mode": {
    "name": "ipython",
    "version": 3
   },
   "file_extension": ".py",
   "mimetype": "text/x-python",
   "name": "python",
   "nbconvert_exporter": "python",
   "pygments_lexer": "ipython3",
   "version": "3.8.8"
  }
 },
 "nbformat": 4,
 "nbformat_minor": 5
}

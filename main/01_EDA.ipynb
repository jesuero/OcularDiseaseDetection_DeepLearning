{
 "cells": [
  {
   "cell_type": "markdown",
   "metadata": {
    "id": "crT3wpkRBQcN"
   },
   "source": [
    "# Exploratory Data Analysis (EDA) - Ocular Disease Recognition\n",
    "\n",
    "**Ocular Disease Intelligent Recognition (ODIR)** is a structured ophthalmic database of 5,000 patients with age, color fundus photographs from left and right eyes and doctors' diagnostic keywords from doctors.\n",
    "\n",
    "This dataset is meant to represent ‘‘real-life’’ set of patient information collected by Shanggong Medical Technology Co., Ltd. from different hospitals/medical centers in China. In these institutions, fundus images are captured by various cameras in the market, such as Canon, Zeiss and Kowa, resulting into varied image resolutions.\n",
    "Annotations were labeled by trained human readers with quality control management. They classify patient into eight labels including:\n",
    "\n",
    "* Normal (N),\n",
    "* Diabetes (D),\n",
    "* Glaucoma (G),\n",
    "* Cataract (C),\n",
    "* AMD (A),\n",
    "* Hypertension (H),\n",
    "* Myopia (M),\n",
    "* Other diseases/abnormalities (O)"
   ]
  },
  {
   "cell_type": "markdown",
   "metadata": {
    "id": "lKJtvDmtBQcT"
   },
   "source": [
    "### 0. Load of libraries and packages"
   ]
  },
  {
   "cell_type": "code",
   "execution_count": null,
   "metadata": {
    "id": "nEgbknaSBQcU"
   },
   "outputs": [],
   "source": [
    "import numpy as np\n",
    "import pandas as pd\n",
    "import os\n",
    "import glob\n",
    "import matplotlib\n",
    "import seaborn as sns\n",
    "import matplotlib.pyplot as plt"
   ]
  },
  {
   "cell_type": "markdown",
   "metadata": {
    "id": "n2Q0IqvjBQcV"
   },
   "source": [
    "### 1. Data import"
   ]
  },
  {
   "cell_type": "code",
   "execution_count": null,
   "metadata": {
    "id": "vXkP68aSBQcW"
   },
   "outputs": [],
   "source": [
    "df = pd.read_csv(\"./full_df.csv\")\n",
    "df = df.drop_duplicates(subset = ['ID'])"
   ]
  },
  {
   "cell_type": "markdown",
   "metadata": {
    "id": "eDbkqPWoBQcY"
   },
   "source": [
    "### 2. Exploratory Data Analysis"
   ]
  },
  {
   "cell_type": "code",
   "execution_count": null,
   "metadata": {
    "colab": {
     "base_uri": "https://localhost:8080/"
    },
    "executionInfo": {
     "elapsed": 245,
     "status": "ok",
     "timestamp": 1650400398742,
     "user": {
      "displayName": "Esdras Sánchez",
      "userId": "06605996266999059923"
     },
     "user_tz": -120
    },
    "id": "Veo0Ko9oBQcZ",
    "outputId": "fea0d4b6-0906-4607-facc-4dc035a4a482"
   },
   "outputs": [
    {
     "data": {
      "text/plain": [
       "N    1080\n",
       "D    1105\n",
       "G     206\n",
       "C     208\n",
       "A     163\n",
       "H     103\n",
       "M     171\n",
       "O     905\n",
       "dtype: int64"
      ]
     },
     "execution_count": 8,
     "metadata": {},
     "output_type": "execute_result"
    }
   ],
   "source": [
    "# Crude estimation of findings ratio\n",
    "findings = df.iloc[:, 7:15]\n",
    "totals = findings.sum()\n",
    "totals"
   ]
  },
  {
   "cell_type": "markdown",
   "metadata": {
    "id": "-VnsQ1iBBQcZ"
   },
   "source": [
    "### 2.1. Diagnostics distribution"
   ]
  },
  {
   "cell_type": "code",
   "execution_count": null,
   "metadata": {
    "colab": {
     "base_uri": "https://localhost:8080/",
     "height": 264
    },
    "executionInfo": {
     "elapsed": 273,
     "status": "ok",
     "timestamp": 1650400400964,
     "user": {
      "displayName": "Esdras Sánchez",
      "userId": "06605996266999059923"
     },
     "user_tz": -120
    },
    "id": "Xt_clm3hBQcZ",
    "outputId": "ef7e2085-0fef-4677-abeb-ac69bd682e88"
   },
   "outputs": [
    {
     "data": {
      "image/png": "[encoded data removed]",
      "text/plain": [
       "<Figure size 432x288 with 1 Axes>"
      ]
     },
     "metadata": {},
     "output_type": "display_data"
    }
   ],
   "source": [
    "extended_labels = ['Normal', 'Diabetes', 'Glaucoma', 'Cataract', 'Age related Macular Degeneration', 'Hypertension', 'Pathological Myopia', 'Other abnormalities']\n",
    "plt.pie(totals, labels=extended_labels, startangle=90)\n",
    "\n",
    "plt.title(\"Distribution of Diagnostics\")\n",
    "\n",
    "plt.show()"
   ]
  },
  {
   "cell_type": "markdown",
   "metadata": {
    "id": "ecIwcPXRBQca"
   },
   "source": [
    "We can conclude that most part of patients are normal or have diabetes. The rest of anomalies are less than 50% of the patients."
   ]
  },
  {
   "cell_type": "markdown",
   "metadata": {
    "id": "asmlRdIEBQca"
   },
   "source": [
    "### 2.2 Age distribution"
   ]
  },
  {
   "cell_type": "code",
   "execution_count": null,
   "metadata": {
    "colab": {
     "base_uri": "https://localhost:8080/",
     "height": 281
    },
    "executionInfo": {
     "elapsed": 726,
     "status": "ok",
     "timestamp": 1650400404627,
     "user": {
      "displayName": "Esdras Sánchez",
      "userId": "06605996266999059923"
     },
     "user_tz": -120
    },
    "id": "wtKUWmMcBQca",
    "outputId": "4d25d644-2d6e-460d-b412-66ea8bb4b9b7"
   },
   "outputs": [
    {
     "data": {
      "image/png": "[encoded data removed]",
      "text/plain": [
       "<Figure size 432x288 with 1 Axes>"
      ]
     },
     "metadata": {
      "needs_background": "light"
     },
     "output_type": "display_data"
    }
   ],
   "source": [
    "ages = df['Patient Age'].value_counts()\n",
    "plt.bar(ages.index, ages)\n",
    "plt.title(\"Distribution of patients by Age\")\n",
    "plt.show()"
   ]
  },
  {
   "cell_type": "markdown",
   "metadata": {
    "id": "Urni_6_xBQcb"
   },
   "source": [
    "We can observe that the distribution is centered around 60 years old, beeing the mean 58 years old. This means that most people who go to the doctor to see if they have visual problems are quite old people."
   ]
  },
  {
   "cell_type": "markdown",
   "metadata": {
    "id": "iYsenkHBBQcb"
   },
   "source": [
    "### 2.3 Sex distribution"
   ]
  },
  {
   "cell_type": "code",
   "execution_count": null,
   "metadata": {
    "colab": {
     "base_uri": "https://localhost:8080/",
     "height": 281
    },
    "executionInfo": {
     "elapsed": 255,
     "status": "ok",
     "timestamp": 1650400407520,
     "user": {
      "displayName": "Esdras Sánchez",
      "userId": "06605996266999059923"
     },
     "user_tz": -120
    },
    "id": "5QQm3LilBQcc",
    "outputId": "219eabb3-33cb-445c-bd5e-a879a4e5cc74"
   },
   "outputs": [
    {
     "data": {
      "image/png": "[encoded data removed]",
      "text/plain": [
       "<Figure size 432x288 with 1 Axes>"
      ]
     },
     "metadata": {
      "needs_background": "light"
     },
     "output_type": "display_data"
    }
   ],
   "source": [
    "sex = df['Patient Sex'].value_counts()\n",
    "plt.bar(sex.index, sex)\n",
    "plt.title(\"Number of patients by sex\")\n",
    "plt.show()"
   ]
  },
  {
   "cell_type": "markdown",
   "metadata": {
    "id": "3ORNx4ABBQcc"
   },
   "source": [
    "Being male or female seems not to be a factor of have more probability of having ocular diseases."
   ]
  }
 ],
 "metadata": {
  "colab": {
   "collapsed_sections": [],
   "name": "01_EDA.ipynb",
   "provenance": []
  },
  "kernelspec": {
   "display_name": "Python 3",
   "language": "python",
   "name": "python3"
  },
  "language_info": {
   "codemirror_mode": {
    "name": "ipython",
    "version": 3
   },
   "file_extension": ".py",
   "mimetype": "text/x-python",
   "name": "python",
   "nbconvert_exporter": "python",
   "pygments_lexer": "ipython3",
   "version": "3.8.8"
  }
 },
 "nbformat": 4,
 "nbformat_minor": 1
}

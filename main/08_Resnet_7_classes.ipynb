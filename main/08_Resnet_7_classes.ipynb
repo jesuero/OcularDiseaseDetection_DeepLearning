{
 "cells": [
  {
   "cell_type": "markdown",
   "id": "5xEE8VisDqY8",
   "metadata": {
    "id": "5xEE8VisDqY8"
   },
   "source": [
    "## Resnet Model. All categories except Other (O)\n",
    "\n",
    "Images from Other diseases/abnormalities (O) class were eliminated since each image has a different problem and we would be generalizing particularities which does not make sense and harms the model."
   ]
  },
  {
   "cell_type": "markdown",
   "id": "lFk8No89ELks",
   "metadata": {
    "id": "lFk8No89ELks"
   },
   "source": [
    "### 00. Load libraries"
   ]
  },
  {
   "cell_type": "code",
   "execution_count": null,
   "id": "671b7100",
   "metadata": {
    "id": "671b7100"
   },
   "outputs": [],
   "source": [
    "import tensorflow as tf\n",
    "from tensorflow.keras.preprocessing.image import ImageDataGenerator\n",
    "from tensorflow.keras.models import Sequential, Model, load_model\n",
    "from tensorflow.keras.optimizers import Adam\n",
    "from tensorflow.keras.layers import Rescaling, Activation, Dropout, Flatten, Dense, GlobalMaxPooling2D, Conv2D, MaxPooling2D\n",
    "from tensorflow.keras.callbacks import EarlyStopping\n",
    "from tensorflow.keras.applications import ResNet50\n",
    "\n",
    "import os\n",
    "import numpy as np\n",
    "\n",
    "import matplotlib.pyplot as plt\n",
    "import seaborn as sns\n",
    "\n",
    "from sklearn.metrics import confusion_matrix\n",
    "from sklearn.metrics import classification_report"
   ]
  },
  {
   "cell_type": "markdown",
   "id": "2kug4J32EQcD",
   "metadata": {
    "id": "2kug4J32EQcD"
   },
   "source": [
    "### 01. Load images\n",
    "The images are separated into train, test and validation using the function of keras call image_dataset_from_directory"
   ]
  },
  {
   "cell_type": "code",
   "execution_count": null,
   "id": "230bf783",
   "metadata": {
    "id": "230bf783"
   },
   "outputs": [],
   "source": [
    "train_dir = './labeled-images-mod/train'\n",
    "test_dir = './labeled-images-mod/test'\n",
    "\n",
    "BATCH_SIZE = 32\n",
    "IMG_HEIGHT = 264\n",
    "IMG_WIDTH = 264\n",
    "EPOCHS = 500\n",
    "\n",
    "input_shape = (IMG_WIDTH, IMG_HEIGHT, 3)"
   ]
  },
  {
   "cell_type": "code",
   "execution_count": null,
   "id": "62f81500",
   "metadata": {
    "colab": {
     "base_uri": "https://localhost:8080/"
    },
    "id": "62f81500",
    "outputId": "25c90fd9-cbca-48e2-85ad-1e9ec9fd1f78"
   },
   "outputs": [
    {
     "name": "stdout",
     "output_type": "stream",
     "text": [
      "Found 4493 files belonging to 7 classes.\n",
      "Using 3595 files for training.\n",
      "Found 4493 files belonging to 7 classes.\n",
      "Using 898 files for validation.\n",
      "Found 569 files belonging to 7 classes.\n"
     ]
    }
   ],
   "source": [
    "# Creating generators (prepare data to feed the model)\n",
    "training_generator = tf.keras.utils.image_dataset_from_directory(\n",
    "    train_dir,\n",
    "    labels='inferred',\n",
    "    label_mode='categorical',\n",
    "    batch_size=BATCH_SIZE,\n",
    "    image_size=(IMG_WIDTH, IMG_HEIGHT),\n",
    "    shuffle=True,\n",
    "    seed=432,\n",
    "    validation_split=0.2,\n",
    "    subset='training',\n",
    ")\n",
    "\n",
    "validation_generator = tf.keras.utils.image_dataset_from_directory(\n",
    "    train_dir,\n",
    "    labels='inferred',\n",
    "    label_mode='categorical',\n",
    "    batch_size=BATCH_SIZE,\n",
    "    image_size=(IMG_WIDTH, IMG_HEIGHT),\n",
    "    shuffle=True,\n",
    "    seed=432,\n",
    "    validation_split=0.2,\n",
    "    subset='validation',\n",
    ")\n",
    "\n",
    "test_generator = tf.keras.utils.image_dataset_from_directory(\n",
    "    test_dir,\n",
    "    labels='inferred',\n",
    "    label_mode='categorical',\n",
    "    shuffle=False,\n",
    "    batch_size=BATCH_SIZE,\n",
    "    image_size=(IMG_WIDTH, IMG_HEIGHT),\n",
    "    seed=432,\n",
    ")"
   ]
  },
  {
   "cell_type": "markdown",
   "id": "2wOmc9RxEUTd",
   "metadata": {
    "id": "2wOmc9RxEUTd"
   },
   "source": [
    "### 02. Model architecture\n",
    "\n",
    "Loading of pretrained Resnet model with imagenet and creation of the architecture."
   ]
  },
  {
   "cell_type": "code",
   "execution_count": null,
   "id": "VJKcQB-RdFuD",
   "metadata": {
    "colab": {
     "base_uri": "https://localhost:8080/"
    },
    "id": "VJKcQB-RdFuD",
    "outputId": "9718d3d3-ddec-4c53-e8f5-ca1773964a7e"
   },
   "outputs": [
    {
     "name": "stdout",
     "output_type": "stream",
     "text": [
      "Downloading data from https://storage.googleapis.com/tensorflow/keras-applications/resnet/resnet50_weights_tf_dim_ordering_tf_kernels_notop.h5\n",
      "94773248/94765736 [==============================] - 2s 0us/step\n",
      "94781440/94765736 [==============================] - 2s 0us/step\n"
     ]
    }
   ],
   "source": [
    "pretrained = ResNet50(weights='imagenet', include_top=False)"
   ]
  },
  {
   "cell_type": "code",
   "execution_count": null,
   "id": "47bcc426",
   "metadata": {
    "colab": {
     "base_uri": "https://localhost:8080/"
    },
    "id": "47bcc426",
    "outputId": "32036d99-801c-47e6-e265-383ec0108b6a"
   },
   "outputs": [
    {
     "name": "stdout",
     "output_type": "stream",
     "text": [
      "Model: \"sequential\"\n",
      "_________________________________________________________________\n",
      " Layer (type)                Output Shape              Param #   \n",
      "=================================================================\n",
      " rescaling (Rescaling)       (None, 264, 264, 3)       0         \n",
      "                                                                 \n",
      " resnet50 (Functional)       (None, None, None, 2048)  23587712  \n",
      "                                                                 \n",
      " flatten (Flatten)           (None, 165888)            0         \n",
      "                                                                 \n",
      " dense (Dense)               (None, 256)               42467584  \n",
      "                                                                 \n",
      " dense_1 (Dense)             (None, 256)               65792     \n",
      "                                                                 \n",
      " dense_2 (Dense)             (None, 7)                 1799      \n",
      "                                                                 \n",
      " activation (Activation)     (None, 7)                 0         \n",
      "                                                                 \n",
      "=================================================================\n",
      "Total params: 66,122,887\n",
      "Trainable params: 66,069,767\n",
      "Non-trainable params: 53,120\n",
      "_________________________________________________________________\n"
     ]
    }
   ],
   "source": [
    "model = Sequential()\n",
    "\n",
    "model.add(Rescaling(1./255, input_shape=input_shape))\n",
    "\n",
    "model.add(pretrained)\n",
    "\n",
    "model.add(Flatten())\n",
    "model.add(Dense(256, activation='relu'))\n",
    "\n",
    "model.add(Dense(256, activation='relu'))\n",
    "#model.add(Dropout(0.2))\n",
    "\n",
    "model.add(Dense(7))\n",
    "model.add(Activation('softmax'))\n",
    "\n",
    "model.summary()"
   ]
  },
  {
   "cell_type": "markdown",
   "id": "p2qE8pMHEWps",
   "metadata": {
    "id": "p2qE8pMHEWps"
   },
   "source": [
    "### 03. Weight adjustment\n",
    "As observed in the EDA, the classes were not balanced. In order for the model not to over-train, higher weights are given to those classes with fewer samples."
   ]
  },
  {
   "cell_type": "code",
   "execution_count": null,
   "id": "G6Mja-BsWbsv",
   "metadata": {
    "colab": {
     "base_uri": "https://localhost:8080/"
    },
    "id": "G6Mja-BsWbsv",
    "outputId": "c0986bc5-7bfa-4fe1-ff3e-71739751cc2d"
   },
   "outputs": [
    {
     "name": "stdout",
     "output_type": "stream",
     "text": [
      "['A', 'C', 'D', 'G', 'H', 'M', 'N']\n",
      "[239, 264, 1447, 256, 115, 209, 1963]\n",
      "[4.33589667773576, 4.125530268947253, 1.7635192088548397, 4.189272013130682, 6.250599971202765, 4.636809247747852, 1.5132745950421556]\n"
     ]
    }
   ],
   "source": [
    "cat_list = os.listdir('./labeled-images-mod/train/')\n",
    "cat_list.sort()\n",
    "\n",
    "lenghts = [len(os.listdir('./labeled-images-mod/train/'+cat)) for cat in cat_list]\n",
    "total_train_images = np.sum(lenghts)\n",
    "\n",
    "weights = list(np.sqrt(np.round(1/(np.array(lenghts) / total_train_images),2)))\n",
    "\n",
    "print(cat_list)\n",
    "print(lenghts)\n",
    "print(weights)"
   ]
  },
  {
   "cell_type": "markdown",
   "id": "MESaIRq_EYqj",
   "metadata": {
    "id": "MESaIRq_EYqj"
   },
   "source": [
    "### 04. Model train\n",
    "We add earlystopping in order to keep the best model. If the model gets worse with increasing iterations, we will keep the best one.\n",
    "\n",
    "For the learning_rate, a small value (0.001) is set so that the different combinations of parameters can be correctly explored until the optimum is reached.\n",
    "\n",
    "The number of epochs was set at 500 in order to appreciate the evolution of the model during training."
   ]
  },
  {
   "cell_type": "code",
   "execution_count": null,
   "id": "8i5ryfjb58n1",
   "metadata": {
    "id": "8i5ryfjb58n1"
   },
   "outputs": [],
   "source": [
    "patience = 50\n",
    "\n",
    "early_stopping = EarlyStopping(monitor='loss', patience=patience, restore_best_weights=True)"
   ]
  },
  {
   "cell_type": "code",
   "execution_count": null,
   "id": "_PbjSoGXc_jI",
   "metadata": {
    "id": "_PbjSoGXc_jI"
   },
   "outputs": [],
   "source": [
    "# freeze resnet\n",
    "pretrained.trainable = False\n",
    "\n",
    "model.compile(loss='categorical_crossentropy', loss_weights=weights,\n",
    "            optimizer=Adam(learning_rate=0.001),\n",
    "            metrics=['accuracy'])"
   ]
  },
  {
   "cell_type": "code",
   "execution_count": null,
   "id": "91a155d0",
   "metadata": {
    "colab": {
     "base_uri": "https://localhost:8080/"
    },
    "id": "91a155d0",
    "outputId": "ab1dbfc6-ca58-4a2c-d955-3d77430cf978"
   },
   "outputs": [
    {
     "name": "stdout",
     "output_type": "stream",
     "text": [
      "Epoch 1/500\n",
      "1/1 [==============================] - 131s 131s/step - loss: 7.8465 - accuracy: 0.5625 - val_loss: 70.6056 - val_accuracy: 0.3125\n",
      "Epoch 2/500\n",
      "1/1 [==============================] - 19s 19s/step - loss: 60.9620 - accuracy: 0.2812 - val_loss: 222.5654 - val_accuracy: 0.5312\n",
      "Epoch 3/500\n",
      "1/1 [==============================] - 18s 18s/step - loss: 254.6652 - accuracy: 0.4375 - val_loss: 190.4566 - val_accuracy: 0.5000\n",
      "Epoch 4/500\n",
      "1/1 [==============================] - 17s 17s/step - loss: 285.5393 - accuracy: 0.3750 - val_loss: 201.9778 - val_accuracy: 0.3438\n",
      "Epoch 5/500\n",
      "1/1 [==============================] - 14s 14s/step - loss: 92.5265 - accuracy: 0.5625 - val_loss: 56.7451 - val_accuracy: 0.3125\n",
      "Epoch 6/500\n",
      "1/1 [==============================] - 14s 14s/step - loss: 67.1243 - accuracy: 0.3125 - val_loss: 39.5320 - val_accuracy: 0.4375\n",
      "Epoch 7/500\n",
      "1/1 [==============================] - 14s 14s/step - loss: 61.5869 - accuracy: 0.3438 - val_loss: 71.9548 - val_accuracy: 0.0938\n",
      "Epoch 8/500\n",
      "1/1 [==============================] - 14s 14s/step - loss: 73.7647 - accuracy: 0.0625 - val_loss: 35.4136 - val_accuracy: 0.0000e+00\n",
      "Epoch 9/500\n",
      "1/1 [==============================] - 14s 14s/step - loss: 59.5148 - accuracy: 0.1250 - val_loss: 32.5874 - val_accuracy: 0.5938\n",
      "Epoch 10/500\n",
      "1/1 [==============================] - 14s 14s/step - loss: 33.7597 - accuracy: 0.4688 - val_loss: 17.1294 - val_accuracy: 0.3750\n",
      "Epoch 11/500\n",
      "1/1 [==============================] - 14s 14s/step - loss: 28.8160 - accuracy: 0.2812 - val_loss: 28.5829 - val_accuracy: 0.6250\n",
      "Epoch 12/500\n",
      "1/1 [==============================] - 14s 14s/step - loss: 29.4507 - accuracy: 0.5000 - val_loss: 24.8199 - val_accuracy: 0.5000\n",
      "Epoch 13/500\n",
      "1/1 [==============================] - 14s 14s/step - loss: 20.5260 - accuracy: 0.5938 - val_loss: 33.1105 - val_accuracy: 0.3750\n",
      "Epoch 14/500\n",
      "1/1 [==============================] - 14s 14s/step - loss: 23.3461 - accuracy: 0.4375 - val_loss: 26.4851 - val_accuracy: 0.0000e+00\n",
      "Epoch 15/500\n",
      "1/1 [==============================] - 14s 14s/step - loss: 29.0379 - accuracy: 0.0312 - val_loss: 46.8132 - val_accuracy: 0.5625\n",
      "Epoch 16/500\n",
      "1/1 [==============================] - 14s 14s/step - loss: 70.9297 - accuracy: 0.3125 - val_loss: 36.2533 - val_accuracy: 0.4375\n",
      "Epoch 17/500\n",
      "1/1 [==============================] - 14s 14s/step - loss: 46.5297 - accuracy: 0.3438 - val_loss: 45.1732 - val_accuracy: 0.3750\n",
      "Epoch 18/500\n",
      "1/1 [==============================] - 14s 14s/step - loss: 61.6872 - accuracy: 0.2500 - val_loss: 32.2214 - val_accuracy: 0.3125\n",
      "Epoch 19/500\n",
      "1/1 [==============================] - 14s 14s/step - loss: 53.0114 - accuracy: 0.2188 - val_loss: 33.7831 - val_accuracy: 0.5312\n",
      "Epoch 20/500\n",
      "1/1 [==============================] - 14s 14s/step - loss: 29.1815 - accuracy: 0.4062 - val_loss: 26.9088 - val_accuracy: 0.5938\n",
      "Epoch 21/500\n",
      "1/1 [==============================] - 14s 14s/step - loss: 38.5902 - accuracy: 0.4062 - val_loss: 67.1973 - val_accuracy: 0.0625\n",
      "Epoch 22/500\n",
      "1/1 [==============================] - 14s 14s/step - loss: 71.7845 - accuracy: 0.0625 - val_loss: 78.8556 - val_accuracy: 0.0000e+00\n",
      "Epoch 23/500\n",
      "1/1 [==============================] - 14s 14s/step - loss: 81.9537 - accuracy: 0.0312 - val_loss: 82.5874 - val_accuracy: 0.0000e+00\n",
      "Epoch 24/500\n",
      "1/1 [==============================] - 14s 14s/step - loss: 76.1473 - accuracy: 0.0625 - val_loss: 59.8266 - val_accuracy: 0.0938\n",
      "Epoch 25/500\n",
      "1/1 [==============================] - 15s 15s/step - loss: 39.8169 - accuracy: 0.0938 - val_loss: 53.8547 - val_accuracy: 0.4062\n",
      "Epoch 26/500\n",
      "1/1 [==============================] - 15s 15s/step - loss: 47.5330 - accuracy: 0.6250 - val_loss: 32.6954 - val_accuracy: 0.4375\n",
      "Epoch 27/500\n",
      "1/1 [==============================] - 14s 14s/step - loss: 56.1330 - accuracy: 0.4062 - val_loss: 46.7849 - val_accuracy: 0.2500\n",
      "Epoch 28/500\n",
      "1/1 [==============================] - 14s 14s/step - loss: 61.0322 - accuracy: 0.3750 - val_loss: 75.7410 - val_accuracy: 0.1875\n",
      "Epoch 29/500\n",
      "1/1 [==============================] - 14s 14s/step - loss: 39.1514 - accuracy: 0.2812 - val_loss: 49.8762 - val_accuracy: 0.5938\n",
      "Epoch 30/500\n",
      "1/1 [==============================] - 15s 15s/step - loss: 110.8251 - accuracy: 0.3438 - val_loss: 36.2219 - val_accuracy: 0.5000\n",
      "Epoch 31/500\n",
      "1/1 [==============================] - 14s 14s/step - loss: 101.9351 - accuracy: 0.3438 - val_loss: 24.4536 - val_accuracy: 0.2188\n",
      "Epoch 32/500\n",
      "1/1 [==============================] - 14s 14s/step - loss: 75.6282 - accuracy: 0.3125 - val_loss: 61.2840 - val_accuracy: 0.3438\n",
      "Epoch 33/500\n",
      "1/1 [==============================] - 14s 14s/step - loss: 33.9417 - accuracy: 0.5625 - val_loss: 21.2935 - val_accuracy: 0.4688\n",
      "Epoch 34/500\n",
      "1/1 [==============================] - 14s 14s/step - loss: 32.5780 - accuracy: 0.2812 - val_loss: 13.3998 - val_accuracy: 0.5000\n",
      "Epoch 35/500\n",
      "1/1 [==============================] - 14s 14s/step - loss: 34.8328 - accuracy: 0.3750 - val_loss: 30.9690 - val_accuracy: 0.0625\n",
      "Epoch 36/500\n",
      "1/1 [==============================] - 14s 14s/step - loss: 40.1014 - accuracy: 0.0625 - val_loss: 27.3215 - val_accuracy: 0.4375\n",
      "Epoch 37/500\n",
      "1/1 [==============================] - 14s 14s/step - loss: 40.9427 - accuracy: 0.3125 - val_loss: 36.5285 - val_accuracy: 0.0312\n",
      "Epoch 38/500\n",
      "1/1 [==============================] - 14s 14s/step - loss: 41.9527 - accuracy: 0.0312 - val_loss: 21.8589 - val_accuracy: 0.2812\n",
      "Epoch 39/500\n",
      "1/1 [==============================] - 15s 15s/step - loss: 33.4825 - accuracy: 0.2812 - val_loss: 26.0782 - val_accuracy: 0.3125\n",
      "Epoch 40/500\n",
      "1/1 [==============================] - 15s 15s/step - loss: 40.4263 - accuracy: 0.1562 - val_loss: 25.0572 - val_accuracy: 0.0312\n",
      "Epoch 41/500\n",
      "1/1 [==============================] - 14s 14s/step - loss: 26.6700 - accuracy: 0.0312 - val_loss: 20.6115 - val_accuracy: 0.5000\n",
      "Epoch 42/500\n",
      "1/1 [==============================] - 14s 14s/step - loss: 20.0888 - accuracy: 0.4375 - val_loss: 37.8758 - val_accuracy: 0.4062\n",
      "Epoch 43/500\n",
      "1/1 [==============================] - 14s 14s/step - loss: 43.8097 - accuracy: 0.5000 - val_loss: 29.2887 - val_accuracy: 0.4375\n",
      "Epoch 44/500\n",
      "1/1 [==============================] - 14s 14s/step - loss: 40.4738 - accuracy: 0.3438 - val_loss: 14.6096 - val_accuracy: 0.4375\n",
      "Epoch 45/500\n",
      "1/1 [==============================] - 14s 14s/step - loss: 30.1985 - accuracy: 0.3438 - val_loss: 23.9556 - val_accuracy: 0.2812\n",
      "Epoch 46/500\n",
      "1/1 [==============================] - 14s 14s/step - loss: 25.5171 - accuracy: 0.3438 - val_loss: 13.4309 - val_accuracy: 0.2812\n",
      "Epoch 47/500\n",
      "1/1 [==============================] - 14s 14s/step - loss: 17.0394 - accuracy: 0.4062 - val_loss: 15.5774 - val_accuracy: 0.0312\n",
      "Epoch 48/500\n",
      "1/1 [==============================] - 14s 14s/step - loss: 21.6425 - accuracy: 0.0312 - val_loss: 12.4556 - val_accuracy: 0.4375\n",
      "Epoch 49/500\n",
      "1/1 [==============================] - 14s 14s/step - loss: 24.9204 - accuracy: 0.4062 - val_loss: 13.8398 - val_accuracy: 0.4062\n",
      "Epoch 50/500\n",
      "1/1 [==============================] - 14s 14s/step - loss: 17.6675 - accuracy: 0.5312 - val_loss: 11.3379 - val_accuracy: 0.4062\n",
      "Epoch 51/500\n",
      "1/1 [==============================] - 14s 14s/step - loss: 12.0762 - accuracy: 0.3438 - val_loss: 13.2252 - val_accuracy: 0.4375\n"
     ]
    }
   ],
   "source": [
    "# Training\n",
    "history = model.fit(\n",
    "    training_generator,\n",
    "    steps_per_epoch=1,\n",
    "    epochs=EPOCHS,\n",
    "    validation_data=validation_generator,\n",
    "    validation_steps=1,\n",
    "    verbose=1,\n",
    "    callbacks = [early_stopping])"
   ]
  },
  {
   "cell_type": "code",
   "execution_count": null,
   "id": "scCd6YtS2Agv",
   "metadata": {
    "id": "scCd6YtS2Agv"
   },
   "outputs": [],
   "source": [
    "model.save('resnet50mod-500epoch-freeze.h5')"
   ]
  },
  {
   "cell_type": "markdown",
   "id": "TT-wKRiTEmgD",
   "metadata": {
    "id": "TT-wKRiTEmgD"
   },
   "source": [
    "### 05. Analysis of results"
   ]
  },
  {
   "cell_type": "code",
   "execution_count": null,
   "id": "b7eaf27a",
   "metadata": {
    "colab": {
     "base_uri": "https://localhost:8080/",
     "height": 295
    },
    "id": "b7eaf27a",
    "outputId": "c056f619-3d37-4b85-c525-1062098fc8dc"
   },
   "outputs": [
    {
     "data": {
      "image/png": "[encoded data removed]",
      "text/plain": [
       "<Figure size 432x288 with 1 Axes>"
      ]
     },
     "metadata": {
      "needs_background": "light"
     },
     "output_type": "display_data"
    }
   ],
   "source": [
    "# summarize history for accuracy\n",
    "plt.plot(history.history['accuracy'])\n",
    "plt.plot(history.history['val_accuracy'])\n",
    "plt.title('model accuracy')\n",
    "plt.ylabel('accuracy')\n",
    "plt.xlabel('epoch')\n",
    "plt.legend(['train', 'test'], loc='upper left')\n",
    "plt.show()"
   ]
  },
  {
   "cell_type": "markdown",
   "id": "eCmkTG7EXg1F",
   "metadata": {
    "id": "eCmkTG7EXg1F"
   },
   "source": [
    "It is observed that the accuracy does not vary throughout the training and the value it takes is very low."
   ]
  },
  {
   "cell_type": "code",
   "execution_count": null,
   "id": "86ae19f8",
   "metadata": {
    "colab": {
     "base_uri": "https://localhost:8080/",
     "height": 295
    },
    "id": "86ae19f8",
    "outputId": "22361f3d-bdcf-491a-97d1-84f97132ac77"
   },
   "outputs": [
    {
     "data": {
      "image/png": "[encoded data removed]",
      "text/plain": [
       "<Figure size 432x288 with 1 Axes>"
      ]
     },
     "metadata": {
      "needs_background": "light"
     },
     "output_type": "display_data"
    }
   ],
   "source": [
    "# summarize history for loss\n",
    "plt.plot(history.history['loss'][1:])\n",
    "plt.plot(history.history['val_loss'][1:])\n",
    "plt.title('model loss')\n",
    "plt.ylabel('loss')\n",
    "plt.xlabel('epoch')\n",
    "plt.legend(['train', 'test'], loc='upper left')\n",
    "plt.show()"
   ]
  },
  {
   "cell_type": "markdown",
   "id": "Eqtkbf1CXl_f",
   "metadata": {
    "id": "Eqtkbf1CXl_f"
   },
   "source": [
    "In the case of loss, it is observed that as the epochs increase, their value decreases, which is the objective."
   ]
  },
  {
   "cell_type": "code",
   "execution_count": null,
   "id": "y46oLQtN2GIK",
   "metadata": {
    "id": "y46oLQtN2GIK"
   },
   "outputs": [],
   "source": [
    "model = load_model('resnet50mod-500epoch-freeze.h5')"
   ]
  },
  {
   "cell_type": "code",
   "execution_count": null,
   "id": "7be4aa82",
   "metadata": {
    "id": "7be4aa82"
   },
   "outputs": [],
   "source": [
    "## Predict on test data\n",
    "y_pred = model.predict(test_generator)"
   ]
  },
  {
   "cell_type": "code",
   "execution_count": null,
   "id": "Ny90-1_ykptA",
   "metadata": {
    "id": "Ny90-1_ykptA"
   },
   "outputs": [],
   "source": [
    "test_labels = []\n",
    "for image_batch, labels_batch in test_generator:\n",
    "  for vector in labels_batch:\n",
    "    test_labels.append(vector.numpy().astype(int))\n",
    "\n",
    "y_real = np.array(test_labels)"
   ]
  },
  {
   "cell_type": "code",
   "execution_count": null,
   "id": "dza4HvSe7hya",
   "metadata": {
    "id": "dza4HvSe7hya"
   },
   "outputs": [],
   "source": [
    "y_pred_class = y_pred.argmax(axis=1)"
   ]
  },
  {
   "cell_type": "code",
   "execution_count": null,
   "id": "w4xGfy2p9FhV",
   "metadata": {
    "id": "w4xGfy2p9FhV"
   },
   "outputs": [],
   "source": [
    "y_real_class = y_real.argmax(axis=1)"
   ]
  },
  {
   "cell_type": "code",
   "execution_count": null,
   "id": "2h7VR_MYoA-I",
   "metadata": {
    "colab": {
     "base_uri": "https://localhost:8080/",
     "height": 313
    },
    "id": "2h7VR_MYoA-I",
    "outputId": "35a2e7f3-f5a9-4ab9-f1dc-6fb122d7ee68"
   },
   "outputs": [
    {
     "data": {
      "text/plain": [
       "Text(33.0, 0.5, 'Truth')"
      ]
     },
     "execution_count": 19,
     "metadata": {},
     "output_type": "execute_result"
    },
    {
     "data": {
      "image/png": "[encoded data removed]",
      "text/plain": [
       "<Figure size 432x288 with 2 Axes>"
      ]
     },
     "metadata": {
      "needs_background": "light"
     },
     "output_type": "display_data"
    }
   ],
   "source": [
    "labels = ['A', 'C', 'D', 'G', 'H', 'M', 'N']\n",
    "\n",
    "cf_matrix = confusion_matrix(y_real_class, y_pred_class)\n",
    "sns.heatmap(cf_matrix, annot=True, xticklabels=labels, yticklabels=labels, fmt='d')\n",
    "plt.title('Matriz de confusión conjunto de test')\n",
    "plt.xlabel('Predicted')\n",
    "plt.ylabel('Truth')"
   ]
  },
  {
   "cell_type": "markdown",
   "id": "QaAlWvMhX0zK",
   "metadata": {
    "id": "QaAlWvMhX0zK"
   },
   "source": [
    "In this case, the model classifies all images within the class diabetes."
   ]
  },
  {
   "cell_type": "code",
   "execution_count": null,
   "id": "8KPBOwn1Y81T",
   "metadata": {
    "colab": {
     "base_uri": "https://localhost:8080/"
    },
    "id": "8KPBOwn1Y81T",
    "outputId": "4bd38b26-301e-4c29-9eb8-0e202f22ea09"
   },
   "outputs": [
    {
     "name": "stdout",
     "output_type": "stream",
     "text": [
      "              precision    recall  f1-score   support\n",
      "\n",
      "           A       0.00      0.00      0.00        27\n",
      "           C       0.00      0.00      0.00        29\n",
      "           D       0.28      1.00      0.44       161\n",
      "           G       0.00      0.00      0.00        28\n",
      "           H       0.00      0.00      0.00        13\n",
      "           M       0.00      0.00      0.00        23\n",
      "           N       0.00      0.00      0.00       288\n",
      "\n",
      "    accuracy                           0.28       569\n",
      "   macro avg       0.04      0.14      0.06       569\n",
      "weighted avg       0.08      0.28      0.12       569\n",
      "\n"
     ]
    },
    {
     "name": "stderr",
     "output_type": "stream",
     "text": [
      "/usr/local/lib/python3.7/dist-packages/sklearn/metrics/_classification.py:1318: UndefinedMetricWarning: Precision and F-score are ill-defined and being set to 0.0 in labels with no predicted samples. Use `zero_division` parameter to control this behavior.\n",
      "  _warn_prf(average, modifier, msg_start, len(result))\n",
      "/usr/local/lib/python3.7/dist-packages/sklearn/metrics/_classification.py:1318: UndefinedMetricWarning: Precision and F-score are ill-defined and being set to 0.0 in labels with no predicted samples. Use `zero_division` parameter to control this behavior.\n",
      "  _warn_prf(average, modifier, msg_start, len(result))\n",
      "/usr/local/lib/python3.7/dist-packages/sklearn/metrics/_classification.py:1318: UndefinedMetricWarning: Precision and F-score are ill-defined and being set to 0.0 in labels with no predicted samples. Use `zero_division` parameter to control this behavior.\n",
      "  _warn_prf(average, modifier, msg_start, len(result))\n"
     ]
    }
   ],
   "source": [
    "print(classification_report(y_real_class, y_pred_class, target_names=labels))"
   ]
  }
 ],
 "metadata": {
  "colab": {
   "collapsed_sections": [],
   "name": "08_Resnet_7_classes.ipynb",
   "provenance": []
  },
  "kernelspec": {
   "display_name": "Python 3",
   "language": "python",
   "name": "python3"
  },
  "language_info": {
   "codemirror_mode": {
    "name": "ipython",
    "version": 3
   },
   "file_extension": ".py",
   "mimetype": "text/x-python",
   "name": "python",
   "nbconvert_exporter": "python",
   "pygments_lexer": "ipython3",
   "version": "3.8.8"
  }
 },
 "nbformat": 4,
 "nbformat_minor": 5
}

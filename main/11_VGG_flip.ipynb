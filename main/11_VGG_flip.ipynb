{
 "cells": [
  {
   "cell_type": "markdown",
   "id": "8AdG9GSGMHwr",
   "metadata": {
    "id": "8AdG9GSGMHwr"
   },
   "source": [
    "## VGG16 Model. All categories except Other(O). Images reoriented\n",
    "\n",
    "We eliminate the images from Other diseases/abnormalities (O) class since each image has a different problem and we would be generalizing particularities which does not make sense and harms the model.\n",
    "\n",
    "For this case, unlike the previous ones, the images have been flipped vertically so that both the right and left eyes images have the same shape."
   ]
  },
  {
   "cell_type": "markdown",
   "id": "ZVYSGvcrMO_w",
   "metadata": {
    "id": "ZVYSGvcrMO_w"
   },
   "source": [
    "### 00. Load libraries"
   ]
  },
  {
   "cell_type": "code",
   "execution_count": null,
   "id": "671b7100",
   "metadata": {
    "id": "671b7100"
   },
   "outputs": [],
   "source": [
    "import tensorflow as tf\n",
    "from tensorflow.keras.preprocessing.image import ImageDataGenerator\n",
    "from tensorflow.keras.models import Sequential, Model, load_model\n",
    "from tensorflow.keras.optimizers import Adam\n",
    "from tensorflow.keras.layers import Rescaling, Activation, Dropout, Flatten, Dense, GlobalMaxPooling2D, Conv2D, MaxPooling2D\n",
    "from tensorflow.keras.callbacks import EarlyStopping\n",
    "from tensorflow.keras.applications import VGG16\n",
    "\n",
    "import os\n",
    "import numpy as np\n",
    "\n",
    "import matplotlib.pyplot as plt\n",
    "import seaborn as sns\n",
    "\n",
    "from sklearn.metrics import confusion_matrix\n",
    "from sklearn.metrics import classification_report"
   ]
  },
  {
   "cell_type": "markdown",
   "id": "rrNQqH9dNWi7",
   "metadata": {
    "id": "rrNQqH9dNWi7"
   },
   "source": [
    "### 01. Load images\n",
    "The images are separated into train, test and validation using the function of keras call image_dataset_from_directory"
   ]
  },
  {
   "cell_type": "code",
   "execution_count": null,
   "id": "230bf783",
   "metadata": {
    "id": "230bf783"
   },
   "outputs": [],
   "source": [
    "train_dir = './labeled-images-flipped/train'\n",
    "test_dir = './labeled-images-flipped/test'\n",
    "\n",
    "BATCH_SIZE = 32\n",
    "IMG_HEIGHT = 264\n",
    "IMG_WIDTH = 264\n",
    "EPOCHS = 200\n",
    "\n",
    "input_shape = (IMG_WIDTH, IMG_HEIGHT, 3)"
   ]
  },
  {
   "cell_type": "code",
   "execution_count": null,
   "id": "62f81500",
   "metadata": {
    "colab": {
     "base_uri": "https://localhost:8080/"
    },
    "id": "62f81500",
    "outputId": "5eb7115f-4624-4543-a0ed-53c76ba2ba49"
   },
   "outputs": [
    {
     "name": "stdout",
     "output_type": "stream",
     "text": [
      "Found 5115 files belonging to 7 classes.\n",
      "Using 4092 files for training.\n",
      "Found 5115 files belonging to 7 classes.\n",
      "Using 1023 files for validation.\n",
      "Found 569 files belonging to 7 classes.\n"
     ]
    }
   ],
   "source": [
    "# Creating generators (prepare data to feed the model)\n",
    "training_generator = tf.keras.utils.image_dataset_from_directory(\n",
    "    train_dir,\n",
    "    labels='inferred',\n",
    "    label_mode='categorical',\n",
    "    batch_size=BATCH_SIZE,\n",
    "    image_size=(IMG_WIDTH, IMG_HEIGHT),\n",
    "    shuffle=True,\n",
    "    seed=432,\n",
    "    validation_split=0.2,\n",
    "    subset='training',\n",
    ")\n",
    "\n",
    "validation_generator = tf.keras.utils.image_dataset_from_directory(\n",
    "    train_dir,\n",
    "    labels='inferred',\n",
    "    label_mode='categorical',\n",
    "    batch_size=BATCH_SIZE,\n",
    "    image_size=(IMG_WIDTH, IMG_HEIGHT),\n",
    "    shuffle=True,\n",
    "    seed=432,\n",
    "    validation_split=0.2,\n",
    "    subset='validation',\n",
    ")\n",
    "\n",
    "test_generator = tf.keras.utils.image_dataset_from_directory(\n",
    "    test_dir,\n",
    "    labels='inferred',\n",
    "    label_mode='categorical',\n",
    "    shuffle=False,\n",
    "    batch_size=BATCH_SIZE,\n",
    "    image_size=(IMG_WIDTH, IMG_HEIGHT),\n",
    "    seed=432,\n",
    ")"
   ]
  },
  {
   "cell_type": "markdown",
   "id": "KrV6WDsBWoVX",
   "metadata": {
    "id": "KrV6WDsBWoVX"
   },
   "source": [
    "### 02. Model architecture\n",
    "\n",
    "Loading of pretrained VGG16 model with imagenet and creation of the architecture."
   ]
  },
  {
   "cell_type": "code",
   "execution_count": null,
   "id": "VJKcQB-RdFuD",
   "metadata": {
    "colab": {
     "base_uri": "https://localhost:8080/"
    },
    "id": "VJKcQB-RdFuD",
    "outputId": "e9e47e61-56cb-46cf-a39d-4902df765381"
   },
   "outputs": [
    {
     "name": "stdout",
     "output_type": "stream",
     "text": [
      "Downloading data from https://storage.googleapis.com/tensorflow/keras-applications/vgg16/vgg16_weights_tf_dim_ordering_tf_kernels_notop.h5\n",
      "58892288/58889256 [==============================] - 0s 0us/step\n",
      "58900480/58889256 [==============================] - 0s 0us/step\n"
     ]
    }
   ],
   "source": [
    "pretrained = VGG16(weights='imagenet', include_top=False)"
   ]
  },
  {
   "cell_type": "code",
   "execution_count": null,
   "id": "47bcc426",
   "metadata": {
    "colab": {
     "base_uri": "https://localhost:8080/"
    },
    "id": "47bcc426",
    "outputId": "9ef14911-b158-41bc-d7fb-4a96ea63a934"
   },
   "outputs": [
    {
     "name": "stdout",
     "output_type": "stream",
     "text": [
      "Model: \"sequential\"\n",
      "_________________________________________________________________\n",
      " Layer (type)                Output Shape              Param #   \n",
      "=================================================================\n",
      " rescaling (Rescaling)       (None, 264, 264, 3)       0         \n",
      "                                                                 \n",
      " vgg16 (Functional)          (None, None, None, 512)   14714688  \n",
      "                                                                 \n",
      " flatten (Flatten)           (None, 32768)             0         \n",
      "                                                                 \n",
      " dense (Dense)               (None, 256)               8388864   \n",
      "                                                                 \n",
      " dense_1 (Dense)             (None, 256)               65792     \n",
      "                                                                 \n",
      " dense_2 (Dense)             (None, 7)                 1799      \n",
      "                                                                 \n",
      " activation (Activation)     (None, 7)                 0         \n",
      "                                                                 \n",
      "=================================================================\n",
      "Total params: 23,171,143\n",
      "Trainable params: 23,171,143\n",
      "Non-trainable params: 0\n",
      "_________________________________________________________________\n"
     ]
    }
   ],
   "source": [
    "model = Sequential()\n",
    "\n",
    "model.add(Rescaling(1./255, input_shape=input_shape))\n",
    "\n",
    "model.add(pretrained)\n",
    "\n",
    "model.add(Flatten())\n",
    "model.add(Dense(256, activation='relu'))\n",
    "\n",
    "model.add(Dense(256, activation='relu'))\n",
    "#model.add(Dropout(0.2))\n",
    "\n",
    "model.add(Dense(7))\n",
    "model.add(Activation('softmax'))\n",
    "\n",
    "model.summary()"
   ]
  },
  {
   "cell_type": "markdown",
   "id": "G8wTpXgzWwzf",
   "metadata": {
    "id": "G8wTpXgzWwzf"
   },
   "source": [
    "### 03. Weight adjustment\n",
    "As observed in the EDA, the classes were not balanced. In order for the model not to over-train, higher weights are given to those classes with fewer samples."
   ]
  },
  {
   "cell_type": "code",
   "execution_count": null,
   "id": "G6Mja-BsWbsv",
   "metadata": {
    "colab": {
     "base_uri": "https://localhost:8080/"
    },
    "id": "G6Mja-BsWbsv",
    "outputId": "10014110-ab03-4666-e66d-c6adcd0302f8"
   },
   "outputs": [
    {
     "name": "stdout",
     "output_type": "stream",
     "text": [
      "['A', 'C', 'D', 'G', 'H', 'M', 'N']\n",
      "[239, 264, 1447, 256, 115, 209, 2585]\n",
      "[4.626013402488151, 4.402272140611028, 1.8788294228055935, 4.469899327725402, 6.669332800213226, 4.946716082412655, 1.407124727947029]\n"
     ]
    }
   ],
   "source": [
    "cat_list = os.listdir('./labeled-images-flipped/train/')\n",
    "cat_list.sort()\n",
    "\n",
    "lenghts = [len(os.listdir('./labeled-images-flipped/train/'+cat)) for cat in cat_list]\n",
    "total_train_images = np.sum(lenghts)\n",
    "\n",
    "weights = list(np.sqrt(np.round(1/(np.array(lenghts) / total_train_images),2)))\n",
    "\n",
    "print(cat_list)\n",
    "print(lenghts)\n",
    "print(weights)"
   ]
  },
  {
   "cell_type": "markdown",
   "id": "0G6WBwajW2xq",
   "metadata": {
    "id": "0G6WBwajW2xq"
   },
   "source": [
    "### 04. Model train\n",
    "We add earlystopping in order to keep the best model. If the model gets worse with increasing iterations, we will keep the best one.\n",
    "\n",
    "For the learning_rate, a small value (0.001) is set so that the different combinations of parameters can be correctly explored until the optimum is reached.\n",
    "\n",
    "The number of epochs was set at 200 in order to appreciate the evolution of the model during training."
   ]
  },
  {
   "cell_type": "code",
   "execution_count": null,
   "id": "8i5ryfjb58n1",
   "metadata": {
    "id": "8i5ryfjb58n1"
   },
   "outputs": [],
   "source": [
    "patience = 50\n",
    "\n",
    "early_stopping = EarlyStopping(monitor='loss', patience=patience, restore_best_weights=True)"
   ]
  },
  {
   "cell_type": "code",
   "execution_count": null,
   "id": "_PbjSoGXc_jI",
   "metadata": {
    "id": "_PbjSoGXc_jI"
   },
   "outputs": [],
   "source": [
    "# freeze vgg16\n",
    "pretrained.trainable = False\n",
    "\n",
    "model.compile(loss='categorical_crossentropy', loss_weights=weights,\n",
    "            optimizer=Adam(learning_rate=0.001),\n",
    "            metrics=['accuracy'])"
   ]
  },
  {
   "cell_type": "code",
   "execution_count": null,
   "id": "91a155d0",
   "metadata": {
    "colab": {
     "base_uri": "https://localhost:8080/"
    },
    "id": "91a155d0",
    "outputId": "d63e53e9-4c8c-4fb3-f2a9-a3b5e871ba6f"
   },
   "outputs": [
    {
     "name": "stdout",
     "output_type": "stream",
     "text": [
      "Epoch 1/200\n",
      "1/1 [==============================] - 119s 119s/step - loss: 9.6335 - accuracy: 0.0938 - val_loss: 33.2078 - val_accuracy: 0.4062\n",
      "Epoch 2/200\n",
      "1/1 [==============================] - 45s 45s/step - loss: 25.7109 - accuracy: 0.5625 - val_loss: 30.9936 - val_accuracy: 0.1875\n",
      "Epoch 3/200\n",
      "1/1 [==============================] - 44s 44s/step - loss: 25.6363 - accuracy: 0.2500 - val_loss: 19.2497 - val_accuracy: 0.4688\n",
      "Epoch 4/200\n",
      "1/1 [==============================] - 42s 42s/step - loss: 23.4180 - accuracy: 0.4375 - val_loss: 8.4262 - val_accuracy: 0.5938\n",
      "Epoch 5/200\n",
      "1/1 [==============================] - 40s 40s/step - loss: 12.7116 - accuracy: 0.5312 - val_loss: 11.8542 - val_accuracy: 0.3125\n",
      "Epoch 6/200\n",
      "1/1 [==============================] - 40s 40s/step - loss: 13.1595 - accuracy: 0.3438 - val_loss: 12.8060 - val_accuracy: 0.2188\n",
      "Epoch 7/200\n",
      "1/1 [==============================] - 40s 40s/step - loss: 10.0972 - accuracy: 0.2188 - val_loss: 12.9791 - val_accuracy: 0.6250\n",
      "Epoch 8/200\n",
      "1/1 [==============================] - 40s 40s/step - loss: 14.7688 - accuracy: 0.4375 - val_loss: 6.6566 - val_accuracy: 0.6875\n",
      "Epoch 9/200\n",
      "1/1 [==============================] - 40s 40s/step - loss: 11.2728 - accuracy: 0.5000 - val_loss: 5.8289 - val_accuracy: 0.5312\n",
      "Epoch 10/200\n",
      "1/1 [==============================] - 40s 40s/step - loss: 5.1667 - accuracy: 0.3125 - val_loss: 7.7033 - val_accuracy: 0.3125\n",
      "Epoch 11/200\n",
      "1/1 [==============================] - 43s 43s/step - loss: 12.0737 - accuracy: 0.2188 - val_loss: 11.9047 - val_accuracy: 0.2188\n",
      "Epoch 12/200\n",
      "1/1 [==============================] - 40s 40s/step - loss: 9.8516 - accuracy: 0.2188 - val_loss: 8.6256 - val_accuracy: 0.5000\n",
      "Epoch 13/200\n",
      "1/1 [==============================] - 40s 40s/step - loss: 9.3896 - accuracy: 0.4062 - val_loss: 8.5954 - val_accuracy: 0.5000\n",
      "Epoch 14/200\n",
      "1/1 [==============================] - 40s 40s/step - loss: 8.8523 - accuracy: 0.4375 - val_loss: 9.7643 - val_accuracy: 0.2188\n",
      "Epoch 15/200\n",
      "1/1 [==============================] - 40s 40s/step - loss: 10.7923 - accuracy: 0.2188 - val_loss: 8.5665 - val_accuracy: 0.3125\n",
      "Epoch 16/200\n",
      "1/1 [==============================] - 40s 40s/step - loss: 6.1943 - accuracy: 0.3438 - val_loss: 7.7567 - val_accuracy: 0.4375\n",
      "Epoch 17/200\n",
      "1/1 [==============================] - 41s 41s/step - loss: 5.4340 - accuracy: 0.5938 - val_loss: 9.0790 - val_accuracy: 0.4375\n",
      "Epoch 18/200\n",
      "1/1 [==============================] - 40s 40s/step - loss: 11.3631 - accuracy: 0.3750 - val_loss: 8.0760 - val_accuracy: 0.5000\n",
      "Epoch 19/200\n",
      "1/1 [==============================] - 40s 40s/step - loss: 5.8906 - accuracy: 0.6250 - val_loss: 7.7524 - val_accuracy: 0.4688\n",
      "Epoch 20/200\n",
      "1/1 [==============================] - 41s 41s/step - loss: 5.3478 - accuracy: 0.5000 - val_loss: 4.3828 - val_accuracy: 0.5312\n",
      "Epoch 21/200\n",
      "1/1 [==============================] - 40s 40s/step - loss: 9.7958 - accuracy: 0.2812 - val_loss: 6.2187 - val_accuracy: 0.4062\n",
      "Epoch 22/200\n",
      "1/1 [==============================] - 40s 40s/step - loss: 5.4256 - accuracy: 0.5625 - val_loss: 6.4475 - val_accuracy: 0.5625\n",
      "Epoch 23/200\n",
      "1/1 [==============================] - 41s 41s/step - loss: 7.7373 - accuracy: 0.5000 - val_loss: 10.4989 - val_accuracy: 0.4375\n",
      "Epoch 24/200\n",
      "1/1 [==============================] - 40s 40s/step - loss: 9.0477 - accuracy: 0.3125 - val_loss: 6.9256 - val_accuracy: 0.4062\n",
      "Epoch 25/200\n",
      "1/1 [==============================] - 40s 40s/step - loss: 9.7317 - accuracy: 0.6250 - val_loss: 6.3200 - val_accuracy: 0.3125\n",
      "Epoch 26/200\n",
      "1/1 [==============================] - 43s 43s/step - loss: 6.8531 - accuracy: 0.3438 - val_loss: 4.9948 - val_accuracy: 0.5312\n",
      "Epoch 27/200\n",
      "1/1 [==============================] - 40s 40s/step - loss: 7.5387 - accuracy: 0.5312 - val_loss: 5.6117 - val_accuracy: 0.5000\n",
      "Epoch 28/200\n",
      "1/1 [==============================] - 40s 40s/step - loss: 6.5137 - accuracy: 0.6562 - val_loss: 5.7820 - val_accuracy: 0.4688\n",
      "Epoch 29/200\n",
      "1/1 [==============================] - 41s 41s/step - loss: 7.9151 - accuracy: 0.5000 - val_loss: 4.8103 - val_accuracy: 0.6562\n",
      "Epoch 30/200\n",
      "1/1 [==============================] - 40s 40s/step - loss: 4.4307 - accuracy: 0.6250 - val_loss: 5.3800 - val_accuracy: 0.4688\n",
      "Epoch 31/200\n",
      "1/1 [==============================] - 40s 40s/step - loss: 4.8232 - accuracy: 0.5938 - val_loss: 5.1003 - val_accuracy: 0.4062\n",
      "Epoch 32/200\n",
      "1/1 [==============================] - 41s 41s/step - loss: 5.5554 - accuracy: 0.5312 - val_loss: 5.3842 - val_accuracy: 0.5000\n",
      "Epoch 33/200\n",
      "1/1 [==============================] - 40s 40s/step - loss: 7.9333 - accuracy: 0.3750 - val_loss: 5.5973 - val_accuracy: 0.4688\n",
      "Epoch 34/200\n",
      "1/1 [==============================] - 40s 40s/step - loss: 6.7837 - accuracy: 0.4688 - val_loss: 6.9626 - val_accuracy: 0.5312\n",
      "Epoch 35/200\n",
      "1/1 [==============================] - 41s 41s/step - loss: 7.1490 - accuracy: 0.3750 - val_loss: 6.2724 - val_accuracy: 0.4375\n",
      "Epoch 36/200\n",
      "1/1 [==============================] - 40s 40s/step - loss: 6.8726 - accuracy: 0.4688 - val_loss: 4.6795 - val_accuracy: 0.7812\n",
      "Epoch 37/200\n",
      "1/1 [==============================] - 40s 40s/step - loss: 4.5758 - accuracy: 0.6562 - val_loss: 5.2340 - val_accuracy: 0.5938\n",
      "Epoch 38/200\n",
      "1/1 [==============================] - 41s 41s/step - loss: 5.1921 - accuracy: 0.5938 - val_loss: 4.8245 - val_accuracy: 0.6250\n",
      "Epoch 39/200\n",
      "1/1 [==============================] - 40s 40s/step - loss: 8.0624 - accuracy: 0.4375 - val_loss: 5.4041 - val_accuracy: 0.5312\n",
      "Epoch 40/200\n",
      "1/1 [==============================] - 40s 40s/step - loss: 6.0304 - accuracy: 0.4375 - val_loss: 5.5429 - val_accuracy: 0.5000\n",
      "Epoch 41/200\n",
      "1/1 [==============================] - 41s 41s/step - loss: 6.3247 - accuracy: 0.4375 - val_loss: 5.5199 - val_accuracy: 0.4688\n",
      "Epoch 42/200\n",
      "1/1 [==============================] - 40s 40s/step - loss: 7.4571 - accuracy: 0.4688 - val_loss: 5.0710 - val_accuracy: 0.5625\n",
      "Epoch 43/200\n",
      "1/1 [==============================] - 40s 40s/step - loss: 5.9293 - accuracy: 0.5938 - val_loss: 5.0978 - val_accuracy: 0.6250\n",
      "Epoch 44/200\n",
      "1/1 [==============================] - 40s 40s/step - loss: 6.9954 - accuracy: 0.4688 - val_loss: 7.5955 - val_accuracy: 0.4062\n",
      "Epoch 45/200\n",
      "1/1 [==============================] - 41s 41s/step - loss: 4.4950 - accuracy: 0.6875 - val_loss: 6.4340 - val_accuracy: 0.4375\n",
      "Epoch 46/200\n",
      "1/1 [==============================] - 40s 40s/step - loss: 4.9744 - accuracy: 0.5625 - val_loss: 6.5210 - val_accuracy: 0.5312\n",
      "Epoch 47/200\n",
      "1/1 [==============================] - 40s 40s/step - loss: 4.8882 - accuracy: 0.4375 - val_loss: 10.0776 - val_accuracy: 0.2188\n",
      "Epoch 48/200\n",
      "1/1 [==============================] - 40s 40s/step - loss: 5.5978 - accuracy: 0.4375 - val_loss: 6.3639 - val_accuracy: 0.3750\n",
      "Epoch 49/200\n",
      "1/1 [==============================] - 40s 40s/step - loss: 6.0844 - accuracy: 0.4375 - val_loss: 7.0092 - val_accuracy: 0.4375\n",
      "Epoch 50/200\n",
      "1/1 [==============================] - 40s 40s/step - loss: 7.6427 - accuracy: 0.4688 - val_loss: 5.6424 - val_accuracy: 0.5000\n",
      "Epoch 51/200\n",
      "1/1 [==============================] - 40s 40s/step - loss: 5.9298 - accuracy: 0.4688 - val_loss: 5.8146 - val_accuracy: 0.4688\n",
      "Epoch 52/200\n",
      "1/1 [==============================] - 40s 40s/step - loss: 5.8864 - accuracy: 0.5000 - val_loss: 7.9343 - val_accuracy: 0.2812\n",
      "Epoch 53/200\n",
      "1/1 [==============================] - 40s 40s/step - loss: 6.0210 - accuracy: 0.5938 - val_loss: 6.3193 - val_accuracy: 0.5000\n",
      "Epoch 54/200\n",
      "1/1 [==============================] - 40s 40s/step - loss: 5.7591 - accuracy: 0.5312 - val_loss: 4.5781 - val_accuracy: 0.5938\n",
      "Epoch 55/200\n",
      "1/1 [==============================] - 40s 40s/step - loss: 6.6284 - accuracy: 0.5938 - val_loss: 5.0925 - val_accuracy: 0.4688\n",
      "Epoch 56/200\n",
      "1/1 [==============================] - 40s 40s/step - loss: 5.5653 - accuracy: 0.5625 - val_loss: 5.2700 - val_accuracy: 0.4062\n",
      "Epoch 57/200\n",
      "1/1 [==============================] - 40s 40s/step - loss: 6.2100 - accuracy: 0.5938 - val_loss: 5.3309 - val_accuracy: 0.5312\n",
      "Epoch 58/200\n",
      "1/1 [==============================] - 41s 41s/step - loss: 4.6455 - accuracy: 0.7188 - val_loss: 4.9087 - val_accuracy: 0.5312\n",
      "Epoch 59/200\n",
      "1/1 [==============================] - 40s 40s/step - loss: 5.6081 - accuracy: 0.6250 - val_loss: 5.1639 - val_accuracy: 0.4688\n",
      "Epoch 60/200\n",
      "1/1 [==============================] - 40s 40s/step - loss: 6.7260 - accuracy: 0.5312 - val_loss: 6.2020 - val_accuracy: 0.5000\n",
      "Epoch 61/200\n",
      "1/1 [==============================] - 41s 41s/step - loss: 4.9750 - accuracy: 0.5312 - val_loss: 5.0711 - val_accuracy: 0.5938\n",
      "Epoch 62/200\n",
      "1/1 [==============================] - 40s 40s/step - loss: 5.3080 - accuracy: 0.5625 - val_loss: 5.4475 - val_accuracy: 0.5312\n",
      "Epoch 63/200\n",
      "1/1 [==============================] - 40s 40s/step - loss: 5.7452 - accuracy: 0.5000 - val_loss: 4.4200 - val_accuracy: 0.5312\n",
      "Epoch 64/200\n",
      "1/1 [==============================] - 40s 40s/step - loss: 4.5464 - accuracy: 0.5312 - val_loss: 6.8020 - val_accuracy: 0.5938\n",
      "Epoch 65/200\n",
      "1/1 [==============================] - 40s 40s/step - loss: 5.2941 - accuracy: 0.4375 - val_loss: 6.8130 - val_accuracy: 0.3438\n",
      "Epoch 66/200\n",
      "1/1 [==============================] - 40s 40s/step - loss: 6.3763 - accuracy: 0.3750 - val_loss: 4.8825 - val_accuracy: 0.6562\n",
      "Epoch 67/200\n",
      "1/1 [==============================] - 40s 40s/step - loss: 4.8486 - accuracy: 0.4062 - val_loss: 5.1477 - val_accuracy: 0.4062\n",
      "Epoch 68/200\n",
      "1/1 [==============================] - 40s 40s/step - loss: 5.3618 - accuracy: 0.4375 - val_loss: 7.4697 - val_accuracy: 0.4375\n",
      "Epoch 69/200\n",
      "1/1 [==============================] - 40s 40s/step - loss: 5.1505 - accuracy: 0.4062 - val_loss: 6.4652 - val_accuracy: 0.3750\n",
      "Epoch 70/200\n",
      "1/1 [==============================] - 40s 40s/step - loss: 5.9502 - accuracy: 0.5625 - val_loss: 4.1420 - val_accuracy: 0.5938\n",
      "Epoch 71/200\n",
      "1/1 [==============================] - 40s 40s/step - loss: 7.5904 - accuracy: 0.5000 - val_loss: 4.9754 - val_accuracy: 0.5312\n",
      "Epoch 72/200\n",
      "1/1 [==============================] - 41s 41s/step - loss: 8.5271 - accuracy: 0.3750 - val_loss: 5.4923 - val_accuracy: 0.5312\n",
      "Epoch 73/200\n",
      "1/1 [==============================] - 41s 41s/step - loss: 7.7898 - accuracy: 0.4688 - val_loss: 4.9559 - val_accuracy: 0.3750\n",
      "Epoch 74/200\n",
      "1/1 [==============================] - 40s 40s/step - loss: 6.2427 - accuracy: 0.6562 - val_loss: 5.4664 - val_accuracy: 0.5312\n",
      "Epoch 75/200\n",
      "1/1 [==============================] - 40s 40s/step - loss: 4.2368 - accuracy: 0.6875 - val_loss: 6.0060 - val_accuracy: 0.4062\n",
      "Epoch 76/200\n",
      "1/1 [==============================] - 40s 40s/step - loss: 6.9838 - accuracy: 0.4375 - val_loss: 5.8115 - val_accuracy: 0.4688\n",
      "Epoch 77/200\n",
      "1/1 [==============================] - 40s 40s/step - loss: 5.3618 - accuracy: 0.5625 - val_loss: 5.4531 - val_accuracy: 0.5312\n",
      "Epoch 78/200\n",
      "1/1 [==============================] - 40s 40s/step - loss: 4.9856 - accuracy: 0.6562 - val_loss: 4.2105 - val_accuracy: 0.6562\n",
      "Epoch 79/200\n",
      "1/1 [==============================] - 40s 40s/step - loss: 6.0538 - accuracy: 0.5000 - val_loss: 4.9270 - val_accuracy: 0.5000\n",
      "Epoch 80/200\n",
      "1/1 [==============================] - 40s 40s/step - loss: 4.2468 - accuracy: 0.6562 - val_loss: 6.0493 - val_accuracy: 0.4688\n",
      "Epoch 81/200\n",
      "1/1 [==============================] - 40s 40s/step - loss: 4.3313 - accuracy: 0.5312 - val_loss: 5.7994 - val_accuracy: 0.4688\n",
      "Epoch 82/200\n",
      "1/1 [==============================] - 40s 40s/step - loss: 5.4420 - accuracy: 0.5312 - val_loss: 5.3979 - val_accuracy: 0.5625\n",
      "Epoch 83/200\n",
      "1/1 [==============================] - 40s 40s/step - loss: 8.0161 - accuracy: 0.3750 - val_loss: 5.9879 - val_accuracy: 0.5000\n",
      "Epoch 84/200\n",
      "1/1 [==============================] - 40s 40s/step - loss: 4.5217 - accuracy: 0.5312 - val_loss: 5.3268 - val_accuracy: 0.4688\n",
      "Epoch 85/200\n",
      "1/1 [==============================] - 40s 40s/step - loss: 7.4308 - accuracy: 0.3438 - val_loss: 5.2341 - val_accuracy: 0.5000\n",
      "Epoch 86/200\n",
      "1/1 [==============================] - 40s 40s/step - loss: 5.7592 - accuracy: 0.5312 - val_loss: 5.5833 - val_accuracy: 0.4375\n",
      "Epoch 87/200\n",
      "1/1 [==============================] - 40s 40s/step - loss: 5.5093 - accuracy: 0.5312 - val_loss: 4.4046 - val_accuracy: 0.6250\n",
      "Epoch 88/200\n",
      "1/1 [==============================] - 40s 40s/step - loss: 5.2677 - accuracy: 0.5312 - val_loss: 5.5725 - val_accuracy: 0.5312\n",
      "Epoch 89/200\n",
      "1/1 [==============================] - 40s 40s/step - loss: 5.8920 - accuracy: 0.4688 - val_loss: 5.5108 - val_accuracy: 0.5312\n",
      "Epoch 90/200\n",
      "1/1 [==============================] - 41s 41s/step - loss: 4.9489 - accuracy: 0.5625 - val_loss: 5.6203 - val_accuracy: 0.6250\n",
      "Epoch 91/200\n",
      "1/1 [==============================] - 40s 40s/step - loss: 4.2087 - accuracy: 0.7188 - val_loss: 5.5472 - val_accuracy: 0.5312\n",
      "Epoch 92/200\n",
      "1/1 [==============================] - 40s 40s/step - loss: 3.7239 - accuracy: 0.6562 - val_loss: 4.9410 - val_accuracy: 0.5625\n",
      "Epoch 93/200\n",
      "1/1 [==============================] - 40s 40s/step - loss: 4.6443 - accuracy: 0.6875 - val_loss: 4.7337 - val_accuracy: 0.6250\n",
      "Epoch 94/200\n",
      "1/1 [==============================] - 40s 40s/step - loss: 4.7175 - accuracy: 0.6875 - val_loss: 4.9923 - val_accuracy: 0.5625\n",
      "Epoch 95/200\n",
      "1/1 [==============================] - 40s 40s/step - loss: 4.8054 - accuracy: 0.6562 - val_loss: 3.7127 - val_accuracy: 0.6250\n",
      "Epoch 96/200\n",
      "1/1 [==============================] - 40s 40s/step - loss: 5.7170 - accuracy: 0.7188 - val_loss: 5.1084 - val_accuracy: 0.4062\n",
      "Epoch 97/200\n",
      "1/1 [==============================] - 40s 40s/step - loss: 4.7772 - accuracy: 0.6875 - val_loss: 6.9566 - val_accuracy: 0.4688\n",
      "Epoch 98/200\n",
      "1/1 [==============================] - 43s 43s/step - loss: 5.5342 - accuracy: 0.5312 - val_loss: 6.1119 - val_accuracy: 0.5000\n",
      "Epoch 99/200\n",
      "1/1 [==============================] - 41s 41s/step - loss: 5.0039 - accuracy: 0.6250 - val_loss: 6.3594 - val_accuracy: 0.5312\n",
      "Epoch 100/200\n",
      "1/1 [==============================] - 40s 40s/step - loss: 5.3212 - accuracy: 0.5938 - val_loss: 3.8996 - val_accuracy: 0.6562\n",
      "Epoch 101/200\n",
      "1/1 [==============================] - 40s 40s/step - loss: 5.4641 - accuracy: 0.4375 - val_loss: 4.9372 - val_accuracy: 0.4375\n",
      "Epoch 102/200\n",
      "1/1 [==============================] - 40s 40s/step - loss: 5.5292 - accuracy: 0.4062 - val_loss: 4.3832 - val_accuracy: 0.5938\n",
      "Epoch 103/200\n",
      "1/1 [==============================] - 40s 40s/step - loss: 5.9684 - accuracy: 0.4688 - val_loss: 4.7804 - val_accuracy: 0.5312\n",
      "Epoch 104/200\n",
      "1/1 [==============================] - 40s 40s/step - loss: 3.6209 - accuracy: 0.5938 - val_loss: 5.6521 - val_accuracy: 0.5000\n",
      "Epoch 105/200\n",
      "1/1 [==============================] - 40s 40s/step - loss: 5.0689 - accuracy: 0.5312 - val_loss: 4.5117 - val_accuracy: 0.6250\n",
      "Epoch 106/200\n",
      "1/1 [==============================] - 40s 40s/step - loss: 5.3889 - accuracy: 0.5312 - val_loss: 5.2917 - val_accuracy: 0.5312\n",
      "Epoch 107/200\n",
      "1/1 [==============================] - 40s 40s/step - loss: 5.4178 - accuracy: 0.5000 - val_loss: 4.5567 - val_accuracy: 0.5625\n",
      "Epoch 108/200\n",
      "1/1 [==============================] - 40s 40s/step - loss: 6.8929 - accuracy: 0.3125 - val_loss: 5.4798 - val_accuracy: 0.4688\n",
      "Epoch 109/200\n",
      "1/1 [==============================] - 40s 40s/step - loss: 5.0835 - accuracy: 0.4375 - val_loss: 6.9114 - val_accuracy: 0.4062\n",
      "Epoch 110/200\n",
      "1/1 [==============================] - 40s 40s/step - loss: 5.1567 - accuracy: 0.5938 - val_loss: 7.3248 - val_accuracy: 0.4375\n",
      "Epoch 111/200\n",
      "1/1 [==============================] - 41s 41s/step - loss: 7.0848 - accuracy: 0.5000 - val_loss: 5.9576 - val_accuracy: 0.5625\n",
      "Epoch 112/200\n",
      "1/1 [==============================] - 40s 40s/step - loss: 5.2518 - accuracy: 0.5938 - val_loss: 4.1582 - val_accuracy: 0.5938\n",
      "Epoch 113/200\n",
      "1/1 [==============================] - 40s 40s/step - loss: 3.7833 - accuracy: 0.7188 - val_loss: 4.8787 - val_accuracy: 0.6562\n",
      "Epoch 114/200\n",
      "1/1 [==============================] - 40s 40s/step - loss: 4.4575 - accuracy: 0.5938 - val_loss: 5.3890 - val_accuracy: 0.5000\n",
      "Epoch 115/200\n",
      "1/1 [==============================] - 40s 40s/step - loss: 3.6714 - accuracy: 0.4062 - val_loss: 6.4171 - val_accuracy: 0.5000\n",
      "Epoch 116/200\n",
      "1/1 [==============================] - 40s 40s/step - loss: 5.3647 - accuracy: 0.5938 - val_loss: 5.6020 - val_accuracy: 0.5000\n",
      "Epoch 117/200\n",
      "1/1 [==============================] - 40s 40s/step - loss: 5.3397 - accuracy: 0.5312 - val_loss: 3.6672 - val_accuracy: 0.6562\n",
      "Epoch 118/200\n",
      "1/1 [==============================] - 41s 41s/step - loss: 6.1199 - accuracy: 0.5625 - val_loss: 5.6640 - val_accuracy: 0.5000\n",
      "Epoch 119/200\n",
      "1/1 [==============================] - 40s 40s/step - loss: 7.4371 - accuracy: 0.4062 - val_loss: 4.4543 - val_accuracy: 0.6250\n",
      "Epoch 120/200\n",
      "1/1 [==============================] - 40s 40s/step - loss: 5.0095 - accuracy: 0.5312 - val_loss: 4.9656 - val_accuracy: 0.5000\n",
      "Epoch 121/200\n",
      "1/1 [==============================] - 40s 40s/step - loss: 6.4703 - accuracy: 0.5938 - val_loss: 7.3010 - val_accuracy: 0.1250\n",
      "Epoch 122/200\n",
      "1/1 [==============================] - 40s 40s/step - loss: 5.4841 - accuracy: 0.4375 - val_loss: 5.2770 - val_accuracy: 0.4688\n",
      "Epoch 123/200\n",
      "1/1 [==============================] - 40s 40s/step - loss: 4.2637 - accuracy: 0.5625 - val_loss: 4.6386 - val_accuracy: 0.6250\n",
      "Epoch 124/200\n",
      "1/1 [==============================] - 40s 40s/step - loss: 6.5980 - accuracy: 0.4688 - val_loss: 6.4671 - val_accuracy: 0.4375\n",
      "Epoch 125/200\n",
      "1/1 [==============================] - 40s 40s/step - loss: 6.4017 - accuracy: 0.3438 - val_loss: 5.8185 - val_accuracy: 0.5312\n",
      "Epoch 126/200\n",
      "1/1 [==============================] - 40s 40s/step - loss: 4.2626 - accuracy: 0.6250 - val_loss: 5.1294 - val_accuracy: 0.5312\n",
      "Epoch 127/200\n",
      "1/1 [==============================] - 40s 40s/step - loss: 6.6112 - accuracy: 0.4062 - val_loss: 5.4100 - val_accuracy: 0.5000\n",
      "Epoch 128/200\n",
      "1/1 [==============================] - 38s 38s/step - loss: 6.4740 - accuracy: 0.4286 - val_loss: 5.0475 - val_accuracy: 0.5625\n",
      "Epoch 129/200\n",
      "WARNING:tensorflow:Your input ran out of data; interrupting training. Make sure that your dataset or generator can generate at least `steps_per_epoch * epochs` batches (in this case, 200 batches). You may need to use the repeat() function when building your dataset.\n",
      "1/1 [==============================] - 21s 21s/step - loss: 6.4740 - accuracy: 0.4286 - val_loss: 5.3688 - val_accuracy: 0.5625\n"
     ]
    }
   ],
   "source": [
    "# Training\n",
    "history = model.fit(\n",
    "    training_generator,\n",
    "    steps_per_epoch=1,\n",
    "    epochs=EPOCHS,\n",
    "    validation_data=validation_generator,\n",
    "    validation_steps=1,\n",
    "    verbose=1,\n",
    "    callbacks = [early_stopping])"
   ]
  },
  {
   "cell_type": "code",
   "execution_count": null,
   "id": "scCd6YtS2Agv",
   "metadata": {
    "id": "scCd6YtS2Agv"
   },
   "outputs": [],
   "source": [
    "model.save('vgg16flipped-freeze.h5')"
   ]
  },
  {
   "cell_type": "markdown",
   "id": "XjaYEiLjXAVw",
   "metadata": {
    "id": "XjaYEiLjXAVw"
   },
   "source": [
    "### 05. Analysis of results"
   ]
  },
  {
   "cell_type": "code",
   "execution_count": null,
   "id": "b7eaf27a",
   "metadata": {
    "colab": {
     "base_uri": "https://localhost:8080/",
     "height": 295
    },
    "id": "b7eaf27a",
    "outputId": "e4bd4fd0-0944-442c-c83d-66fc06035c5c"
   },
   "outputs": [
    {
     "data": {
      "image/png": "[encoded data removed]",
      "text/plain": [
       "<Figure size 432x288 with 1 Axes>"
      ]
     },
     "metadata": {
      "needs_background": "light"
     },
     "output_type": "display_data"
    }
   ],
   "source": [
    "# summarize history for accuracy\n",
    "plt.plot(history.history['accuracy'])\n",
    "plt.plot(history.history['val_accuracy'])\n",
    "plt.title('model accuracy')\n",
    "plt.ylabel('accuracy')\n",
    "plt.xlabel('epoch')\n",
    "plt.legend(['train', 'test'], loc='upper left')\n",
    "plt.show()"
   ]
  },
  {
   "cell_type": "markdown",
   "id": "5lU5CXn3Y0uY",
   "metadata": {
    "id": "5lU5CXn3Y0uY"
   },
   "source": [
    "It is observed that the accuracy does not vary throughout the training and the value it takes is very low."
   ]
  },
  {
   "cell_type": "code",
   "execution_count": null,
   "id": "86ae19f8",
   "metadata": {
    "colab": {
     "base_uri": "https://localhost:8080/",
     "height": 295
    },
    "id": "86ae19f8",
    "outputId": "b970e46c-ffa3-45ab-88b2-5c84275dfa27"
   },
   "outputs": [
    {
     "data": {
      "image/png": "[encoded data removed]",
      "text/plain": [
       "<Figure size 432x288 with 1 Axes>"
      ]
     },
     "metadata": {
      "needs_background": "light"
     },
     "output_type": "display_data"
    }
   ],
   "source": [
    "# summarize history for loss\n",
    "plt.plot(history.history['loss'][1:])\n",
    "plt.plot(history.history['val_loss'][1:])\n",
    "plt.title('model loss')\n",
    "plt.ylabel('loss')\n",
    "plt.xlabel('epoch')\n",
    "plt.legend(['train', 'test'], loc='upper left')\n",
    "plt.show()"
   ]
  },
  {
   "cell_type": "markdown",
   "id": "2UCmdMUTZSrM",
   "metadata": {
    "id": "2UCmdMUTZSrM"
   },
   "source": [
    "In the case of loss, it is observed that as the epochs increase, their value decreases, which is the objective."
   ]
  },
  {
   "cell_type": "code",
   "execution_count": null,
   "id": "y46oLQtN2GIK",
   "metadata": {
    "id": "y46oLQtN2GIK"
   },
   "outputs": [],
   "source": [
    "model = load_model('vgg16flipped-freeze.h5')"
   ]
  },
  {
   "cell_type": "code",
   "execution_count": null,
   "id": "7be4aa82",
   "metadata": {
    "id": "7be4aa82"
   },
   "outputs": [],
   "source": [
    "## Predict on test data\n",
    "y_pred = model.predict(test_generator)"
   ]
  },
  {
   "cell_type": "code",
   "execution_count": null,
   "id": "Ny90-1_ykptA",
   "metadata": {
    "id": "Ny90-1_ykptA"
   },
   "outputs": [],
   "source": [
    "test_labels = []\n",
    "for image_batch, labels_batch in test_generator:\n",
    "  for vector in labels_batch:\n",
    "    test_labels.append(vector.numpy().astype(int))\n",
    "\n",
    "y_real = np.array(test_labels)"
   ]
  },
  {
   "cell_type": "code",
   "execution_count": null,
   "id": "dza4HvSe7hya",
   "metadata": {
    "id": "dza4HvSe7hya"
   },
   "outputs": [],
   "source": [
    "y_pred_class = y_pred.argmax(axis=1)"
   ]
  },
  {
   "cell_type": "code",
   "execution_count": null,
   "id": "w4xGfy2p9FhV",
   "metadata": {
    "id": "w4xGfy2p9FhV"
   },
   "outputs": [],
   "source": [
    "y_real_class = y_real.argmax(axis=1)"
   ]
  },
  {
   "cell_type": "code",
   "execution_count": null,
   "id": "2h7VR_MYoA-I",
   "metadata": {
    "colab": {
     "base_uri": "https://localhost:8080/",
     "height": 313
    },
    "id": "2h7VR_MYoA-I",
    "outputId": "4c3daf68-047d-4d90-fa35-2fbe7027e19e"
   },
   "outputs": [
    {
     "data": {
      "text/plain": [
       "Text(33.0, 0.5, 'Truth')"
      ]
     },
     "execution_count": 20,
     "metadata": {},
     "output_type": "execute_result"
    },
    {
     "data": {
      "image/png": "[encoded data removed]",
      "text/plain": [
       "<Figure size 432x288 with 2 Axes>"
      ]
     },
     "metadata": {
      "needs_background": "light"
     },
     "output_type": "display_data"
    }
   ],
   "source": [
    "labels = ['A', 'C', 'D', 'G', 'H', 'M', 'N']\n",
    "\n",
    "cf_matrix = confusion_matrix(y_real_class, y_pred_class)\n",
    "sns.heatmap(cf_matrix, annot=True, xticklabels=labels, yticklabels=labels, fmt='d')\n",
    "plt.title('Matriz de confusión conjunto de test')\n",
    "plt.xlabel('Predicted')\n",
    "plt.ylabel('Truth')"
   ]
  },
  {
   "cell_type": "markdown",
   "id": "vyiaOJ1vZVsy",
   "metadata": {
    "id": "vyiaOJ1vZVsy"
   },
   "source": [
    "In this case, the model classifies most images within the class normal. A high percentage of images from cataract class (C) were also predicted correctly and some from other classes like myopia (M) or Diabetes (D) too."
   ]
  },
  {
   "cell_type": "code",
   "execution_count": null,
   "id": "8KPBOwn1Y81T",
   "metadata": {
    "colab": {
     "base_uri": "https://localhost:8080/"
    },
    "id": "8KPBOwn1Y81T",
    "outputId": "98ca74a5-16dd-4e75-a7a5-7945f6e3ac6d"
   },
   "outputs": [
    {
     "name": "stdout",
     "output_type": "stream",
     "text": [
      "              precision    recall  f1-score   support\n",
      "\n",
      "           A       0.31      0.15      0.20        27\n",
      "           C       0.66      0.86      0.75        29\n",
      "           D       0.62      0.11      0.19       161\n",
      "           G       0.45      0.18      0.26        28\n",
      "           H       0.00      0.00      0.00        13\n",
      "           M       1.00      0.39      0.56        23\n",
      "           N       0.57      0.93      0.71       288\n",
      "\n",
      "    accuracy                           0.58       569\n",
      "   macro avg       0.52      0.38      0.38       569\n",
      "weighted avg       0.58      0.58      0.50       569\n",
      "\n"
     ]
    },
    {
     "name": "stderr",
     "output_type": "stream",
     "text": [
      "/usr/local/lib/python3.7/dist-packages/sklearn/metrics/_classification.py:1318: UndefinedMetricWarning: Precision and F-score are ill-defined and being set to 0.0 in labels with no predicted samples. Use `zero_division` parameter to control this behavior.\n",
      "  _warn_prf(average, modifier, msg_start, len(result))\n",
      "/usr/local/lib/python3.7/dist-packages/sklearn/metrics/_classification.py:1318: UndefinedMetricWarning: Precision and F-score are ill-defined and being set to 0.0 in labels with no predicted samples. Use `zero_division` parameter to control this behavior.\n",
      "  _warn_prf(average, modifier, msg_start, len(result))\n",
      "/usr/local/lib/python3.7/dist-packages/sklearn/metrics/_classification.py:1318: UndefinedMetricWarning: Precision and F-score are ill-defined and being set to 0.0 in labels with no predicted samples. Use `zero_division` parameter to control this behavior.\n",
      "  _warn_prf(average, modifier, msg_start, len(result))\n"
     ]
    }
   ],
   "source": [
    "print(classification_report(y_real_class, y_pred_class, target_names=labels))"
   ]
  }
 ],
 "metadata": {
  "colab": {
   "collapsed_sections": [],
   "name": "11_VGG_flip.ipynb",
   "provenance": []
  },
  "kernelspec": {
   "display_name": "Python 3",
   "language": "python",
   "name": "python3"
  },
  "language_info": {
   "codemirror_mode": {
    "name": "ipython",
    "version": 3
   },
   "file_extension": ".py",
   "mimetype": "text/x-python",
   "name": "python",
   "nbconvert_exporter": "python",
   "pygments_lexer": "ipython3",
   "version": "3.8.8"
  }
 },
 "nbformat": 4,
 "nbformat_minor": 5
}
